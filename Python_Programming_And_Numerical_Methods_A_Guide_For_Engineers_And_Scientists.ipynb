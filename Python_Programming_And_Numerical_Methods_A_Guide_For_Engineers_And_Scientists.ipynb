{
  "nbformat": 4,
  "nbformat_minor": 0,
  "metadata": {
    "colab": {
      "name": "Python Programming And Numerical Methods: A Guide For Engineers And Scientists.ipynb",
      "provenance": [],
      "collapsed_sections": [],
      "toc_visible": true,
      "include_colab_link": true
    },
    "kernelspec": {
      "name": "python3",
      "display_name": "Python 3"
    },
    "language_info": {
      "name": "python"
    }
  },
  "cells": [
    {
      "cell_type": "markdown",
      "metadata": {
        "id": "view-in-github",
        "colab_type": "text"
      },
      "source": [
        "<a href=\"https://colab.research.google.com/github/ngg2000/Vanadium-Redox-Battery/blob/main/Python_Programming_And_Numerical_Methods_A_Guide_For_Engineers_And_Scientists.ipynb\" target=\"_parent\"><img src=\"https://colab.research.google.com/assets/colab-badge.svg\" alt=\"Open In Colab\"/></a>"
      ]
    },
    {
      "cell_type": "markdown",
      "metadata": {
        "id": "hR9WEXMqhINa"
      },
      "source": [
        "#<h1>Chapter 1: Python basics</h1>\n",
        "\n"
      ]
    },
    {
      "cell_type": "markdown",
      "metadata": {
        "id": "fVJMnq6th5ry"
      },
      "source": [
        "### Problem 1. \n",
        "\n",
        "Print “I love Python” using Python Shell."
      ]
    },
    {
      "cell_type": "code",
      "metadata": {
        "colab": {
          "base_uri": "https://localhost:8080/"
        },
        "id": "Fgc9fiqhDmwq",
        "outputId": "1b868cfb-9cb4-4652-b12e-e6454e8028ce"
      },
      "source": [
        "print('I love Python')"
      ],
      "execution_count": null,
      "outputs": [
        {
          "output_type": "stream",
          "text": [
            "I love Python\n"
          ],
          "name": "stdout"
        }
      ]
    },
    {
      "cell_type": "markdown",
      "metadata": {
        "id": "i55_ZwWDiE8F"
      },
      "source": [
        "### Problem 2. "
      ]
    },
    {
      "cell_type": "markdown",
      "metadata": {
        "id": "N50pstqIEAq4"
      },
      "source": [
        "Print “I love Python” by typing it into a .py file and run it from command line."
      ]
    },
    {
      "cell_type": "code",
      "metadata": {
        "colab": {
          "base_uri": "https://localhost:8080/"
        },
        "id": "D_g-5HBRECa_",
        "outputId": "59a44302-95bc-47b8-ae19-cb72e0e25b18"
      },
      "source": [
        "print('I love Python')"
      ],
      "execution_count": null,
      "outputs": [
        {
          "output_type": "stream",
          "text": [
            "I love Python\n"
          ],
          "name": "stdout"
        }
      ]
    },
    {
      "cell_type": "markdown",
      "metadata": {
        "id": "NMdJxBZqEd2r"
      },
      "source": [
        "### Problem 3"
      ]
    },
    {
      "cell_type": "markdown",
      "metadata": {
        "id": "4dirtXgLEvEL"
      },
      "source": [
        "Type import antigravity in the Ipython Shell, it will take you to xkcd and see the awesome Python."
      ]
    },
    {
      "cell_type": "code",
      "metadata": {
        "id": "22MmbNhmEvpP"
      },
      "source": [
        "import antigravity"
      ],
      "execution_count": null,
      "outputs": []
    },
    {
      "cell_type": "markdown",
      "metadata": {
        "id": "ymJAj9owE9Sk"
      },
      "source": [
        "### Problem  4"
      ]
    },
    {
      "cell_type": "markdown",
      "metadata": {
        "id": "vMQZMKptFAKT"
      },
      "source": [
        "Launch a new Jupyter notebook server in a folder called “excercis” and create a new Python notebook with the name “excercis_1”, then you can do the rest of the problems within this notebook."
      ]
    },
    {
      "cell_type": "markdown",
      "metadata": {
        "id": "SU-N96xgFHIb"
      },
      "source": [
        "* Unable to do it: i'm working in Colab."
      ]
    },
    {
      "cell_type": "markdown",
      "metadata": {
        "id": "IBXaoqxyFUir"
      },
      "source": [
        "### Problem 5"
      ]
    },
    {
      "cell_type": "markdown",
      "metadata": {
        "id": "dIBOKLnCFbh2"
      },
      "source": [
        "Compute the area of a triangle with base 10 and height 12. Recall that the area of a triangle is half the base times the height"
      ]
    },
    {
      "cell_type": "code",
      "metadata": {
        "colab": {
          "base_uri": "https://localhost:8080/"
        },
        "id": "GHRGkrdSFciV",
        "outputId": "93f99109-794e-4b4b-b2fa-1d70f0ac4020"
      },
      "source": [
        "b = 10;\n",
        "h = 12;\n",
        "a = 0.5*b*h;\n",
        "print('The area of a triangle is' , str(a) , )"
      ],
      "execution_count": null,
      "outputs": [
        {
          "output_type": "stream",
          "text": [
            "The area of a triangle is 60.0\n"
          ],
          "name": "stdout"
        }
      ]
    },
    {
      "cell_type": "markdown",
      "metadata": {
        "id": "YvUoNTWFFyUS"
      },
      "source": [
        "### Problem 6"
      ]
    },
    {
      "cell_type": "markdown",
      "metadata": {
        "id": "7ghG4m9SF-4z"
      },
      "source": [
        "Compute the surface area and volume of a cylinder with radius 5 and height 3"
      ]
    },
    {
      "cell_type": "code",
      "metadata": {
        "id": "GGetWbVVGJek"
      },
      "source": [
        "r = 5;\n",
        "h = 3;\n",
        "import math"
      ],
      "execution_count": null,
      "outputs": []
    },
    {
      "cell_type": "markdown",
      "metadata": {
        "id": "8ZoWhVPZGFsV"
      },
      "source": [
        "* Area of a cylinder"
      ]
    },
    {
      "cell_type": "code",
      "metadata": {
        "colab": {
          "base_uri": "https://localhost:8080/"
        },
        "id": "ulv495EFGrLy",
        "outputId": "1dab60d1-6631-4997-95b7-6c2b8d427cc9"
      },
      "source": [
        "a = 2 * math.pi * r**2 + 2 * math.pi * r * h\n",
        "print('The surface area of a cylinder is' , str(a), )"
      ],
      "execution_count": null,
      "outputs": [
        {
          "output_type": "stream",
          "text": [
            "The surface area of a cylinder is 251.32741228718345\n"
          ],
          "name": "stdout"
        }
      ]
    },
    {
      "cell_type": "markdown",
      "metadata": {
        "id": "ga3-uvIsGSLy"
      },
      "source": [
        "* Volume of a cylinder"
      ]
    },
    {
      "cell_type": "code",
      "metadata": {
        "colab": {
          "base_uri": "https://localhost:8080/"
        },
        "id": "JCAcJBiqFuKt",
        "outputId": "21135085-6d02-4fdc-dbdc-9ec18406946c"
      },
      "source": [
        "v = math.pi  * r**2 * h\n",
        "print('The volume of a cylinder is' , str(v) , )"
      ],
      "execution_count": null,
      "outputs": [
        {
          "output_type": "stream",
          "text": [
            "The volume of a cylinder is 235.61944901923448\n"
          ],
          "name": "stdout"
        }
      ]
    },
    {
      "cell_type": "markdown",
      "metadata": {
        "id": "0X4PCfT9HQ6C"
      },
      "source": [
        "### Problem 7"
      ]
    },
    {
      "cell_type": "markdown",
      "metadata": {
        "id": "agaM4-xHHSwV"
      },
      "source": [
        "Compute the slope between the points (3,4) and (5,9). Recall that the slope between points $(x_1,y_1)$ and $(x_2,y_2)$ is $\\frac{y_2−y_1}{x_2−x_1}$"
      ]
    },
    {
      "cell_type": "code",
      "metadata": {
        "colab": {
          "base_uri": "https://localhost:8080/"
        },
        "id": "Uamv37WMGeGv",
        "outputId": "2a2db8a9-1c3a-4ed9-a4bb-b598c9ac23f3"
      },
      "source": [
        "x1 = 3\n",
        "x2 = 5\n",
        "y1 = 4\n",
        "y2 = 9\n",
        "m = 1 / ((x2 - x1) / (y2 - y1))\n",
        "print('The slope between the points (3,4) and (5,9) is' , str(m) , )"
      ],
      "execution_count": null,
      "outputs": [
        {
          "output_type": "stream",
          "text": [
            "The slope between the points (3,4) and (5,9) is 2.5\n"
          ],
          "name": "stdout"
        }
      ]
    },
    {
      "cell_type": "markdown",
      "metadata": {
        "id": "ESh9kDc2IPNm"
      },
      "source": [
        "### Problem 8"
      ]
    },
    {
      "cell_type": "markdown",
      "metadata": {
        "id": "v7vrpI6PITyv"
      },
      "source": [
        "Compute the distance between the points (3,4) and (5,9). Recall that the distance between points in two dimensions is $\\sqrt{(x_2−x_1)^2+(y_2−y_1)^2}$."
      ]
    },
    {
      "cell_type": "code",
      "metadata": {
        "colab": {
          "base_uri": "https://localhost:8080/"
        },
        "id": "LHLiF-PHH85s",
        "outputId": "8fc03dfb-4847-4f3b-b520-400d0bd92df1"
      },
      "source": [
        "d = math.sqrt((x2 - x1)**2 + (y2 - y1)**2)\n",
        "print('The distance between the points (3,4) and (5,9) is' , str(d) , )"
      ],
      "execution_count": null,
      "outputs": [
        {
          "output_type": "stream",
          "text": [
            "The distance between the points (3,4) and (5,9) is 5.385164807134504\n"
          ],
          "name": "stdout"
        }
      ]
    },
    {
      "cell_type": "markdown",
      "metadata": {
        "id": "GpZ3ThN4I-eM"
      },
      "source": [
        "### Problem 9"
      ]
    },
    {
      "cell_type": "markdown",
      "metadata": {
        "id": "wn7YrksKJCmY"
      },
      "source": [
        "Use Python’s factorial function to compute $6!$"
      ]
    },
    {
      "cell_type": "code",
      "metadata": {
        "colab": {
          "base_uri": "https://localhost:8080/"
        },
        "id": "NzJCU31-Izg7",
        "outputId": "0ac10e0e-16bd-4524-f6fa-13c6d9d36b73"
      },
      "source": [
        "fac = math.factorial(6)\n",
        "print('6! = ' , str(fac) , )"
      ],
      "execution_count": null,
      "outputs": [
        {
          "output_type": "stream",
          "text": [
            "6! =  720\n"
          ],
          "name": "stdout"
        }
      ]
    },
    {
      "cell_type": "markdown",
      "metadata": {
        "id": "YsQiJ2J-Jfcd"
      },
      "source": [
        "### Problem 10"
      ]
    },
    {
      "cell_type": "markdown",
      "metadata": {
        "id": "kk9J9zbgJsO7"
      },
      "source": [
        "A year is considered to be 365 days long. However, a more exact figure is 365.24 days. As a consequence, if we held to the standard 365-day year, we would gradually lose that fraction of the day over time, and seasons and other astronomical events would not occur as expected. A leap year is a year that has an extra day, February 29, to keep the timescale on track. Leap years occur on years that are exactly divisible by 4, unless it is exactly divisible by 100, unless it is divisible by 400. For example, the year 2004 is a leap year, the year 1900 is not a leap year, and the year 2000 is a leap year.\n",
        "Compute the number of leap years between the years 1500 and 2010."
      ]
    },
    {
      "cell_type": "markdown",
      "metadata": {
        "id": "bRKyzGOzLbu5"
      },
      "source": [
        "1. Let's start by defining the years between 1500 and 2010:"
      ]
    },
    {
      "cell_type": "code",
      "metadata": {
        "colab": {
          "base_uri": "https://localhost:8080/"
        },
        "id": "qN46J82mJgEY",
        "outputId": "0ab85d72-ae60-48e8-e373-08ad82091d45"
      },
      "source": [
        "2010-1500"
      ],
      "execution_count": null,
      "outputs": [
        {
          "output_type": "execute_result",
          "data": {
            "text/plain": [
              "510"
            ]
          },
          "metadata": {
            "tags": []
          },
          "execution_count": 13
        }
      ]
    },
    {
      "cell_type": "markdown",
      "metadata": {
        "id": "V6au0m2RLt9d"
      },
      "source": [
        "2. Then, the number of leap years is the entire part of $\\frac{510}{4}$ "
      ]
    },
    {
      "cell_type": "code",
      "metadata": {
        "colab": {
          "base_uri": "https://localhost:8080/"
        },
        "id": "59nFxh9BLs9C",
        "outputId": "6e6df63b-3332-4afa-ca10-69dff4228456"
      },
      "source": [
        "510/4"
      ],
      "execution_count": null,
      "outputs": [
        {
          "output_type": "execute_result",
          "data": {
            "text/plain": [
              "127.5"
            ]
          },
          "metadata": {
            "tags": []
          },
          "execution_count": 14
        }
      ]
    },
    {
      "cell_type": "markdown",
      "metadata": {
        "id": "Bq7cIOrGMCeO"
      },
      "source": [
        "3. Answer: the number of leap years between 1500 and 2010 is 127 years."
      ]
    },
    {
      "cell_type": "markdown",
      "metadata": {
        "id": "rICTJqtDMNqr"
      },
      "source": [
        "### Problem 11"
      ]
    },
    {
      "cell_type": "markdown",
      "metadata": {
        "id": "7COnbOPLMTxd"
      },
      "source": [
        "A very powerful approximation for π was developed by a brilliant mathematician named Srinivasa Ramanujan. The approximation is the following:\n",
        "$\\frac{1}{π}≈\\frac{2\\sqrt{2}}{9801} ∑^N_{k=0}\\frac{(4k)!(1103+26390k)}{(k!)^4 396^{4k}}$\n",
        "Use Ramanujan’s formula for $N=0$ and $N=1$ to approximate π. Be sure to use format long. Compare your approximation with Python’s stored value for pi. Hint: $0!=1$ by definition."
      ]
    },
    {
      "cell_type": "markdown",
      "metadata": {
        "id": "Hxy1cHPmNgmE"
      },
      "source": [
        "* Ramanujan's formula:"
      ]
    },
    {
      "cell_type": "code",
      "metadata": {
        "colab": {
          "base_uri": "https://localhost:8080/"
        },
        "id": "_4DnCEeKL9-n",
        "outputId": "5266d194-fbed-4e6d-8142-a95b28b6850c"
      },
      "source": [
        "piinv=0\n",
        "for i in range(0,2):\n",
        "  piinv=piinv+(math.factorial(4*i)*(1103+26390*i)/(((math.factorial(i))**4)*math.pow(396,4*i)))\n",
        "\n",
        "1/(2*(math.sqrt(2)/9801)*piinv)"
      ],
      "execution_count": null,
      "outputs": [
        {
          "output_type": "execute_result",
          "data": {
            "text/plain": [
              "3.1415926535897936"
            ]
          },
          "metadata": {
            "tags": []
          },
          "execution_count": 15
        }
      ]
    },
    {
      "cell_type": "markdown",
      "metadata": {
        "id": "KSaFfpioNWv5"
      },
      "source": [
        "* Comparing my aproximation with Python's stored value for pi:"
      ]
    },
    {
      "cell_type": "code",
      "metadata": {
        "colab": {
          "base_uri": "https://localhost:8080/"
        },
        "id": "SfPzWKenNGMc",
        "outputId": "7a878b6e-5d28-4e62-e73e-7b6a926347cd"
      },
      "source": [
        "math.pi - 1/(2*(math.sqrt(2)/9801)*piinv)"
      ],
      "execution_count": null,
      "outputs": [
        {
          "output_type": "execute_result",
          "data": {
            "text/plain": [
              "-4.440892098500626e-16"
            ]
          },
          "metadata": {
            "tags": []
          },
          "execution_count": 16
        }
      ]
    },
    {
      "cell_type": "markdown",
      "metadata": {
        "id": "_y_LhxcsNmoz"
      },
      "source": [
        "### Problem 12"
      ]
    },
    {
      "cell_type": "markdown",
      "metadata": {
        "id": "mr3x-GLJNvxb"
      },
      "source": [
        "The hyperbolic sin or sinh is defined in terms of exponentials as $sinh(x)=\\frac{exp(x)−exp(−x)}{2}$.\n",
        "Compute sinh for $x=2$ using exponentials. Verify that the result is indeed the hyperbolic sin using Python’s function sinh in the math module."
      ]
    },
    {
      "cell_type": "markdown",
      "metadata": {
        "id": "A4QwBccrPrwu"
      },
      "source": [
        "* Computing $sinh(x)|_{x=2}$ :"
      ]
    },
    {
      "cell_type": "code",
      "metadata": {
        "colab": {
          "base_uri": "https://localhost:8080/"
        },
        "id": "B-5BHFg2NUyC",
        "outputId": "f6d578e4-2bbb-4b83-941e-ca8fc81cb1f5"
      },
      "source": [
        "sinh2 = 0.5 * (math.exp(2) - math.exp(-2))\n",
        "sinh2"
      ],
      "execution_count": null,
      "outputs": [
        {
          "output_type": "execute_result",
          "data": {
            "text/plain": [
              "3.626860407847019"
            ]
          },
          "metadata": {
            "tags": []
          },
          "execution_count": 17
        }
      ]
    },
    {
      "cell_type": "markdown",
      "metadata": {
        "id": "zJ6WXTOTPje-"
      },
      "source": [
        "- Verification"
      ]
    },
    {
      "cell_type": "code",
      "metadata": {
        "colab": {
          "base_uri": "https://localhost:8080/"
        },
        "id": "RlJJRK8XPft_",
        "outputId": "487dff11-1c00-4269-c52d-4feb6cb32b20"
      },
      "source": [
        "sinh2 - math.sinh(2)"
      ],
      "execution_count": null,
      "outputs": [
        {
          "output_type": "execute_result",
          "data": {
            "text/plain": [
              "0.0"
            ]
          },
          "metadata": {
            "tags": []
          },
          "execution_count": 18
        }
      ]
    },
    {
      "cell_type": "markdown",
      "metadata": {
        "id": "c3BS1mKsP9er"
      },
      "source": [
        "### Problem 13"
      ]
    },
    {
      "cell_type": "markdown",
      "metadata": {
        "id": "ywLW_RzgQLl7"
      },
      "source": [
        "Verify that $sin^2(x) + cos^2(x)=1$ for $x=π,\\frac{π}{2},\\frac{π}{4},\\frac{π}{6}$."
      ]
    },
    {
      "cell_type": "markdown",
      "metadata": {
        "id": "HKFqOeYAQwLd"
      },
      "source": [
        "$x = \\pi$"
      ]
    },
    {
      "cell_type": "code",
      "metadata": {
        "colab": {
          "base_uri": "https://localhost:8080/"
        },
        "id": "MgGUzQR6PiQf",
        "outputId": "d61c7693-4b8d-462d-c220-bee52d7062de"
      },
      "source": [
        "math.sin(math.pi)**2 + math.cos(math.pi)**2"
      ],
      "execution_count": null,
      "outputs": [
        {
          "output_type": "execute_result",
          "data": {
            "text/plain": [
              "1.0"
            ]
          },
          "metadata": {
            "tags": []
          },
          "execution_count": 19
        }
      ]
    },
    {
      "cell_type": "markdown",
      "metadata": {
        "id": "4OIOjRZIQzAi"
      },
      "source": [
        "$x = \\frac{\\pi}{2}$"
      ]
    },
    {
      "cell_type": "code",
      "metadata": {
        "colab": {
          "base_uri": "https://localhost:8080/"
        },
        "id": "ZFshve_DQogA",
        "outputId": "f73c274d-4a89-4674-a8ce-c263c1638a6a"
      },
      "source": [
        "math.sin(1/2*math.pi)**2 + math.cos(1/2*math.pi)**2"
      ],
      "execution_count": null,
      "outputs": [
        {
          "output_type": "execute_result",
          "data": {
            "text/plain": [
              "1.0"
            ]
          },
          "metadata": {
            "tags": []
          },
          "execution_count": 20
        }
      ]
    },
    {
      "cell_type": "markdown",
      "metadata": {
        "id": "eSUIdsMXQ8CQ"
      },
      "source": [
        "$x = \\frac{\\pi}{4}$"
      ]
    },
    {
      "cell_type": "code",
      "metadata": {
        "colab": {
          "base_uri": "https://localhost:8080/"
        },
        "id": "BAhEBO-WQu85",
        "outputId": "05474e72-0b49-4243-86d4-81dbd54b93ea"
      },
      "source": [
        "math.sin(1/4*math.pi)**2 + math.cos(1/4*math.pi)**2"
      ],
      "execution_count": null,
      "outputs": [
        {
          "output_type": "execute_result",
          "data": {
            "text/plain": [
              "1.0"
            ]
          },
          "metadata": {
            "tags": []
          },
          "execution_count": 21
        }
      ]
    },
    {
      "cell_type": "markdown",
      "metadata": {
        "id": "ksGXAAc8RAk1"
      },
      "source": [
        "$x = \\frac{\\pi}{6}$"
      ]
    },
    {
      "cell_type": "code",
      "metadata": {
        "colab": {
          "base_uri": "https://localhost:8080/"
        },
        "id": "Z-lkENp1Q7QU",
        "outputId": "59a353ba-9ba8-4b0f-d12f-1e8e1d76e2cd"
      },
      "source": [
        "math.sin(1/6*math.pi)**2 + math.cos(1/6*math.pi)**2"
      ],
      "execution_count": null,
      "outputs": [
        {
          "output_type": "execute_result",
          "data": {
            "text/plain": [
              "1.0"
            ]
          },
          "metadata": {
            "tags": []
          },
          "execution_count": 22
        }
      ]
    },
    {
      "cell_type": "markdown",
      "metadata": {
        "id": "NeBFHXyARLA3"
      },
      "source": [
        "### Problem 14"
      ]
    },
    {
      "cell_type": "markdown",
      "metadata": {
        "id": "2d3cOhxrRSPy"
      },
      "source": [
        "Compute the $sin \\ 87°$."
      ]
    },
    {
      "cell_type": "code",
      "metadata": {
        "colab": {
          "base_uri": "https://localhost:8080/"
        },
        "id": "KXIJoETdRE8L",
        "outputId": "42069ed7-a000-4df4-fcfc-93b08269ab00"
      },
      "source": [
        "s87 = math.sin(math.radians(87))\n",
        "print('The sin of 87º is ' , str(s87) , )"
      ],
      "execution_count": null,
      "outputs": [
        {
          "output_type": "stream",
          "text": [
            "The sin of 87º is  0.9986295347545738\n"
          ],
          "name": "stdout"
        }
      ]
    },
    {
      "cell_type": "markdown",
      "metadata": {
        "id": "VgOKLrK1RyWE"
      },
      "source": [
        "### Problem 15"
      ]
    },
    {
      "cell_type": "markdown",
      "metadata": {
        "id": "Izyuj4oOR7GE"
      },
      "source": [
        "Write a Python statement that generates the following error:\n",
        "“AttributeError: module ‘math’ has no attribute ‘sni’”\n",
        "\n",
        "Hint: sni is a misspelling of the function sin."
      ]
    },
    {
      "cell_type": "code",
      "metadata": {
        "colab": {
          "base_uri": "https://localhost:8080/",
          "height": 163
        },
        "id": "DARlXfmQRtnH",
        "outputId": "3937e8c2-3eaf-4441-8334-253f0e9fa8d9"
      },
      "source": [
        "math.sni(math.pi * 1/2)"
      ],
      "execution_count": null,
      "outputs": [
        {
          "output_type": "error",
          "ename": "AttributeError",
          "evalue": "ignored",
          "traceback": [
            "\u001b[0;31m---------------------------------------------------------------------------\u001b[0m",
            "\u001b[0;31mAttributeError\u001b[0m                            Traceback (most recent call last)",
            "\u001b[0;32m<ipython-input-24-7635e51f6a4f>\u001b[0m in \u001b[0;36m<module>\u001b[0;34m()\u001b[0m\n\u001b[0;32m----> 1\u001b[0;31m \u001b[0mmath\u001b[0m\u001b[0;34m.\u001b[0m\u001b[0msni\u001b[0m\u001b[0;34m(\u001b[0m\u001b[0mmath\u001b[0m\u001b[0;34m.\u001b[0m\u001b[0mpi\u001b[0m \u001b[0;34m*\u001b[0m \u001b[0;36m1\u001b[0m\u001b[0;34m/\u001b[0m\u001b[0;36m2\u001b[0m\u001b[0;34m)\u001b[0m\u001b[0;34m\u001b[0m\u001b[0;34m\u001b[0m\u001b[0m\n\u001b[0m",
            "\u001b[0;31mAttributeError\u001b[0m: module 'math' has no attribute 'sni'"
          ]
        }
      ]
    },
    {
      "cell_type": "markdown",
      "metadata": {
        "id": "KHSGH3h-SE-G"
      },
      "source": [
        "### Problem 16"
      ]
    },
    {
      "cell_type": "markdown",
      "metadata": {
        "id": "t7fZoc1ASHQI"
      },
      "source": [
        "Write a Python statement that generates the following error:\n",
        "“TypeError: sin() takes exactly one argument (0 given)”\n",
        "\n",
        "Hint: Input arguments refers to the input of a function (any function); for example, the input in sin(pi/2) is pi/2."
      ]
    },
    {
      "cell_type": "code",
      "metadata": {
        "colab": {
          "base_uri": "https://localhost:8080/",
          "height": 163
        },
        "id": "8G9fHmTuSCv7",
        "outputId": "2381c770-58bf-40c7-8577-ab60b2865a02"
      },
      "source": [
        "math.sin()"
      ],
      "execution_count": null,
      "outputs": [
        {
          "output_type": "error",
          "ename": "TypeError",
          "evalue": "ignored",
          "traceback": [
            "\u001b[0;31m---------------------------------------------------------------------------\u001b[0m",
            "\u001b[0;31mTypeError\u001b[0m                                 Traceback (most recent call last)",
            "\u001b[0;32m<ipython-input-25-7e1567d2e0b3>\u001b[0m in \u001b[0;36m<module>\u001b[0;34m()\u001b[0m\n\u001b[0;32m----> 1\u001b[0;31m \u001b[0mmath\u001b[0m\u001b[0;34m.\u001b[0m\u001b[0msin\u001b[0m\u001b[0;34m(\u001b[0m\u001b[0;34m)\u001b[0m\u001b[0;34m\u001b[0m\u001b[0;34m\u001b[0m\u001b[0m\n\u001b[0m",
            "\u001b[0;31mTypeError\u001b[0m: sin() takes exactly one argument (0 given)"
          ]
        }
      ]
    },
    {
      "cell_type": "markdown",
      "metadata": {
        "id": "MPp-DBlPSSu2"
      },
      "source": [
        "### Problem 17"
      ]
    },
    {
      "cell_type": "markdown",
      "metadata": {
        "id": "ylHKnPdzSV74"
      },
      "source": [
        "If $P$ is a logical expression, the law of noncontradiction states that $P \\ AND \\ (NOT \\ P)$ is always false. Verify this for $P$ true and $P$ false."
      ]
    },
    {
      "cell_type": "code",
      "metadata": {
        "colab": {
          "base_uri": "https://localhost:8080/"
        },
        "id": "OIHabcWUSPut",
        "outputId": "59c29072-6415-494b-fcfc-fc36ceeea9a9"
      },
      "source": [
        "P = 1\n",
        "P and (not P)"
      ],
      "execution_count": null,
      "outputs": [
        {
          "output_type": "execute_result",
          "data": {
            "text/plain": [
              "False"
            ]
          },
          "metadata": {
            "tags": []
          },
          "execution_count": 26
        }
      ]
    },
    {
      "cell_type": "code",
      "metadata": {
        "colab": {
          "base_uri": "https://localhost:8080/"
        },
        "id": "Zonf3ZMlSvT_",
        "outputId": "e48fec83-7334-428b-f7ba-fe1988b7f1dc"
      },
      "source": [
        "P = 0\n",
        "P and (not P)"
      ],
      "execution_count": null,
      "outputs": [
        {
          "output_type": "execute_result",
          "data": {
            "text/plain": [
              "0"
            ]
          },
          "metadata": {
            "tags": []
          },
          "execution_count": 27
        }
      ]
    },
    {
      "cell_type": "markdown",
      "metadata": {
        "id": "PeGpfG0hSzju"
      },
      "source": [
        "### Problem 18"
      ]
    },
    {
      "cell_type": "markdown",
      "metadata": {
        "id": "XWD9F8y1TCtD"
      },
      "source": [
        "Let $P$ and $Q$ be logical expressions. De Morgan’s rule states that $NOT \\ (P \\ OR \\ Q) \\ = \\ (NOT \\ P) \\ AND \\ (NOT \\ Q)$ and $NOT \\ (P \\ AND \\ Q) \\ = \\ (NOT \\ P) \\ OR \\ (NOT \\ Q)$. Generate the truth tables for each statement to show that De Morgan’s rule is always true."
      ]
    },
    {
      "cell_type": "code",
      "metadata": {
        "colab": {
          "base_uri": "https://localhost:8080/"
        },
        "id": "95KLXUw2SxoZ",
        "outputId": "a18ac4ba-a166-451e-ff21-09de5c99db2b"
      },
      "source": [
        "for p in range(0,2):\n",
        "  for q in range (0,2):\n",
        "    print(\"Para p = \" + str(p) + \" y q = \" + str(q))\n",
        "    print(\"Verifico 1º Ley: not (p or q) = not p and not q\")\n",
        "    print(not (p or q))\n",
        "    print((not p and not q))\n",
        "    print(\"Verifico 2º Ley: not (p and q) = not p or not q\")\n",
        "    print(not (p and q))\n",
        "    print((not p) or (not q))"
      ],
      "execution_count": null,
      "outputs": [
        {
          "output_type": "stream",
          "text": [
            "Para p = 0 y q = 0\n",
            "Verifico 1º Ley: not (p or q) = not p and not q\n",
            "True\n",
            "True\n",
            "Verifico 2º Ley: not (p and q) = not p or not q\n",
            "True\n",
            "True\n",
            "Para p = 0 y q = 1\n",
            "Verifico 1º Ley: not (p or q) = not p and not q\n",
            "False\n",
            "False\n",
            "Verifico 2º Ley: not (p and q) = not p or not q\n",
            "True\n",
            "True\n",
            "Para p = 1 y q = 0\n",
            "Verifico 1º Ley: not (p or q) = not p and not q\n",
            "False\n",
            "False\n",
            "Verifico 2º Ley: not (p and q) = not p or not q\n",
            "True\n",
            "True\n",
            "Para p = 1 y q = 1\n",
            "Verifico 1º Ley: not (p or q) = not p and not q\n",
            "False\n",
            "False\n",
            "Verifico 2º Ley: not (p and q) = not p or not q\n",
            "False\n",
            "False\n"
          ],
          "name": "stdout"
        }
      ]
    },
    {
      "cell_type": "markdown",
      "metadata": {
        "id": "AeV1BZMuTmwL"
      },
      "source": [
        "### Problem 19"
      ]
    },
    {
      "cell_type": "markdown",
      "metadata": {
        "id": "Z-xMjMMcTp_L"
      },
      "source": [
        "Under what conditions for $P$ and $Q$ is $(P \\ AND \\ Q) \\ OR \\ [P \\ AND \\ (NOT \\ Q)]$ false?"
      ]
    },
    {
      "cell_type": "code",
      "metadata": {
        "colab": {
          "base_uri": "https://localhost:8080/"
        },
        "id": "Phxi5V_XTenE",
        "outputId": "de459110-b467-417f-865a-c0dc6fc77a68"
      },
      "source": [
        "for p in range(0,2):\n",
        "  for q in range (0,2):\n",
        "    print(\"Para p = \" + str(p) + \" y q = \" + str(q))\n",
        "    print(\"Verifico que (p and q) or [p and (not q)] sea falsa\")\n",
        "    print(not (p or q) or (p and (not q)))"
      ],
      "execution_count": null,
      "outputs": [
        {
          "output_type": "stream",
          "text": [
            "Para p = 0 y q = 0\n",
            "Verifico que (p and q) or [p and (not q)] sea falsa\n",
            "True\n",
            "Para p = 0 y q = 1\n",
            "Verifico que (p and q) or [p and (not q)] sea falsa\n",
            "0\n",
            "Para p = 1 y q = 0\n",
            "Verifico que (p and q) or [p and (not q)] sea falsa\n",
            "True\n",
            "Para p = 1 y q = 1\n",
            "Verifico que (p and q) or [p and (not q)] sea falsa\n",
            "False\n"
          ],
          "name": "stdout"
        }
      ]
    },
    {
      "cell_type": "markdown",
      "metadata": {
        "id": "OVnqei85VDH4"
      },
      "source": [
        "P             | Q             | (P  AND  Q) OR [P AND (NOT Q)]\n",
        "--------------|---------------|-----------------------------------------------\n",
        "0             | 0             | True\n",
        "0             | 1             | False\n",
        "1             | 0             | True\n",
        "1             | 1             | False"
      ]
    },
    {
      "cell_type": "markdown",
      "metadata": {
        "id": "_YEKHacpXia7"
      },
      "source": [
        "### Problem 20"
      ]
    },
    {
      "cell_type": "markdown",
      "metadata": {
        "id": "gcmdq-2sXlaV"
      },
      "source": [
        "Construct an equivalent logical expression for OR using only AND and NOT."
      ]
    },
    {
      "cell_type": "markdown",
      "metadata": {
        "id": "ChmzSX40YK8g"
      },
      "source": [
        "Using logical expression OR:"
      ]
    },
    {
      "cell_type": "code",
      "metadata": {
        "colab": {
          "base_uri": "https://localhost:8080/"
        },
        "id": "-J-X1f8-WO9C",
        "outputId": "b0c2de87-f03d-4dce-f9e2-0052fa966f4d"
      },
      "source": [
        "for p in range(0,2):\n",
        "  for q in range (0,2):\n",
        "    print(\"Para p = \" + str(p) + \" y q = \" + str(q))\n",
        "    print(p or q)"
      ],
      "execution_count": null,
      "outputs": [
        {
          "output_type": "stream",
          "text": [
            "Para p = 0 y q = 0\n",
            "0\n",
            "Para p = 0 y q = 1\n",
            "1\n",
            "Para p = 1 y q = 0\n",
            "1\n",
            "Para p = 1 y q = 1\n",
            "1\n"
          ],
          "name": "stdout"
        }
      ]
    },
    {
      "cell_type": "markdown",
      "metadata": {
        "id": "a7MTBDzcY57h"
      },
      "source": [
        "Using $NOT \\ [(NOT \\ P) \\ AND \\ (NOT \\ Q)] $\n",
        "\n",
        "(Taken from De Morgan's rule)"
      ]
    },
    {
      "cell_type": "code",
      "metadata": {
        "colab": {
          "base_uri": "https://localhost:8080/"
        },
        "id": "0OBGKrjzYFs1",
        "outputId": "df1a71be-6e72-45de-b1d2-12ebfb55a37f"
      },
      "source": [
        "for p in range(0,2):\n",
        "  for q in range (0,2):\n",
        "    print(\"Para p = \" + str(p) + \" y q = \" + str(q))\n",
        "    print(not((not p) and (not q)))"
      ],
      "execution_count": null,
      "outputs": [
        {
          "output_type": "stream",
          "text": [
            "Para p = 0 y q = 0\n",
            "False\n",
            "Para p = 0 y q = 1\n",
            "True\n",
            "Para p = 1 y q = 0\n",
            "True\n",
            "Para p = 1 y q = 1\n",
            "True\n"
          ],
          "name": "stdout"
        }
      ]
    },
    {
      "cell_type": "markdown",
      "metadata": {
        "id": "RDReKewuZIPt"
      },
      "source": [
        "Successfully completed."
      ]
    },
    {
      "cell_type": "markdown",
      "metadata": {
        "id": "d8ZS8onyZMgd"
      },
      "source": [
        "### Problem 21"
      ]
    },
    {
      "cell_type": "markdown",
      "metadata": {
        "id": "p2GsBH74ZaHN"
      },
      "source": [
        "Construct an equivalent logical expression for AND using only OR and NOT"
      ]
    },
    {
      "cell_type": "markdown",
      "metadata": {
        "id": "GNOyLTHxZ1Jr"
      },
      "source": [
        "Using $P \\ AND \\ Q$"
      ]
    },
    {
      "cell_type": "code",
      "metadata": {
        "colab": {
          "base_uri": "https://localhost:8080/"
        },
        "id": "2LRN_wuoYzH3",
        "outputId": "4d69cc41-a96f-49c8-e7a1-c3f1184616a4"
      },
      "source": [
        "for p in range(0,2):\n",
        "  for q in range (0,2):\n",
        "    print(\"Para p = \" + str(p) + \" y q = \" + str(q))\n",
        "    print(p and q)"
      ],
      "execution_count": null,
      "outputs": [
        {
          "output_type": "stream",
          "text": [
            "Para p = 0 y q = 0\n",
            "0\n",
            "Para p = 0 y q = 1\n",
            "0\n",
            "Para p = 1 y q = 0\n",
            "0\n",
            "Para p = 1 y q = 1\n",
            "1\n"
          ],
          "name": "stdout"
        }
      ]
    },
    {
      "cell_type": "markdown",
      "metadata": {
        "id": "d6KvvIYWZ7Cx"
      },
      "source": [
        "Using $NOT \\ [(NOT \\ P) \\ OR \\ (NOT \\ Q)] $\n",
        "\n",
        "(Taken from De Morgan's rule)"
      ]
    },
    {
      "cell_type": "code",
      "metadata": {
        "colab": {
          "base_uri": "https://localhost:8080/"
        },
        "id": "HHX6WbuLZq7I",
        "outputId": "44ac30a0-a4b1-4f29-e6db-cdc33e87f8ee"
      },
      "source": [
        "for p in range(0,2):\n",
        "  for q in range (0,2):\n",
        "    print(\"Para p = \" + str(p) + \" y q = \" + str(q))\n",
        "    print(not((not p) or (not q)))"
      ],
      "execution_count": null,
      "outputs": [
        {
          "output_type": "stream",
          "text": [
            "Para p = 0 y q = 0\n",
            "False\n",
            "Para p = 0 y q = 1\n",
            "False\n",
            "Para p = 1 y q = 0\n",
            "False\n",
            "Para p = 1 y q = 1\n",
            "True\n"
          ],
          "name": "stdout"
        }
      ]
    },
    {
      "cell_type": "markdown",
      "metadata": {
        "id": "tEyt8LyeaQOM"
      },
      "source": [
        "### Problem 22"
      ]
    },
    {
      "cell_type": "markdown",
      "metadata": {
        "id": "3HM4evOLaS6O"
      },
      "source": [
        "The logical operator XOR has the following truth table:\n",
        "\n",
        "![image.png](data:image/png;base64,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)\n",
        "\n",
        "Construct an equivalent logical expression for XOR using only AND, OR, and NOT that has the same truth table (see the following figure)\n",
        "\n"
      ]
    },
    {
      "cell_type": "code",
      "metadata": {
        "colab": {
          "base_uri": "https://localhost:8080/"
        },
        "id": "7-QzVvGwZyLT",
        "outputId": "40413ee0-3ac6-4f95-c8e8-4ce1c255fe83"
      },
      "source": [
        "print(\"Se plantea que el comando equivalente al XOR es P and not Q\")\n",
        "for p in range(0,2):\n",
        "  for q in range (0,2):\n",
        "    print(\"Para P = \" + str(p) + \" y Q = \" + str(q))\n",
        "    print((p and not q) or (not p and q))"
      ],
      "execution_count": null,
      "outputs": [
        {
          "output_type": "stream",
          "text": [
            "Se plantea que el comando equivalente al XOR es P and not Q\n",
            "Para P = 0 y Q = 0\n",
            "0\n",
            "Para P = 0 y Q = 1\n",
            "1\n",
            "Para P = 1 y Q = 0\n",
            "True\n",
            "Para P = 1 y Q = 1\n",
            "False\n"
          ],
          "name": "stdout"
        }
      ]
    },
    {
      "cell_type": "markdown",
      "metadata": {
        "id": "fS-h3FoIbX7m"
      },
      "source": [
        "### Extra exercise 1"
      ]
    },
    {
      "cell_type": "markdown",
      "metadata": {
        "id": "aQsy4ONObatH"
      },
      "source": [
        "Do the following calculation at the Python command prompt.\n",
        "$e^2sin\\frac{π}{6}+log_e(3)cos(\\frac{π}{9})−5^3$"
      ]
    },
    {
      "cell_type": "code",
      "metadata": {
        "colab": {
          "base_uri": "https://localhost:8080/"
        },
        "id": "cr7x3HLBbuCJ",
        "outputId": "0ea17679-a296-4c08-d9d8-abbc43ff5190"
      },
      "source": [
        "math.exp(2) * math.sin(math.pi * 1/6) + math.log(3) * math.cos(math.pi *1/9) - 5**3"
      ],
      "execution_count": null,
      "outputs": [
        {
          "output_type": "execute_result",
          "data": {
            "text/plain": [
              "-120.27311408976854"
            ]
          },
          "metadata": {
            "tags": []
          },
          "execution_count": 35
        }
      ]
    },
    {
      "cell_type": "markdown",
      "metadata": {
        "id": "Rk7eGmBebT5Q"
      },
      "source": [
        "### Extra exercise 2"
      ]
    },
    {
      "cell_type": "markdown",
      "metadata": {
        "id": "j50VW5_Oa1b4"
      },
      "source": [
        "Do the following logical and comparison operations at the Python command prompt. You may assume that P and Q are logical expressions.\n",
        "\n",
        "For P = 1 and Q = 1; Compute NOT(P) AND NOT(Q).\n",
        "\n",
        "For a = 10 and b = 25; Compute (a<b) AND (a=b)."
      ]
    },
    {
      "cell_type": "code",
      "metadata": {
        "colab": {
          "base_uri": "https://localhost:8080/"
        },
        "id": "AlCw89ElbB9I",
        "outputId": "26e14f45-d5b4-4f86-9326-57dab45bcad5"
      },
      "source": [
        "p = 1\n",
        "q = 1\n",
        "(not p) and (not q)"
      ],
      "execution_count": null,
      "outputs": [
        {
          "output_type": "execute_result",
          "data": {
            "text/plain": [
              "False"
            ]
          },
          "metadata": {
            "tags": []
          },
          "execution_count": 36
        }
      ]
    },
    {
      "cell_type": "code",
      "metadata": {
        "colab": {
          "base_uri": "https://localhost:8080/"
        },
        "id": "8Cikt6VLanTa",
        "outputId": "e091ef00-d5e0-4415-c234-b590c0e1a9c5"
      },
      "source": [
        "a=10\n",
        "b=25\n",
        "(a<b) and (a == b)"
      ],
      "execution_count": null,
      "outputs": [
        {
          "output_type": "execute_result",
          "data": {
            "text/plain": [
              "False"
            ]
          },
          "metadata": {
            "tags": []
          },
          "execution_count": 37
        }
      ]
    },
    {
      "cell_type": "markdown",
      "metadata": {
        "id": "8c4WrVzucQzs"
      },
      "source": [
        "# Chapter 2: Variables and Basic Data Structures"
      ]
    },
    {
      "cell_type": "markdown",
      "metadata": {
        "id": "IwKrXBHCcvBI"
      },
      "source": [
        "1. Assign the value 2 to the variable x and the value 3 to the variable y. Clear just the variable x."
      ]
    },
    {
      "cell_type": "code",
      "metadata": {
        "colab": {
          "base_uri": "https://localhost:8080/"
        },
        "id": "vM0JP9IzbBA5",
        "outputId": "8e174403-6e35-4e29-a791-6fb488e287a9"
      },
      "source": [
        "x = 2\n",
        "y = 3\n",
        "print('x =' , str(x) , 'and y = ' , str(y) , )"
      ],
      "execution_count": null,
      "outputs": [
        {
          "output_type": "stream",
          "text": [
            "x = 2 and y =  3\n"
          ],
          "name": "stdout"
        }
      ]
    },
    {
      "cell_type": "code",
      "metadata": {
        "id": "UvsBIKHqdLnB"
      },
      "source": [
        "del x"
      ],
      "execution_count": null,
      "outputs": []
    },
    {
      "cell_type": "markdown",
      "metadata": {
        "id": "b5UPcx4SdXu3"
      },
      "source": [
        "2. Write a line of code that generates the following error:\n",
        "\n",
        "![image.png](data:image/png;base64,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)"
      ]
    },
    {
      "cell_type": "code",
      "metadata": {
        "colab": {
          "base_uri": "https://localhost:8080/",
          "height": 163
        },
        "id": "douo_tBodVD7",
        "outputId": "17f8a5a6-98f9-4589-f394-f846bdd59790"
      },
      "source": [
        "x"
      ],
      "execution_count": null,
      "outputs": [
        {
          "output_type": "error",
          "ename": "NameError",
          "evalue": "ignored",
          "traceback": [
            "\u001b[0;31m---------------------------------------------------------------------------\u001b[0m",
            "\u001b[0;31mNameError\u001b[0m                                 Traceback (most recent call last)",
            "\u001b[0;32m<ipython-input-40-6fcf9dfbd479>\u001b[0m in \u001b[0;36m<module>\u001b[0;34m()\u001b[0m\n\u001b[0;32m----> 1\u001b[0;31m \u001b[0mx\u001b[0m\u001b[0;34m\u001b[0m\u001b[0;34m\u001b[0m\u001b[0m\n\u001b[0m",
            "\u001b[0;31mNameError\u001b[0m: name 'x' is not defined"
          ]
        }
      ]
    },
    {
      "cell_type": "markdown",
      "metadata": {
        "id": "X_JsUBXldl1a"
      },
      "source": [
        "3. Let x = 10 and y = 3. Write a line of code that will make each of the following assignments.\n",
        "\n",
        "![image.png](data:image/png;base64,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)"
      ]
    },
    {
      "cell_type": "code",
      "metadata": {
        "id": "1bY6AxrBdVqC",
        "colab": {
          "base_uri": "https://localhost:8080/"
        },
        "outputId": "e5118918-98d4-44b4-e7b6-268eedc70d10"
      },
      "source": [
        "x = 10\n",
        "y = 3\n",
        "print('x =' , str(x) , 'and y = ' , str(y) , )\n",
        "u = x + y\n",
        "v = x * y\n",
        "w = x / y\n",
        "z = math.sin(x)\n",
        "r = 8 * math.sin(x)\n",
        "s = 5 * math.sin(x * y)\n",
        "p = x**y \n",
        "print('u =' , str(u) ,', v =' , str(v) ,', z =' , str(z) ,', r =' , str(r) ,', s =' , str(s) ,', p =' , str(p) , )"
      ],
      "execution_count": null,
      "outputs": [
        {
          "output_type": "stream",
          "text": [
            "x = 10 and y =  3\n",
            "u = 13 , v = 30 , z = -0.5440211108893698 , r = -4.352168887114958 , s = -4.940158120464309 , p = 1000\n"
          ],
          "name": "stdout"
        }
      ]
    },
    {
      "cell_type": "markdown",
      "metadata": {
        "id": "iuETkfKce10E"
      },
      "source": [
        "### Problem 1"
      ]
    },
    {
      "cell_type": "markdown",
      "metadata": {
        "id": "0gAxZQrte8hM"
      },
      "source": [
        "Show all the variables in the Jupyter notebook after you finish problem 3."
      ]
    },
    {
      "cell_type": "markdown",
      "metadata": {
        "id": "fVO9MYGEe__S"
      },
      "source": [
        "* Done in the previous problem."
      ]
    },
    {
      "cell_type": "markdown",
      "metadata": {
        "id": "xnfHHEmofEUR"
      },
      "source": [
        "### Problem 2"
      ]
    },
    {
      "cell_type": "markdown",
      "metadata": {
        "id": "7iE2MbFlfO5t"
      },
      "source": [
        "Assign string ‘123’ to the variable S. Convert the string into a float type and assign the output to the variable N. Verify that S is a string and N is a float using the type function."
      ]
    },
    {
      "cell_type": "code",
      "metadata": {
        "id": "TADFoMeTd3Wb"
      },
      "source": [
        "S = '123'"
      ],
      "execution_count": null,
      "outputs": []
    },
    {
      "cell_type": "code",
      "metadata": {
        "id": "LCDdEY3afSuB"
      },
      "source": [
        "N = float(S)"
      ],
      "execution_count": null,
      "outputs": []
    },
    {
      "cell_type": "code",
      "metadata": {
        "id": "hIUMH6GtfsVC",
        "colab": {
          "base_uri": "https://localhost:8080/"
        },
        "outputId": "5f258451-022a-4d88-f606-020ce15f7c62"
      },
      "source": [
        "type(S)"
      ],
      "execution_count": null,
      "outputs": [
        {
          "output_type": "execute_result",
          "data": {
            "text/plain": [
              "str"
            ]
          },
          "metadata": {
            "tags": []
          },
          "execution_count": 44
        }
      ]
    },
    {
      "cell_type": "code",
      "metadata": {
        "id": "u6Txx8tNfuee",
        "colab": {
          "base_uri": "https://localhost:8080/"
        },
        "outputId": "c23a35db-0caf-4a0f-9dd7-b0e309666862"
      },
      "source": [
        "type(N)"
      ],
      "execution_count": null,
      "outputs": [
        {
          "output_type": "execute_result",
          "data": {
            "text/plain": [
              "float"
            ]
          },
          "metadata": {
            "tags": []
          },
          "execution_count": 45
        }
      ]
    },
    {
      "cell_type": "markdown",
      "metadata": {
        "id": "YpTEVMtLf1a-"
      },
      "source": [
        "### Problem 3"
      ]
    },
    {
      "cell_type": "markdown",
      "metadata": {
        "id": "IyQUVTU1gFNz"
      },
      "source": [
        "Assign the string ‘HELLO’ to the variable s1 and the string ‘hello’ to the variable s2.\n",
        "\n",
        "Use the == operator to show that they are not equal.\n",
        "\n",
        "Use the == operator to show that s1 and s2 are equal if the lower method is used on s1.\n",
        "\n",
        "Use the == operator to show that s1 and s2 are equal if upper method is used on s2."
      ]
    },
    {
      "cell_type": "code",
      "metadata": {
        "id": "nSY2VuVBfz8S"
      },
      "source": [
        "s1 = 'HELLO'\n",
        "s2 = 'hello'"
      ],
      "execution_count": null,
      "outputs": []
    },
    {
      "cell_type": "code",
      "metadata": {
        "id": "m_Fpw9zEgTfN",
        "colab": {
          "base_uri": "https://localhost:8080/"
        },
        "outputId": "9e2010a9-64c8-4cd2-a654-23830dde648c"
      },
      "source": [
        "s1 == s2"
      ],
      "execution_count": null,
      "outputs": [
        {
          "output_type": "execute_result",
          "data": {
            "text/plain": [
              "False"
            ]
          },
          "metadata": {
            "tags": []
          },
          "execution_count": 47
        }
      ]
    },
    {
      "cell_type": "code",
      "metadata": {
        "id": "AVAMTfFChCpK",
        "colab": {
          "base_uri": "https://localhost:8080/"
        },
        "outputId": "d8124657-5d54-47d7-f620-33187d3864b5"
      },
      "source": [
        "s1.lower() == s2"
      ],
      "execution_count": null,
      "outputs": [
        {
          "output_type": "execute_result",
          "data": {
            "text/plain": [
              "True"
            ]
          },
          "metadata": {
            "tags": []
          },
          "execution_count": 48
        }
      ]
    },
    {
      "cell_type": "code",
      "metadata": {
        "id": "u81b1STRhNFo",
        "colab": {
          "base_uri": "https://localhost:8080/"
        },
        "outputId": "9be93314-2b5a-445d-df5a-75b7034a293d"
      },
      "source": [
        "s1 == s2.upper()"
      ],
      "execution_count": null,
      "outputs": [
        {
          "output_type": "execute_result",
          "data": {
            "text/plain": [
              "True"
            ]
          },
          "metadata": {
            "tags": []
          },
          "execution_count": 49
        }
      ]
    },
    {
      "cell_type": "markdown",
      "metadata": {
        "id": "Har4gEjYhV1h"
      },
      "source": [
        "### Problem 4"
      ]
    },
    {
      "cell_type": "markdown",
      "metadata": {
        "id": "oVX_R5kThX6K"
      },
      "source": [
        "Use the print function to generate the following strings.\n",
        "\n",
        "* The word ‘Engineering’ has 11 letters.\n",
        "\n",
        "* The word ‘Book’ has 4 letters."
      ]
    },
    {
      "cell_type": "code",
      "metadata": {
        "id": "z_QlyrZQhPy-",
        "colab": {
          "base_uri": "https://localhost:8080/"
        },
        "outputId": "d1413b7a-2266-4c5b-b259-06ee86b4973a"
      },
      "source": [
        "print('The word \\' Engineering \\' has 11 letters')\n",
        "print('The word \\' Book \\' has 4 letters')"
      ],
      "execution_count": null,
      "outputs": [
        {
          "output_type": "stream",
          "text": [
            "The word ' Engineering ' has 11 letters\n",
            "The word ' Book ' has 4 letters\n"
          ],
          "name": "stdout"
        }
      ]
    },
    {
      "cell_type": "markdown",
      "metadata": {
        "id": "lAukcVglhvrF"
      },
      "source": [
        "### Problem 5"
      ]
    },
    {
      "cell_type": "markdown",
      "metadata": {
        "id": "UabnmQ7rh1zH"
      },
      "source": [
        "Check if ‘Python’ is in ‘Python is great!’"
      ]
    },
    {
      "cell_type": "code",
      "metadata": {
        "id": "-LE1y1tIhoNz",
        "colab": {
          "base_uri": "https://localhost:8080/"
        },
        "outputId": "81683d63-6ff2-4685-88a8-18ec13f44b88"
      },
      "source": [
        "'Python' in 'Python is great!'"
      ],
      "execution_count": null,
      "outputs": [
        {
          "output_type": "execute_result",
          "data": {
            "text/plain": [
              "True"
            ]
          },
          "metadata": {
            "tags": []
          },
          "execution_count": 51
        }
      ]
    },
    {
      "cell_type": "markdown",
      "metadata": {
        "id": "R0S7ROmoiZ91"
      },
      "source": [
        "### Problem 6"
      ]
    },
    {
      "cell_type": "markdown",
      "metadata": {
        "id": "-ghLhJsJihBJ"
      },
      "source": [
        "Get the last word ‘great’ from ‘Python is great!’"
      ]
    },
    {
      "cell_type": "code",
      "metadata": {
        "id": "Yzt63XfCiYex",
        "colab": {
          "base_uri": "https://localhost:8080/",
          "height": 35
        },
        "outputId": "682eeb58-294d-4693-b961-e43875f31f01"
      },
      "source": [
        "w = 'Python is great!'\n",
        "w[10:-1]"
      ],
      "execution_count": null,
      "outputs": [
        {
          "output_type": "execute_result",
          "data": {
            "application/vnd.google.colaboratory.intrinsic+json": {
              "type": "string"
            },
            "text/plain": [
              "'great'"
            ]
          },
          "metadata": {
            "tags": []
          },
          "execution_count": 52
        }
      ]
    },
    {
      "cell_type": "markdown",
      "metadata": {
        "id": "xcH1xfZ3jRw-"
      },
      "source": [
        "### Problem 7 "
      ]
    },
    {
      "cell_type": "markdown",
      "metadata": {
        "id": "N2SeF3TNjZYH"
      },
      "source": [
        "Assign list [1, 8, 9, 15] to a variable *list_a* and insert 2 at index 1 using the insert method. Append 4 to the *list_a* using the append method.\n",
        "\n"
      ]
    },
    {
      "cell_type": "code",
      "metadata": {
        "id": "NJcN4laYjFDz"
      },
      "source": [
        "list_a = [1,8,9,15]"
      ],
      "execution_count": null,
      "outputs": []
    },
    {
      "cell_type": "code",
      "metadata": {
        "id": "46NLmczXLyjJ"
      },
      "source": [
        "list_a.insert(0,2)"
      ],
      "execution_count": null,
      "outputs": []
    },
    {
      "cell_type": "code",
      "metadata": {
        "id": "5Lnryvs5MUPC",
        "colab": {
          "base_uri": "https://localhost:8080/"
        },
        "outputId": "c73de68f-4a68-476a-e658-547061e426b7"
      },
      "source": [
        "list_a"
      ],
      "execution_count": null,
      "outputs": [
        {
          "output_type": "execute_result",
          "data": {
            "text/plain": [
              "[2, 1, 8, 9, 15]"
            ]
          },
          "metadata": {
            "tags": []
          },
          "execution_count": 55
        }
      ]
    },
    {
      "cell_type": "code",
      "metadata": {
        "id": "UE96zf93MZ1g"
      },
      "source": [
        "list_a.append(4)"
      ],
      "execution_count": null,
      "outputs": []
    },
    {
      "cell_type": "code",
      "metadata": {
        "id": "Wz7_krfGMo0I",
        "colab": {
          "base_uri": "https://localhost:8080/"
        },
        "outputId": "d7808aec-62cc-4df1-ad3c-4ce367ce91ce"
      },
      "source": [
        "list_a"
      ],
      "execution_count": null,
      "outputs": [
        {
          "output_type": "execute_result",
          "data": {
            "text/plain": [
              "[2, 1, 8, 9, 15, 4]"
            ]
          },
          "metadata": {
            "tags": []
          },
          "execution_count": 57
        }
      ]
    },
    {
      "cell_type": "markdown",
      "metadata": {
        "id": "YbWoRNnAMs_O"
      },
      "source": [
        "### Problem 8"
      ]
    },
    {
      "cell_type": "markdown",
      "metadata": {
        "id": "yFHwXlJAMwJT"
      },
      "source": [
        "Sort the list_a in problem 7 in ascending order."
      ]
    },
    {
      "cell_type": "code",
      "metadata": {
        "id": "SCOp4Y-3Mp2g",
        "colab": {
          "base_uri": "https://localhost:8080/"
        },
        "outputId": "4981520e-9a55-41a7-fc72-086ed6b71a1a"
      },
      "source": [
        "list_a = [1,2,4,8,9,15]\n",
        "list_a"
      ],
      "execution_count": null,
      "outputs": [
        {
          "output_type": "execute_result",
          "data": {
            "text/plain": [
              "[1, 2, 4, 8, 9, 15]"
            ]
          },
          "metadata": {
            "tags": []
          },
          "execution_count": 58
        }
      ]
    },
    {
      "cell_type": "markdown",
      "metadata": {
        "id": "B1B0vm59N5wT"
      },
      "source": [
        "### Problem 9"
      ]
    },
    {
      "cell_type": "markdown",
      "metadata": {
        "id": "Z3rKCExKN74w"
      },
      "source": [
        "Turn ‘Python is great!’ to a list."
      ]
    },
    {
      "cell_type": "code",
      "metadata": {
        "id": "HajbUzFFNvIA"
      },
      "source": [
        "list_z = ['Python','is','great','!']"
      ],
      "execution_count": null,
      "outputs": []
    },
    {
      "cell_type": "code",
      "metadata": {
        "id": "iouBmTaYOGiD",
        "colab": {
          "base_uri": "https://localhost:8080/"
        },
        "outputId": "34688c40-a15f-49dd-e4c6-dffe014c61a1"
      },
      "source": [
        "list_z"
      ],
      "execution_count": null,
      "outputs": [
        {
          "output_type": "execute_result",
          "data": {
            "text/plain": [
              "['Python', 'is', 'great', '!']"
            ]
          },
          "metadata": {
            "tags": []
          },
          "execution_count": 60
        }
      ]
    },
    {
      "cell_type": "markdown",
      "metadata": {
        "id": "_kfN54rbPlCm"
      },
      "source": [
        "### Problem 10"
      ]
    },
    {
      "cell_type": "markdown",
      "metadata": {
        "id": "75pSctBRPoUV"
      },
      "source": [
        "Create one tuple with element ‘One’, 1 and assign it to tuple_a"
      ]
    },
    {
      "cell_type": "code",
      "metadata": {
        "id": "X8djyamRPkAo"
      },
      "source": [
        "tuple_x = ('One', 1)"
      ],
      "execution_count": null,
      "outputs": []
    },
    {
      "cell_type": "code",
      "metadata": {
        "id": "Vl9kuFUKP817"
      },
      "source": [
        "tuple_a = tuple_x"
      ],
      "execution_count": null,
      "outputs": []
    },
    {
      "cell_type": "code",
      "metadata": {
        "id": "ebbro3pcP_NR",
        "colab": {
          "base_uri": "https://localhost:8080/"
        },
        "outputId": "7bc20edd-2f27-48cd-dc5f-be499185198a"
      },
      "source": [
        "tuple_a"
      ],
      "execution_count": null,
      "outputs": [
        {
          "output_type": "execute_result",
          "data": {
            "text/plain": [
              "('One', 1)"
            ]
          },
          "metadata": {
            "tags": []
          },
          "execution_count": 63
        }
      ]
    },
    {
      "cell_type": "markdown",
      "metadata": {
        "id": "UC6b0AWsTfr-"
      },
      "source": [
        "### Problem 11"
      ]
    },
    {
      "cell_type": "markdown",
      "metadata": {
        "id": "0mIgLhOhTiDa"
      },
      "source": [
        "Get the 2nd element in the tuple_a in problem 10."
      ]
    },
    {
      "cell_type": "code",
      "metadata": {
        "id": "LM9eUKcUTkj2",
        "colab": {
          "base_uri": "https://localhost:8080/"
        },
        "outputId": "7919388e-07ae-4913-f16e-608eb4b5b5c8"
      },
      "source": [
        "tuple_a[1]"
      ],
      "execution_count": null,
      "outputs": [
        {
          "output_type": "execute_result",
          "data": {
            "text/plain": [
              "1"
            ]
          },
          "metadata": {
            "tags": []
          },
          "execution_count": 64
        }
      ]
    },
    {
      "cell_type": "markdown",
      "metadata": {
        "id": "wkeWzAMqQCVK"
      },
      "source": [
        "### Problem 12"
      ]
    },
    {
      "cell_type": "markdown",
      "metadata": {
        "id": "9GSrQWSTQJLL"
      },
      "source": [
        "Get the unique element from (2, 3, 2, 3, 1, 2, 5)."
      ]
    },
    {
      "cell_type": "code",
      "metadata": {
        "id": "D0l2LGwORAuG"
      },
      "source": [
        "uio = (2,3,2,3,1,2,5)"
      ],
      "execution_count": null,
      "outputs": []
    },
    {
      "cell_type": "code",
      "metadata": {
        "id": "0L3jj7E-QAbC",
        "colab": {
          "base_uri": "https://localhost:8080/"
        },
        "outputId": "07394f2f-1470-4495-fa3a-e974f2621053"
      },
      "source": [
        "set(uio)"
      ],
      "execution_count": null,
      "outputs": [
        {
          "output_type": "execute_result",
          "data": {
            "text/plain": [
              "{1, 2, 3, 5}"
            ]
          },
          "metadata": {
            "tags": []
          },
          "execution_count": 66
        }
      ]
    },
    {
      "cell_type": "markdown",
      "metadata": {
        "id": "nh6A_yh3RIXH"
      },
      "source": [
        "### Problem 13"
      ]
    },
    {
      "cell_type": "markdown",
      "metadata": {
        "id": "j00dYQcYRR7n"
      },
      "source": [
        "Assign (2, 3, 2) to set_a, and (1, 2, 3) to set_b. Get the following:\n",
        "\n",
        "* union of set_a and set_b\n",
        "\n",
        "* intersection of set_a and set_b\n",
        "\n",
        "* difference of set_a to set_b using difference method"
      ]
    },
    {
      "cell_type": "code",
      "metadata": {
        "id": "-diV_rvzQUmD"
      },
      "source": [
        "set_a = set((2,3,2))\n",
        "set_b = set((1,2,3))"
      ],
      "execution_count": null,
      "outputs": []
    },
    {
      "cell_type": "code",
      "metadata": {
        "id": "jPCDcwidRbbW",
        "colab": {
          "base_uri": "https://localhost:8080/"
        },
        "outputId": "c5c05957-1460-4e49-f301-c37451d7a3c3"
      },
      "source": [
        "set_a.union(set_b)"
      ],
      "execution_count": null,
      "outputs": [
        {
          "output_type": "execute_result",
          "data": {
            "text/plain": [
              "{1, 2, 3}"
            ]
          },
          "metadata": {
            "tags": []
          },
          "execution_count": 68
        }
      ]
    },
    {
      "cell_type": "code",
      "metadata": {
        "id": "dR2FyLpVRiMj",
        "colab": {
          "base_uri": "https://localhost:8080/"
        },
        "outputId": "9e407311-7a53-45a9-f0ce-860589add9c2"
      },
      "source": [
        "set_a.intersection(set_b)"
      ],
      "execution_count": null,
      "outputs": [
        {
          "output_type": "execute_result",
          "data": {
            "text/plain": [
              "{2, 3}"
            ]
          },
          "metadata": {
            "tags": []
          },
          "execution_count": 69
        }
      ]
    },
    {
      "cell_type": "code",
      "metadata": {
        "id": "VgE1fhoTR7aq",
        "colab": {
          "base_uri": "https://localhost:8080/"
        },
        "outputId": "010f3275-7b53-4f99-9ad6-e5d3875fc515"
      },
      "source": [
        "set_b - set_a"
      ],
      "execution_count": null,
      "outputs": [
        {
          "output_type": "execute_result",
          "data": {
            "text/plain": [
              "{1}"
            ]
          },
          "metadata": {
            "tags": []
          },
          "execution_count": 70
        }
      ]
    },
    {
      "cell_type": "markdown",
      "metadata": {
        "id": "yp_MZHidSMiX"
      },
      "source": [
        "### Problem 14"
      ]
    },
    {
      "cell_type": "markdown",
      "metadata": {
        "id": "apJ42gTcSTEy"
      },
      "source": [
        "Create a dictionary that has the keys ‘A’, ‘B’, ‘C’ with values ‘a’, ‘b’, ‘c’ individually. Print all the keys in the dictionary."
      ]
    },
    {
      "cell_type": "code",
      "metadata": {
        "id": "fHHmfGgRSED2"
      },
      "source": [
        "dict_1 = {'A':'a', 'B':'b', 'C':'c'}"
      ],
      "execution_count": null,
      "outputs": []
    },
    {
      "cell_type": "code",
      "metadata": {
        "id": "Knbe53gHSpgQ",
        "colab": {
          "base_uri": "https://localhost:8080/",
          "height": 35
        },
        "outputId": "38d1feee-0d01-484f-d0ed-819ee419ad7f"
      },
      "source": [
        "dict_1['A']"
      ],
      "execution_count": null,
      "outputs": [
        {
          "output_type": "execute_result",
          "data": {
            "application/vnd.google.colaboratory.intrinsic+json": {
              "type": "string"
            },
            "text/plain": [
              "'a'"
            ]
          },
          "metadata": {
            "tags": []
          },
          "execution_count": 72
        }
      ]
    },
    {
      "cell_type": "code",
      "metadata": {
        "id": "TAeOkmmZSrcg",
        "colab": {
          "base_uri": "https://localhost:8080/",
          "height": 35
        },
        "outputId": "ba8f9ddb-8904-4ea5-c7b0-57ec01f46b90"
      },
      "source": [
        "dict_1['B']"
      ],
      "execution_count": null,
      "outputs": [
        {
          "output_type": "execute_result",
          "data": {
            "application/vnd.google.colaboratory.intrinsic+json": {
              "type": "string"
            },
            "text/plain": [
              "'b'"
            ]
          },
          "metadata": {
            "tags": []
          },
          "execution_count": 73
        }
      ]
    },
    {
      "cell_type": "code",
      "metadata": {
        "id": "sG2spwliSwRy",
        "colab": {
          "base_uri": "https://localhost:8080/",
          "height": 35
        },
        "outputId": "dea3515e-673b-4e09-cdbd-d8848a240cdd"
      },
      "source": [
        "dict_1['C']"
      ],
      "execution_count": null,
      "outputs": [
        {
          "output_type": "execute_result",
          "data": {
            "application/vnd.google.colaboratory.intrinsic+json": {
              "type": "string"
            },
            "text/plain": [
              "'c'"
            ]
          },
          "metadata": {
            "tags": []
          },
          "execution_count": 74
        }
      ]
    },
    {
      "cell_type": "code",
      "metadata": {
        "id": "eGVlyNp7Sxrv",
        "colab": {
          "base_uri": "https://localhost:8080/"
        },
        "outputId": "f7b1a10a-c8e5-442d-c7b4-36e8c69a0a89"
      },
      "source": [
        "dict_1.keys()"
      ],
      "execution_count": null,
      "outputs": [
        {
          "output_type": "execute_result",
          "data": {
            "text/plain": [
              "dict_keys(['A', 'B', 'C'])"
            ]
          },
          "metadata": {
            "tags": []
          },
          "execution_count": 75
        }
      ]
    },
    {
      "cell_type": "markdown",
      "metadata": {
        "id": "i2QMqyFkS9Bp"
      },
      "source": [
        "### Problem 15"
      ]
    },
    {
      "cell_type": "markdown",
      "metadata": {
        "id": "3-JHbaiiTBhS"
      },
      "source": [
        "Check if key ‘B’ is in the dictionary defined in problem 13."
      ]
    },
    {
      "cell_type": "markdown",
      "metadata": {
        "id": "ruePxulsTGEX"
      },
      "source": [
        "* Done in the previous problem."
      ]
    },
    {
      "cell_type": "markdown",
      "metadata": {
        "id": "mh-LrhZQTJYk"
      },
      "source": [
        "### Problem 16"
      ]
    },
    {
      "cell_type": "markdown",
      "metadata": {
        "id": "1tPAFxl6TPJ9"
      },
      "source": [
        "Create array x and y, where x = [1, 4, 3, 2, 9, 4] and y=[2, 3, 4, 1, 2, 3]. Compute the assignments from Problem 3."
      ]
    },
    {
      "cell_type": "code",
      "metadata": {
        "id": "yW1C1uo8S5DQ"
      },
      "source": [
        "import numpy as np"
      ],
      "execution_count": null,
      "outputs": []
    },
    {
      "cell_type": "code",
      "metadata": {
        "id": "JYJDng_vT0Wi"
      },
      "source": [
        "x = np.array([1,4,3,2,9,4])\n",
        "y = np.array([2,3,4,1,2,3])"
      ],
      "execution_count": null,
      "outputs": []
    },
    {
      "cell_type": "markdown",
      "metadata": {
        "id": "qwyeWbs7UYCz"
      },
      "source": [
        "Taken from third exercise, using numpy libraries:"
      ]
    },
    {
      "cell_type": "code",
      "metadata": {
        "id": "yxV8qG-fUINC",
        "colab": {
          "base_uri": "https://localhost:8080/"
        },
        "outputId": "4529b078-6158-4725-bb4b-a6aac067d1b8"
      },
      "source": [
        "u = x + y\n",
        "v = x * y\n",
        "w = x / y\n",
        "p = x**y \n",
        "z = np.sin(x)\n",
        "r = 8 * np.sin(x)\n",
        "s = 5 * np.sin(x * y)\n",
        "print('u =' , str(u) ,', v =' , str(v) ,', z =' , str(z) ,', r =' , str(r) ,', s =' , str(s) ,', p =' , str(p) , )"
      ],
      "execution_count": null,
      "outputs": [
        {
          "output_type": "stream",
          "text": [
            "u = [ 3  7  7  3 11  7] , v = [ 2 12 12  2 18 12] , z = [ 0.84147098 -0.7568025   0.14112001  0.90929743  0.41211849 -0.7568025 ] , r = [ 6.73176788 -6.05441996  1.12896006  7.27437941  3.29694788 -6.05441996] , s = [ 4.54648713 -2.68286459 -2.68286459  4.54648713 -3.75493623 -2.68286459] , p = [ 1 64 81  2 81 64]\n"
          ],
          "name": "stdout"
        }
      ]
    },
    {
      "cell_type": "markdown",
      "metadata": {
        "id": "dEajZeujWGEj"
      },
      "source": [
        "### Problem 17"
      ]
    },
    {
      "cell_type": "markdown",
      "metadata": {
        "id": "f3NSVUSCWJdz"
      },
      "source": [
        "Generate an array with size 100 evenly spaced between -10 to 10 using linspace function in Numpy."
      ]
    },
    {
      "cell_type": "code",
      "metadata": {
        "id": "MEz_1MiNURVv",
        "colab": {
          "base_uri": "https://localhost:8080/"
        },
        "outputId": "5667b188-3e85-413d-de2d-aace4c078b00"
      },
      "source": [
        "np.linspace(-10,10,100)"
      ],
      "execution_count": null,
      "outputs": [
        {
          "output_type": "execute_result",
          "data": {
            "text/plain": [
              "array([-10.        ,  -9.7979798 ,  -9.5959596 ,  -9.39393939,\n",
              "        -9.19191919,  -8.98989899,  -8.78787879,  -8.58585859,\n",
              "        -8.38383838,  -8.18181818,  -7.97979798,  -7.77777778,\n",
              "        -7.57575758,  -7.37373737,  -7.17171717,  -6.96969697,\n",
              "        -6.76767677,  -6.56565657,  -6.36363636,  -6.16161616,\n",
              "        -5.95959596,  -5.75757576,  -5.55555556,  -5.35353535,\n",
              "        -5.15151515,  -4.94949495,  -4.74747475,  -4.54545455,\n",
              "        -4.34343434,  -4.14141414,  -3.93939394,  -3.73737374,\n",
              "        -3.53535354,  -3.33333333,  -3.13131313,  -2.92929293,\n",
              "        -2.72727273,  -2.52525253,  -2.32323232,  -2.12121212,\n",
              "        -1.91919192,  -1.71717172,  -1.51515152,  -1.31313131,\n",
              "        -1.11111111,  -0.90909091,  -0.70707071,  -0.50505051,\n",
              "        -0.3030303 ,  -0.1010101 ,   0.1010101 ,   0.3030303 ,\n",
              "         0.50505051,   0.70707071,   0.90909091,   1.11111111,\n",
              "         1.31313131,   1.51515152,   1.71717172,   1.91919192,\n",
              "         2.12121212,   2.32323232,   2.52525253,   2.72727273,\n",
              "         2.92929293,   3.13131313,   3.33333333,   3.53535354,\n",
              "         3.73737374,   3.93939394,   4.14141414,   4.34343434,\n",
              "         4.54545455,   4.74747475,   4.94949495,   5.15151515,\n",
              "         5.35353535,   5.55555556,   5.75757576,   5.95959596,\n",
              "         6.16161616,   6.36363636,   6.56565657,   6.76767677,\n",
              "         6.96969697,   7.17171717,   7.37373737,   7.57575758,\n",
              "         7.77777778,   7.97979798,   8.18181818,   8.38383838,\n",
              "         8.58585859,   8.78787879,   8.98989899,   9.19191919,\n",
              "         9.39393939,   9.5959596 ,   9.7979798 ,  10.        ])"
            ]
          },
          "metadata": {
            "tags": []
          },
          "execution_count": 79
        }
      ]
    },
    {
      "cell_type": "markdown",
      "metadata": {
        "id": "W5ecn2fHWazp"
      },
      "source": [
        "### Problem 18"
      ]
    },
    {
      "cell_type": "markdown",
      "metadata": {
        "id": "gjI8LCZvWd34"
      },
      "source": [
        "Let array_a be an array [-1, 0, 1, 2, 0, 3]. Write a command that will return an array consisting of all the elements of array_a that are larger than zero. Hint: Use logical expression as the index of the array."
      ]
    },
    {
      "cell_type": "code",
      "metadata": {
        "id": "CNY6cTvMWX64"
      },
      "source": [
        "array_a = np.array([-1,0,1,2,0,3])"
      ],
      "execution_count": null,
      "outputs": []
    },
    {
      "cell_type": "code",
      "metadata": {
        "id": "nfiLgsmWY6A5"
      },
      "source": [
        "array_c = []"
      ],
      "execution_count": null,
      "outputs": []
    },
    {
      "cell_type": "code",
      "metadata": {
        "id": "uLtZeyoQXL2V"
      },
      "source": [
        "for i in range(0,len(array_a)):\n",
        "  if array_a[i]>0:\n",
        "    array_c.append(array_a[i])"
      ],
      "execution_count": null,
      "outputs": []
    },
    {
      "cell_type": "code",
      "metadata": {
        "colab": {
          "base_uri": "https://localhost:8080/"
        },
        "id": "m1aPSQ_hXWap",
        "outputId": "b5ca9a5c-6c88-4788-85cc-aec0bf52d01e"
      },
      "source": [
        "array_c"
      ],
      "execution_count": null,
      "outputs": [
        {
          "output_type": "execute_result",
          "data": {
            "text/plain": [
              "[1, 2, 3]"
            ]
          },
          "metadata": {
            "tags": []
          },
          "execution_count": 83
        }
      ]
    },
    {
      "cell_type": "markdown",
      "metadata": {
        "id": "_U4G0iLkaJWq"
      },
      "source": [
        "### Problem 19"
      ]
    },
    {
      "cell_type": "markdown",
      "metadata": {
        "id": "m1e_95_paMAK"
      },
      "source": [
        "Create an array $y= \\begin{bmatrix} 3 & 5 & 3 \\\\ 2 & 2 & 5 \\\\ 3 & 8 & 9 \\end{bmatrix}$ and calculate the transpose of the array."
      ]
    },
    {
      "cell_type": "code",
      "metadata": {
        "colab": {
          "base_uri": "https://localhost:8080/"
        },
        "id": "DaYIiVWRaLeZ",
        "outputId": "c12d11a8-459c-48f7-aeac-f946abc6389b"
      },
      "source": [
        "y = np.array([[3,5,3],[2,2,5],[3,8,9]])\n",
        "y"
      ],
      "execution_count": null,
      "outputs": [
        {
          "output_type": "execute_result",
          "data": {
            "text/plain": [
              "array([[3, 5, 3],\n",
              "       [2, 2, 5],\n",
              "       [3, 8, 9]])"
            ]
          },
          "metadata": {
            "tags": []
          },
          "execution_count": 84
        }
      ]
    },
    {
      "cell_type": "markdown",
      "metadata": {
        "id": "U3HG2l5hbGJu"
      },
      "source": [
        "$y^T$"
      ]
    },
    {
      "cell_type": "code",
      "metadata": {
        "colab": {
          "base_uri": "https://localhost:8080/"
        },
        "id": "A6UQwJ4CawSw",
        "outputId": "1dae92cb-e887-464b-cf3a-d62e1d347e7b"
      },
      "source": [
        "y.T"
      ],
      "execution_count": null,
      "outputs": [
        {
          "output_type": "execute_result",
          "data": {
            "text/plain": [
              "array([[3, 2, 3],\n",
              "       [5, 2, 8],\n",
              "       [3, 5, 9]])"
            ]
          },
          "metadata": {
            "tags": []
          },
          "execution_count": 85
        }
      ]
    },
    {
      "cell_type": "markdown",
      "metadata": {
        "id": "Uu4JFujkbJSG"
      },
      "source": [
        "### Problem 20"
      ]
    },
    {
      "cell_type": "markdown",
      "metadata": {
        "id": "LMa1Mdy_bScO"
      },
      "source": [
        "Create a zero array with size (2, 4)."
      ]
    },
    {
      "cell_type": "code",
      "metadata": {
        "colab": {
          "base_uri": "https://localhost:8080/"
        },
        "id": "uOfh5nzibEgc",
        "outputId": "45e9c915-6ddc-4502-fcd3-d80e62925a9a"
      },
      "source": [
        "a = np.zeros((2,4))\n",
        "a"
      ],
      "execution_count": null,
      "outputs": [
        {
          "output_type": "execute_result",
          "data": {
            "text/plain": [
              "array([[0., 0., 0., 0.],\n",
              "       [0., 0., 0., 0.]])"
            ]
          },
          "metadata": {
            "tags": []
          },
          "execution_count": 86
        }
      ]
    },
    {
      "cell_type": "code",
      "metadata": {
        "colab": {
          "base_uri": "https://localhost:8080/"
        },
        "id": "HR1VEWtSJ3e7",
        "outputId": "0ef7c337-07c2-472d-83e6-24826462fa83"
      },
      "source": [
        "b = len(a)\n",
        "b"
      ],
      "execution_count": null,
      "outputs": [
        {
          "output_type": "execute_result",
          "data": {
            "text/plain": [
              "2"
            ]
          },
          "metadata": {
            "tags": []
          },
          "execution_count": 87
        }
      ]
    },
    {
      "cell_type": "code",
      "metadata": {
        "colab": {
          "base_uri": "https://localhost:8080/"
        },
        "id": "YgRAhB9wLXvx",
        "outputId": "3dab3f1e-b24c-499b-b32c-599019bb72d6"
      },
      "source": [
        "a[b:]"
      ],
      "execution_count": null,
      "outputs": [
        {
          "output_type": "execute_result",
          "data": {
            "text/plain": [
              "array([], shape=(0, 4), dtype=float64)"
            ]
          },
          "metadata": {
            "tags": []
          },
          "execution_count": 88
        }
      ]
    },
    {
      "cell_type": "markdown",
      "metadata": {
        "id": "tuJOGl2pfOia"
      },
      "source": [
        "### Problem 21"
      ]
    },
    {
      "cell_type": "markdown",
      "metadata": {
        "id": "ntDwEQByfWUt"
      },
      "source": [
        "Change the 2nd column in the above array to 1."
      ]
    },
    {
      "cell_type": "code",
      "metadata": {
        "id": "XciF1Ex_banL"
      },
      "source": [
        "a[0,1] = 1\n",
        "a[1,1] = 1"
      ],
      "execution_count": null,
      "outputs": []
    },
    {
      "cell_type": "markdown",
      "metadata": {
        "id": "ECsHuIJDf-QH"
      },
      "source": [
        "### Problem 22"
      ]
    },
    {
      "cell_type": "markdown",
      "metadata": {
        "id": "Ypkr3IsFgGT_"
      },
      "source": [
        "Write a cell magic to clear all the variables in the Jupyter notebook"
      ]
    },
    {
      "cell_type": "code",
      "metadata": {
        "colab": {
          "base_uri": "https://localhost:8080/"
        },
        "id": "rEw5CyqSgHO4",
        "outputId": "ad9058ef-2dc6-41e2-ba78-22a19f463d81"
      },
      "source": [
        "%reset"
      ],
      "execution_count": null,
      "outputs": [
        {
          "output_type": "stream",
          "text": [
            "Once deleted, variables cannot be recovered. Proceed (y/[n])? y\n"
          ],
          "name": "stdout"
        }
      ]
    },
    {
      "cell_type": "markdown",
      "metadata": {
        "id": "jMnsz6omgSf6"
      },
      "source": [
        "# Chapter 3: Functions"
      ]
    },
    {
      "cell_type": "code",
      "metadata": {
        "id": "V30xhl3Xgz5V"
      },
      "source": [
        "import math\n",
        "import numpy as np\n"
      ],
      "execution_count": null,
      "outputs": []
    },
    {
      "cell_type": "markdown",
      "metadata": {
        "id": "WHEgl-9vdBRS"
      },
      "source": [
        "## Problem 1"
      ]
    },
    {
      "cell_type": "markdown",
      "metadata": {
        "id": "CyUKYphUdIWH"
      },
      "source": [
        "![image.png](data:image/png;base64,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)"
      ]
    },
    {
      "cell_type": "code",
      "metadata": {
        "id": "iZ2icCwpgWBi"
      },
      "source": [
        "def my_sinh(x):\n",
        "    y = sinh2 = 0.5 * (math.exp(x) - math.exp(-x))\n",
        "    return y"
      ],
      "execution_count": null,
      "outputs": []
    },
    {
      "cell_type": "code",
      "metadata": {
        "colab": {
          "base_uri": "https://localhost:8080/"
        },
        "id": "NNs4vagBgD35",
        "outputId": "b110e39a-b098-409d-df05-a48b84243e3d"
      },
      "source": [
        "my_sinh(1)"
      ],
      "execution_count": null,
      "outputs": [
        {
          "output_type": "execute_result",
          "data": {
            "text/plain": [
              "1.1752011936438014"
            ]
          },
          "metadata": {
            "tags": []
          },
          "execution_count": 93
        }
      ]
    },
    {
      "cell_type": "markdown",
      "metadata": {
        "id": "vEdEAdLThV8h"
      },
      "source": [
        "## Problem 2"
      ]
    },
    {
      "cell_type": "markdown",
      "metadata": {
        "id": "iQlwJa34hZ2E"
      },
      "source": [
        "![image.png](data:image/png;base64,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)"
      ]
    },
    {
      "cell_type": "code",
      "metadata": {
        "id": "MpCibZQPhZCb"
      },
      "source": [
        "def my_checker_board(n):\n",
        "    m = np.zeros((n,n))\n",
        "    for i in range(0,n):\n",
        "      for j in range(0,n):\n",
        "          if (i+j) % 2 == 0:\n",
        "            m[i,j] = 1\n",
        "          else:\n",
        "            m[i,j] = 0\n",
        "    return m"
      ],
      "execution_count": null,
      "outputs": []
    },
    {
      "cell_type": "markdown",
      "metadata": {
        "id": "kZ7ekGbQs5LI"
      },
      "source": [
        "Tip para recordar: aquí arriba está el fragmento de código para saber si un número es par."
      ]
    },
    {
      "cell_type": "code",
      "metadata": {
        "colab": {
          "base_uri": "https://localhost:8080/"
        },
        "id": "NPBzvfuKl1yx",
        "outputId": "f071875d-667b-4ee9-e2b0-c5844964ff6f"
      },
      "source": [
        "my_checker_board(5)"
      ],
      "execution_count": null,
      "outputs": [
        {
          "output_type": "execute_result",
          "data": {
            "text/plain": [
              "array([[1., 0., 1., 0., 1.],\n",
              "       [0., 1., 0., 1., 0.],\n",
              "       [1., 0., 1., 0., 1.],\n",
              "       [0., 1., 0., 1., 0.],\n",
              "       [1., 0., 1., 0., 1.]])"
            ]
          },
          "metadata": {
            "tags": []
          },
          "execution_count": 95
        }
      ]
    },
    {
      "cell_type": "markdown",
      "metadata": {
        "id": "3GfuXZA0tdic"
      },
      "source": [
        "## Problem 3"
      ]
    },
    {
      "cell_type": "markdown",
      "metadata": {
        "id": "RUWvpkIDtfj0"
      },
      "source": [
        "![image.png](data:image/png;base64,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)"
      ]
    },
    {
      "cell_type": "code",
      "metadata": {
        "id": "kW0LdDB_oq7Z"
      },
      "source": [
        "def my_triangle(b,h):\n",
        "    area = 0.5 * b * h\n",
        "    return area"
      ],
      "execution_count": null,
      "outputs": []
    },
    {
      "cell_type": "code",
      "metadata": {
        "colab": {
          "base_uri": "https://localhost:8080/"
        },
        "id": "NkKirlUDuHd-",
        "outputId": "8068af3a-f0ff-45e1-a2b4-a2b42b162d70"
      },
      "source": [
        "my_triangle(1,2)"
      ],
      "execution_count": null,
      "outputs": [
        {
          "output_type": "execute_result",
          "data": {
            "text/plain": [
              "1.0"
            ]
          },
          "metadata": {
            "tags": []
          },
          "execution_count": 97
        }
      ]
    },
    {
      "cell_type": "markdown",
      "metadata": {
        "id": "xnl1G37XuYCl"
      },
      "source": [
        "## Problem 4"
      ]
    },
    {
      "cell_type": "markdown",
      "metadata": {
        "id": "jtpLhSTauama"
      },
      "source": [
        "![image.png](data:image/png;base64,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)"
      ]
    },
    {
      "cell_type": "code",
      "metadata": {
        "colab": {
          "base_uri": "https://localhost:8080/"
        },
        "id": "1bV_C3xyuNKn",
        "outputId": "99df702a-6240-4c1e-ef96-20faa77bb7ea"
      },
      "source": [
        "%clear(b, c, m1, m2)\n",
        "def my_split_matrix(m):\n",
        "    d = int((len(m.T)))\n",
        "    if d % 2 == 0:\n",
        "      c = int((int(len(m.T)) / 2))\n",
        "      b = int(len(m))\n",
        "      m1 = m[0:b, 0:c]\n",
        "      m2 = m[0:b, c:d]\n",
        "    else:\n",
        "      c = int((int(len(m.T)) + 1) / 2)\n",
        "      b = int(len(m))\n",
        "      m1 = m[0:b, 0:c]\n",
        "      m2 = m[0:b, c:d]\n",
        "    return m1, m2"
      ],
      "execution_count": null,
      "outputs": [
        {
          "output_type": "stream",
          "text": [
            "\u001b[H\u001b[2J"
          ],
          "name": "stdout"
        }
      ]
    },
    {
      "cell_type": "code",
      "metadata": {
        "colab": {
          "base_uri": "https://localhost:8080/"
        },
        "id": "waVomXAmPd-k",
        "outputId": "7db4d66d-d7f9-4db5-b010-4b480b015920"
      },
      "source": [
        "m = np.array([[1, 2], [4, 5], [7, 8]])\n",
        "m"
      ],
      "execution_count": null,
      "outputs": [
        {
          "output_type": "execute_result",
          "data": {
            "text/plain": [
              "array([[1, 2],\n",
              "       [4, 5],\n",
              "       [7, 8]])"
            ]
          },
          "metadata": {
            "tags": []
          },
          "execution_count": 6
        }
      ]
    },
    {
      "cell_type": "code",
      "metadata": {
        "colab": {
          "base_uri": "https://localhost:8080/"
        },
        "id": "1VsobROqPkI9",
        "outputId": "d11c7b7a-58e8-43c8-ae8a-e136c5e3ebfa"
      },
      "source": [
        "m1, m2 = my_split_matrix(m)\n",
        "m1"
      ],
      "execution_count": null,
      "outputs": [
        {
          "output_type": "execute_result",
          "data": {
            "text/plain": [
              "array([[1],\n",
              "       [4],\n",
              "       [7]])"
            ]
          },
          "metadata": {
            "tags": []
          },
          "execution_count": 7
        }
      ]
    },
    {
      "cell_type": "code",
      "metadata": {
        "colab": {
          "base_uri": "https://localhost:8080/"
        },
        "id": "8bFSCo9IPo3t",
        "outputId": "323460e8-0aa9-4672-ac55-7a1a35d13ca8"
      },
      "source": [
        "m2"
      ],
      "execution_count": null,
      "outputs": [
        {
          "output_type": "execute_result",
          "data": {
            "text/plain": [
              "array([[2],\n",
              "       [5],\n",
              "       [8]])"
            ]
          },
          "metadata": {
            "tags": []
          },
          "execution_count": 8
        }
      ]
    },
    {
      "cell_type": "code",
      "metadata": {
        "id": "DvKvdJ3GSEqe"
      },
      "source": [
        "m = np.array([[1, 2, 3, 10, 11], [4, 5, 6, 12, 13], [7, 8, 9, 14, 15]])"
      ],
      "execution_count": null,
      "outputs": []
    },
    {
      "cell_type": "code",
      "metadata": {
        "id": "jcPkYJcgTFX7"
      },
      "source": [
        "m3, m4 = my_split_matrix(m)"
      ],
      "execution_count": null,
      "outputs": []
    },
    {
      "cell_type": "code",
      "metadata": {
        "colab": {
          "base_uri": "https://localhost:8080/"
        },
        "id": "N-gNP3_BTLmZ",
        "outputId": "388f4fcd-fd86-4f97-c240-670effc22ad8"
      },
      "source": [
        "m3"
      ],
      "execution_count": null,
      "outputs": [
        {
          "output_type": "execute_result",
          "data": {
            "text/plain": [
              "array([[1, 2, 3],\n",
              "       [4, 5, 6],\n",
              "       [7, 8, 9]])"
            ]
          },
          "metadata": {
            "tags": []
          },
          "execution_count": 11
        }
      ]
    },
    {
      "cell_type": "code",
      "metadata": {
        "colab": {
          "base_uri": "https://localhost:8080/"
        },
        "id": "udiDw0bFTNU4",
        "outputId": "adad9d27-61d1-421e-e68e-45401148e29c"
      },
      "source": [
        "m4"
      ],
      "execution_count": null,
      "outputs": [
        {
          "output_type": "execute_result",
          "data": {
            "text/plain": [
              "array([[10, 11],\n",
              "       [12, 13],\n",
              "       [14, 15]])"
            ]
          },
          "metadata": {
            "tags": []
          },
          "execution_count": 12
        }
      ]
    },
    {
      "cell_type": "markdown",
      "metadata": {
        "id": "dX-k4AQUT3Tg"
      },
      "source": [
        "## Problem 5"
      ]
    },
    {
      "cell_type": "markdown",
      "metadata": {
        "id": "cHrooHI1T_Nr"
      },
      "source": [
        "![image.png](data:image/png;base64,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)"
      ]
    },
    {
      "cell_type": "code",
      "metadata": {
        "id": "D051O1JgT4-a"
      },
      "source": [
        "def my_cylinder(r,h):\n",
        "    s = 2* np.pi * r * ( r + h )\n",
        "    v = math.pi * r**2 * h\n",
        "    return s, v"
      ],
      "execution_count": null,
      "outputs": []
    },
    {
      "cell_type": "code",
      "metadata": {
        "id": "QAXHhQYGVLZM"
      },
      "source": [
        "area, volume = my_cylinder(2, 6)"
      ],
      "execution_count": null,
      "outputs": []
    },
    {
      "cell_type": "code",
      "metadata": {
        "colab": {
          "base_uri": "https://localhost:8080/"
        },
        "id": "Hxb1LVpZVNwJ",
        "outputId": "c11a4499-1a70-4ca7-de1e-147928258260"
      },
      "source": [
        "area"
      ],
      "execution_count": null,
      "outputs": [
        {
          "output_type": "execute_result",
          "data": {
            "text/plain": [
              "100.53096491487338"
            ]
          },
          "metadata": {
            "tags": []
          },
          "execution_count": 108
        }
      ]
    },
    {
      "cell_type": "code",
      "metadata": {
        "colab": {
          "base_uri": "https://localhost:8080/"
        },
        "id": "kDs5Eo1QVdl-",
        "outputId": "6ada2a6c-dd59-47f0-d501-3da59063ba99"
      },
      "source": [
        "volume"
      ],
      "execution_count": null,
      "outputs": [
        {
          "output_type": "execute_result",
          "data": {
            "text/plain": [
              "75.39822368615503"
            ]
          },
          "metadata": {
            "tags": []
          },
          "execution_count": 109
        }
      ]
    },
    {
      "cell_type": "markdown",
      "metadata": {
        "id": "RlqaI8LUVkhv"
      },
      "source": [
        "## Problem 6"
      ]
    },
    {
      "cell_type": "markdown",
      "metadata": {
        "id": "dgRMMzTmVqjd"
      },
      "source": [
        "![image.png](data:image/png;base64,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)"
      ]
    },
    {
      "cell_type": "code",
      "metadata": {
        "id": "DBVuvU4XVqKJ"
      },
      "source": [
        "def my_n_odds(a):\n",
        "    b = int(int(len(a))+1)\n",
        "    i = 0\n",
        "    a = 0\n",
        "    for i in range(0,b):\n",
        "      if i % 2 == 0:\n",
        "        a = a\n",
        "      else:\n",
        "        a += 1\n",
        "    return a"
      ],
      "execution_count": null,
      "outputs": []
    },
    {
      "cell_type": "code",
      "metadata": {
        "colab": {
          "base_uri": "https://localhost:8080/"
        },
        "id": "E1kw3KgKVgLm",
        "outputId": "4772deeb-b057-456d-ce0a-3ecb7c929226"
      },
      "source": [
        "my_n_odds(np.arange(100))"
      ],
      "execution_count": null,
      "outputs": [
        {
          "output_type": "execute_result",
          "data": {
            "text/plain": [
              "50"
            ]
          },
          "metadata": {
            "tags": []
          },
          "execution_count": 22
        }
      ]
    },
    {
      "cell_type": "markdown",
      "metadata": {
        "id": "d2Qg05igXET6"
      },
      "source": [
        "## Problem 7"
      ]
    },
    {
      "cell_type": "markdown",
      "metadata": {
        "id": "y8n610a1XMkd"
      },
      "source": [
        "![image.png](data:image/png;base64,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)"
      ]
    },
    {
      "cell_type": "code",
      "metadata": {
        "colab": {
          "base_uri": "https://localhost:8080/"
        },
        "id": "Qh3ld0VDXrUR",
        "outputId": "bed65819-547f-47cd-ffde-efa464b6fc11"
      },
      "source": [
        "clear(a)"
      ],
      "execution_count": null,
      "outputs": [
        {
          "output_type": "stream",
          "text": [
            "\u001b[H\u001b[2J"
          ],
          "name": "stdout"
        }
      ]
    },
    {
      "cell_type": "code",
      "metadata": {
        "id": "aASpJXNGWy4N"
      },
      "source": [
        "def my_twos(m,n):\n",
        "    a = np.ones((m, n))\n",
        "    b = a * 2\n",
        "    return b"
      ],
      "execution_count": null,
      "outputs": []
    },
    {
      "cell_type": "code",
      "metadata": {
        "colab": {
          "base_uri": "https://localhost:8080/"
        },
        "id": "BWFtDIa3XjoT",
        "outputId": "654e200f-dffc-45c4-a70c-7489eaa28eef"
      },
      "source": [
        "my_twos(3,4)"
      ],
      "execution_count": null,
      "outputs": [
        {
          "output_type": "execute_result",
          "data": {
            "text/plain": [
              "array([[2., 2., 2., 2.],\n",
              "       [2., 2., 2., 2.],\n",
              "       [2., 2., 2., 2.]])"
            ]
          },
          "metadata": {
            "tags": []
          },
          "execution_count": 114
        }
      ]
    },
    {
      "cell_type": "markdown",
      "metadata": {
        "id": "Aq2vK2eXYKnP"
      },
      "source": [
        "## Problem 8"
      ]
    },
    {
      "cell_type": "markdown",
      "metadata": {
        "id": "YcWkIs_MYTdm"
      },
      "source": [
        "![image.png](data:image/png;base64,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)"
      ]
    },
    {
      "cell_type": "code",
      "metadata": {
        "id": "Mwjdli0ZXoUp"
      },
      "source": [
        "restanding = lambda x,y: x - y"
      ],
      "execution_count": null,
      "outputs": []
    },
    {
      "cell_type": "code",
      "metadata": {
        "colab": {
          "base_uri": "https://localhost:8080/"
        },
        "id": "hVacGoV-jhJy",
        "outputId": "ab35ed99-350b-4c06-bc66-47abde471bac"
      },
      "source": [
        "restanding(4, 2)"
      ],
      "execution_count": null,
      "outputs": [
        {
          "output_type": "execute_result",
          "data": {
            "text/plain": [
              "2"
            ]
          },
          "metadata": {
            "tags": []
          },
          "execution_count": 116
        }
      ]
    },
    {
      "cell_type": "markdown",
      "metadata": {
        "id": "EOp2mdeVj9bE"
      },
      "source": [
        "## Problem 9"
      ]
    },
    {
      "cell_type": "markdown",
      "metadata": {
        "id": "-DR_7k2_l2XD"
      },
      "source": [
        "![image.png](data:image/png;base64,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)"
      ]
    },
    {
      "cell_type": "code",
      "metadata": {
        "id": "mfB4jr-5jpco"
      },
      "source": [
        "add_string = lambda s1, s2: s1 + s2"
      ],
      "execution_count": null,
      "outputs": []
    },
    {
      "cell_type": "code",
      "metadata": {
        "colab": {
          "base_uri": "https://localhost:8080/",
          "height": 35
        },
        "id": "fpbryKRpmGzE",
        "outputId": "ede81935-d4cf-4c24-e668-8c5c0b53842a"
      },
      "source": [
        "s1 = 'I love'\n",
        "s2 = ' UTN'\n",
        "add_string(s1, s2)"
      ],
      "execution_count": null,
      "outputs": [
        {
          "output_type": "execute_result",
          "data": {
            "application/vnd.google.colaboratory.intrinsic+json": {
              "type": "string"
            },
            "text/plain": [
              "'I love UTN'"
            ]
          },
          "metadata": {
            "tags": []
          },
          "execution_count": 119
        }
      ]
    },
    {
      "cell_type": "markdown",
      "metadata": {
        "id": "mMg2uDcemVDo"
      },
      "source": [
        "## Problem 10"
      ]
    },
    {
      "cell_type": "markdown",
      "metadata": {
        "id": "ys2cyDuJmdAR"
      },
      "source": [
        "![image.png](data:image/png;base64,iVBORw0KGgoAAAANSUhEUgAAAd8AAABRCAYAAACTzaxEAAAayElEQVR4Ae1d23XjMA7dntLJ1OEu9lef08JMAS5hS/D/VOAitAcvEgChhxNbie2bc2YsiSQeFyCuSCXWf2b8AAEgAASAABAAAoci8J9DtUEZEAACQAAIAAEgMIN8kQRAAAgAASAABA5GAOR7MOBQBwSAABAAAkAA5IscAAJAAAgAASBwMAIg34MBhzogAASAABAAAiBf5AAQAAJAAAgAgYMRAPkeDDjUAQEgAASAABAA+SIHgAAQAAJAAAgcjADI92DAoQ4IAAEgAASAAMgXOQAEgAAQAAJA4GAEQL4HAw51QAAIAAEgAARAvsgBIAAEgAAQAAIHIwDyPRhwqAMCQAAIAAEgAPJFDgABIAAEgAAQOBgBkO/BgEMdEAACQAAIAAGQL3IACAABIAAEgMDBCNxIvpd5+viYP6bLjWZe5/PpY/6gse7fzWJu1Hqf7tf5PJ3n6xeEXc/TfA4CBI9TvPgVDQ7fad4Tnev5NH+cul/5/AvGFEM1/s8R8MJ+XAICQAAI3BeB/eR7Pc8nI85biuhlEsLNY1Te/QjovsA0aWSnI6l2ffcBEc/poeTLxPmxj3TN7Ey2+dz63edTb9q+hON9LIEUIAAEgMBPQGAf+SqBElFepltWvlJ0fzzBrkWCfP8SaRAGjyXf22IizmayzedrkKANCAABIAAEvobALvK9nE/zWfcybyn0XNBvWZHZKllX2H6xzLKmyywydft6IEVdYVUrdCPRpqMTIvtkY5y98TrpdKvLJkds8ba2kKQ+tOUu/Wzb+eK2iz/mfJMSfB0InLTodm6z/cPdKOS27i+P3Nx2XhnPfhXyPD5kXdNh/treu92QxHgFDP1Oi/MvY8RYJ5yDHGqjPGl91O6l6ySw9dU8CwLFl+ni8NH2pXjJ9YgX243/gAAQeFsEdpGvR2c/+WpxCoXLS0rHXPBcgdLia8OtsPXiK4V7+Tzpt4JqAlV99iefdwJx9m7Y6noSA82ngTitcDt/k0zxN5O96++UZJsbKbubk0wA2a94rvYtjhfsO5Tmj91ckHFyTeLjj6nNSLf7F/3N8vN5cH7+8PimvGlE2o2VwQv5YP17d7W1XTBfUyxynOnc8FNdTYQzH4dAAAi8JwLfQr5MFrqaqYuzBIMLslasSA7S7kmnahfi0wLPBbAX+8Vwp36j3Ewko61Bdi7K3FjJ8ATjj7s08rffbMTr4Zfg2IdEDoEM/apU5AQ/d4z32AuZTvOZVrrGMMHv7G/hn+/PxzFWte9ZrvPF7EjxbKiV10Ve88E6h761TiHtaLMNxycQAAJAICPwLeRrRvSCqqsLt73Yfit6i3x1dcFkUI23rdBQQM0C/eRir1uMLKMX0UBK3H3b1iDdk0prqAq4yGVyHezptu0hX7bZ/G46aTe1b0tnv/z5nvGBbAhbipMjTS8vroLJoCXytZVzbs/n5pRcb7ni4/8p8hV5A8YaDxFZxY7sUeImG2zFa2biEwgAASCQEHgg+erqqiABs6GTrxQuq5fWzp/XK/+ZTyzm0mMgk1rAfKVHjQvka6TdhqZ+o95tW6P9y9vOscj7wk/HeeUqUq/sTNAw/BLcHvLMfvnzPeOFQMVGwrATU7/W/cuEJb42zMmdQHAWr37TMaxGGYIdsUjxbMiV130MWs9kW/bF9dNDy6nu/9gHV4AAEHhvBB5KvrbCWSpCVKSsjQtWqMYxMJ4crIXH2CqjLKbW04p5X9FKS0ECSc6i3hVbnVYt3JlIqwLuC3/VHqSGkwE79mFdZ/YrnO8YTwZI/M7z5G6w+jWvP/tT4B7Il9r9+OBuOBl8D61LcV+6LnYORB9yIvuSFeo5jbHcXOiCy0AACLwvAnchXy6AS4WGC1exFafXjXzHX3Sx4i6/IRvIQeMV9UpBD4XTF0DWl8k3F1KV4ciE9ep5W3Wq7Z5/hXTst3ldQnlS0VW8bVE237m76LZrotcTkNjqdZqWkYCURFxMsryMZzzfHi8m699wOz0Wx0g8Nc7BF4+TEnveTjZszG9vg5cVYlHGfYl87bqt5ElDzqvsi1pDepwRISZsg49l8AAnQAAIvCECO8nXSMltA9KzLS42WqgdYY04Wp84fiimWoBb0T2d54tus0ZyEA1c4Hzh98/d+Pkf/YmUbFsvbTs3suD+RM7kqydp77sroCu2Zv/ZTpZvK/2qgIuegImSfMOD/tRqx7az6M+YO9vDnwFp7/ZnQWb9+njupRgEmweyop7ZX/HVcVXc2iW/Q1yNFKMPZqltWTecXN6sx93HuUnTRxQuV6Oh/Odh0ed5vl7jn415++XGxxO604VDIAAE3hKBneT7ltjA6W9CIKxcmw0FYbc2HAABIAAEngsBkO9zxestrJWVYlzljrscbwEFnAQCQOBFEQD5vmhgn90t26ptW8lh6/fZvYP9QAAIvDsCIN93zwD4DwSAABAAAocjAPI9HHIoBAJAAAgAgXdHAOT77hkA/4EAEAACQOBwBEC+h0MOhUAACAABIPDuCIB83z0D4D8QAAJAAAgcjgDI93DIoRAIAAEgAATeHQGQ77tnAPwHAkAACACBwxEA+R4OORQCASAABIDAuyMA8n33DID/QAAIAAEgcDgCIN/DIYfCjoC8cIG/vCq9Faj3wREQAAJAoEDgMrVX0hat7dL1PM3n4oVzrcM3Hbwv+eY3Bulbh9rXGe58n+zn45bfGuTeopPf6PN5JXca6d7sdE/bOAbyZqHrld4LHL/P+WvGF2+JulUg23dPm2oDqu+yrnt+w9WHYZDfdHWQb5U/l2mO316qczNefKiBnAP3nFsPtfZRwq/zeTrP+3iS5vfCW8mCeXeoA0He/U7el3wDhsdPNnvNnn8HbDDpB5086qUG+e1FrOdeBc9e+fgFefb90l8QsRlF9tlef7mv6mzKvGeHx2HwPeRb+UMxiDHWm80DyRDky+85nU97Maf5vbPvGN97zpDPy3pq8v3379/89+/fmT6/9gPyXcbvUUWSClxaVbqV8LI9r9KiOUd373yjkLB4FTcX/XhUXi0qXGgQOyL5LnR94GWQr76zeyehyju8d8wZqil7ZT4wvpXopyXf379/z79+/Zr//PnDn3T++R8thG0G6vkQNL+FYeShfXXbuolgY2JbTIKss7DeEodJibalNdmWrpOI1le3sYNBonO6OLu4Xe/0Q18WNk95O576VGTBem0bqNDz8RGfz4T+5rthauf9k4vTdJmHlaL3N8RLfOouqY/mT2+YbTUkjxzchE42mg2hf9BZ4F/mBd3lX+bJttgqPLvrJFRvVLoPp/YQq19j+51fIiK2T+fzfGrbddIWhmRbNjGwmFNanOa1xzah/TTN0ynlhPlMOglXtsUex3Q9lV8fzSdpDbps3lCT9yfIFz2Cq+Rvx5gGujnDMXV5wou200y7WEFvyo3Q5m2y8am/eMJGx3noA2ZYsV+uRrCrhp3/FBx5Hnk56l/zWeVeXEy5e8BsIyZBPuUaYZby8SJe9nlttqps1dfs6qCkoyj3GXYUn5J8aaVLxOt/6PzzK2CdWD5ZOJnjBAsTlwtiTHaZXDZmlMkJ1ibY2O794WObUN4uati43rtrQrYLVkDMRtOo15ttdp0+pS0kP0+IJINtsslY6Ml40vmgT8Y1c50ZVrisjc9PJ7f1JL52O+Xc+udiQ+fcln2hc7Mr+NTJJeto55WsVGSdS/0wj+stemSFxfC1Dtlnxd2cthxt55Q6lLMmJ2LEUrMtmxiILRIfk2s52nMkzg1mm/mUb8iaW5OQuMXBiK+dKx5LfmUf6NzGJn/kxiZvO+ecV1xNhpGli63lZ8sFxd7OJV/788ytc4NitC/FjP35YOLvYzRXs73uPM+HYZ6rXLOfaw7Nt5Y7da61/hazFiONWRtv86nnTMZE/Blj7f30fZoqxb6fjyN+wpWnJF/aaqYVr/+hc7r+uZ+cSCQlT0ApXD250iRgxXKN+wyTnDpQuxUk1WkrMft0EySSvfOslF35YEXQEnz0yUldOCzG5OLGrlHBXNMT8eKJNswO0TVctmLnsWEbYtGMBcXrK3wwb0sstTG1VcUh6KT+3kbNocofU8+fFZ6hg/elN1T2yK6ExIHbW0x0XPCpkJttCf3Hoi5SCzmceraylfY+d2jUjTFhO2TulH75gpts7ojl+UAtle3JNqe7y4p9qliE3OgD5SjhXI3PQ+w8yF3wlfoEvFmfzU+9CQuJGf0Za88YQ2+zPzY7fS6WOH8Bg6Zj4SBgtNDnuy8/JfkesvK1gm/FKyVKmUzubo+T0Qg1fCbyDRMgpcPCxBonBo0bJwdLY7uNpNIES+rq02LMgEUuasWYZB/jM/gu44bLFgtPbIUNccKlospYypZWlC86ebvUy2dI/Q1FTTys08Zlm/J5DTAJnk/tpqzqlHzRLqw75Fbcsgu2mdiQU4XcbEvoX2Mg9pvu+MkEwDItB82QKkeaY+5GTq85GaVfbu4Zse+Jqc2bKieMvGQud+IyD7wdFfn4dhkjeFdb89V400OfYoPD1gxO8bExWV4+Z9tMBg9K8RjkjrniZbK8lVwscXYxbT7aXDJHbvhcxOgGGUd2fUryJYAe+8xXQ+CSwyeatI7J2CY9JTUlb5lI1/nKv9WqRT9MgBT6YQJoe3ld7LGC0SQ5H8y+oU/rXB2kSUldWKbdROiYYFMx5rvJ11xTPPoq3RpsS9atGIJPNfHkApsLwC6sKzy7We3GKqcK68oXeZzkWLaNm4JPRQ5nW0L/GgMprCkf1P4rJbtiHk2tckQHJZ3iEt2gCIGXfgXyVTl8TyiE1eIwyC4wSKtyienXyNfyotmRcOb2sl6IfT5f2X8Dc/DHfNf60ggxxifIEIDns38GP8gdcfI287HZZCaoXKl34/icF15eELF5soHR5vjv6fC05Etw0Qr40b/tLEl65sSMuVUkkyeYNLnG8OrkiEJjt2ECaHN5fUFe6LtS8KJmd1aMqXzb1CN4teJD/YdiQ31ikTBDholZ2BALShWfJq2Ip7Z5u4JPNfGwTvODbRqLtGld/Cx8iX0XfEn2xTG1vXHXpJCbbUk6hjiw0iJHgjGFnkRwsXvcceA2tkNyg22wHak2sNKhjTTWYpT8KVdk2Tanu6lLfSpcem4U+CScq/Hd75hTIc8Hf8RClrdSW4IMHpJsHOSO+Aabh/4dKTkax9+NfAvdo3/Znu8/f2ryvR98knjlb8hxYOnuOU4Am7R+DAe89VOZNunJ2FCcV3SaY0VScdPqdb+9JwnfbUwTzPRoIen9WgMZHe+IxQD+7ctGpHrT0THaMSYVHxYb8PE2FERSjI8Tzk92sseRuh9LWLoiFWQknEOxUfO4f4ux+N23FWXV5cRHp+zM22PXwqf3xTfk+Or2v9nDct1KfiFO3X+z32G1AwOyiLEJN04iy3yPc8P6e9ucX6xzLY9Hv4P8G2Jq81hyOe5K9fxWXAzXwt+t3Ah5ZfPN4VWNZ0Rybig2LWYpPg1FjX3MxV7DJF753MVjkDvmYLR5jEnc/RvHl+Sr9ZN3TNgZGddj0TzsB1sY9Z4/6gjky+HQyWWVIoRI2sbgazJN+puZvL3Tk9lESFHoz2roz3zCtnPbFup9lu/SVeowMUybPXt1soJP6740vU5cTb5Zj/2tqvlf6cmTaOzDkznY2w2JE91uZBxJ2BZjG+8n+3Wmr5jzhci6Xa8Xvrloba7AxlVicQNgOnVMZT9fazdk3R86kjYXK86F6JOM8L5EGRafZj8VdMox62bF2vIz504o0qSbdDkbUv8hDqaHPoMu+Q3cXkQl3mYnzSeaG+O8MjnTPPFvZis+FrCmTzAxef3Gb55viSmJC3FgPWNuljg3kLdzw4hG7CV8SUfHeQ3XUEPIPsLZ8EjxEXjEfuvir7Vx7QZA8B3iMcgdc3C0OcaY/zSy5eI43jDpdvqYKjaWn71TywB/sIqR7/iDjkG+m8GghOiTpHcvkqk34mgPAjTBG9k9O55VwatvEvZA87A+Q1F9mKbPC34GGz/v3eNHMmHZjXBXN5Jlb8PR8QiAfDcwX07YZyeLDccPae6EtYzzIYbcRYncffuipyuBjbv2uyjfK+QZiO0ZbNyL97f0k9rUV7l2E+i38r/FMCh1CIB8HRjDoW551LUT5DvghQvuG7j6dt6PguUZiO0ZbPxRQa2MUQJuj7Wq3btqHK4dhQDI9yikoQcIAAEgAASAgCIA8kUqAAEgAASAABA4GAGQ78GAQx0QAAJAAAgAAZAvcgAIAAEgAASAwMEIgHwPBhzqgAAQAAJAAAiAfJEDQAAIAAEgAAQORgDkezDgUAcEgAAQAAJAAOSLHAACQAAIAAEgcDACIN+DAYc6IAAEgAAQAAIgX+QAEAACQAAIAIGDEXhz8pWvYCvfrHJDIPg7fevvoLxBiu96nc/Tub+ZxjetHNObe87uTSvxdWkrA29p4q/+y2/ikfO7QnCLTU/Wd4zTJxw45CsY7/Dd1PwVrff+asPLPH012dbs2sT2nl8tKxh/tQZ9IoMw5JsRAPl+LLzW7IbA3J18qTC0t/3sNYQmcSpy+t3U4QvW94pb6seFKelZ6ovrBQJFnIpem5c2CWJTwo4O+v3AN+eiE71Gcq7bTYfkO8j3JsjQ+ech8NTk++/fv/nv378zfX7u54eufKm43FzwyJcDSBHk+7lUa6PuFKdDyLcZ/fmDB5AvvwEL5Pv5mGDkj0Dgacn39+/f869fv+Y/f/7wJ53f/pPJV7aA6IX351PfWh22hLjwWbu+9DsUA5HbXvQ9tBFJxj7WJbwU2l6Aro5x0aneUhLs8VvAosNki5io17+E3F4Yvur/JvkWGLIBS9fFquhb2o0gnXQz0vyUmwwZs3zDEWVqv3I3QDFRoHgcHTd9H+PNkG/7GF/VFnVrexpD+dFjE3NuvPmKcZumaY6x89kf+8ZVIrUt55+XYvnQ83/P2OjHaZrmU74pTDh0DPSl9NMlvuC+3YhG2Ty/WpuOreYHOxXHlnaZ82zfNF8sV9I8tMc53u6QK9Q/NJLgqL/HTq53jLsf/pqZhs/XQeApyZdWukS8/ofOb18BS5HqSW4TxBV0noj53BdNLXRtsi3ITO198tlk6++B5cLtigr5ma/l87lcYYgtTfWcbSV+IbI23Xv9d3j4IPBxIWP1uvnvZGrRa3GxYt0dEa16PV+mRiE/82tWIlUdKt/G5ccGMtYX0IRbzokkT8Y7fxh3taWMk2JmBrG5nvCTfmtvcRM4FJR5CqS+kANu7IBVEyd2tThY/iyOVT9c7g5Y7MLO33yJ/d0GzVmH1Wa8jfjW7Go+W654/LNfCdMhD3O88njVwT5EjJdj4Q3E8Ssg8JTkS1vNtOL1P3RO12/7yRM7TgSR5SeaTqI08X3x5snjJjnL4IJrRODlqbWpIJcysmNpzB7yrSe2t2fLf1eY2grDr7TJyErG2vUcA3E0YMDFzfDLQFTn3qfeTnGyIt7kF7JbWx/qyLz2j8cUxdSJkMMcN7pa2CCrKyFwlu0IjwWVYwZt2nW8kQgpXNnEI7OvBa5+LNvkbzr4LsitfLM8sbdjN95kUg8/v6rzciWq4zjem3aJHe3/Clvvp96ECIbi07DS9TLC2KZFDxwmlZ25O85fBoGnJN9Hr3ytQEuUPTn4454DvjjwcSIm2X428lgqYH01XRV/b0vbzvbbeeUEj7rYtnxjYKuCReJIPm8WCFdMOkTLpMx2d9/bEK/HF7LWYeVAZXac7BFBJ1+7SaA+gYhs1ZxxavYIHpVsLsBL/pi5RZyEXLuNXbYQWRm3DUwGmc3JmBNs1qLNOZbrY0Wn5bk6HPzdwG4B++w/nzd/jOAr/CTe23ZZcPSzxNb7Ph7HmtFtIjNL/U2lkrfWDO9W64KDl0TgKcmXIvHIZ75xIslEk2v+uOeDLwY80coZdJ2v/GdAfuKqjFT8WEYq/jKBHXmEomaTPa06wh26riCS3EZCbHMutmRf8rmRUPc/HlUyqMfC9eR7k+X1lMWw9SwOyOaMhXS7ShCaX0x0KV4V/rI6JZniRxpiwufrkj9mZY4bXSf/hrhQg+RMJh8WtYiJxKs/Ssgrx+38M1PHmK2PlRxdI98N7DiNTwMW2X8/38TW9Xhv29U9XsbW+z4ex5ph81Fu7Er9TWWfF+v92gAcvAgCT0u+hD+tgO/72859IvT4ykSTyVW1p+K2WBRNop+4ei0VbJ6EoRgXenMRz+csOuqqJ7fvU+h5NPlm+Q0SV4Q3MTVs7bPyw9rksxXwArcR/7h6aWOjSD3b0F3oqx8ZdOGVPfVWtRJ52qKO9vp4m8nn+VTsANxKvqVNyd9oS/fRjipfeYybD6OMDcyr/El2mX7+rPrzNbuh8xiK7rtsO3P4/LPmYBVOXgyBpybfr8dCJlG/a60mcewjBGaT0Ird+EwtTEaauK14+ImrHnAh6NufokNWELZSiwVHJ7xf3XkZ16t+QUfWJefeNpbbivW2/30FuIR+JYP6Ll03YnOYqi8tLlUxJJGhIEZ7hjipfl6xJnm5uA9jS3t6vMSUvitRjrf4l3HSeFofhosIUVeRWb/esPjVbfOe+zos2dcxP8PK3dvUBLER/Fv/LQ6qd3lszi/1y+ep2uNlEP6mg7HzOBSE5ONl82PA3Mfb8GpKC7u832qj2WS7P33epHk1+LSAg/OL7BX5eV7I2K7bG4bjV0IA5Bu+ZCNPBAr1OBmEsPQZk/1ZRJvYNMYmtz2HOs3nyxIhxi0qSS6dvPwcSAupFkh5HkjXSIcrslak9NmRTF6RE0yzQtSeS/ttwh3+WzFv481HI6NKRsdkqahI8eyyQj/W6e0UlGxM9E/a+P9sK8Xqf/+dCcMg3zDR4shyT9M8rf25WYiHrFYubUvbbijMHx9/3SkJcRKbQ17xStQeVdiNhsmzP4MZMSFJQQ6BQzg0kIqcuBv59lzueUr6Yp7KSt98idgJ9vHb3TzZMlIBe4dBFW+LSRhD9hR2SRgEr9N5vpxPnCvsiyNOqwkNUgG996XYhkbqkGoCyWfbivlitg4yzEB8vgICb06+rxBC+HBvBCoCuLcOyAMCQOC9EQD5vnf84X2BAMi3AAWXgAAQuCsCIN+7wglhr4AAyPcVoggfgMDPRgDk+7PjA+uAABAAAkDgBREA+b5gUOESEAACQAAI/GwE/g8d3SXuj1npdQAAAABJRU5ErkJggg==)"
      ]
    },
    {
      "cell_type": "markdown",
      "metadata": {
        "id": "QooSBCQWmkum"
      },
      "source": [
        "Instead of 'a', I am writing 's2'."
      ]
    },
    {
      "cell_type": "code",
      "metadata": {
        "colab": {
          "base_uri": "https://localhost:8080/",
          "height": 163
        },
        "id": "YPA1AavvmP6N",
        "outputId": "0a8ebae1-db31-4415-dd30-a015e8366584"
      },
      "source": [
        "add_string(s1, )"
      ],
      "execution_count": null,
      "outputs": [
        {
          "output_type": "error",
          "ename": "TypeError",
          "evalue": "ignored",
          "traceback": [
            "\u001b[0;31m---------------------------------------------------------------------------\u001b[0m",
            "\u001b[0;31mTypeError\u001b[0m                                 Traceback (most recent call last)",
            "\u001b[0;32m<ipython-input-120-fb8aa90649e4>\u001b[0m in \u001b[0;36m<module>\u001b[0;34m()\u001b[0m\n\u001b[0;32m----> 1\u001b[0;31m \u001b[0madd_string\u001b[0m\u001b[0;34m(\u001b[0m\u001b[0ms1\u001b[0m\u001b[0;34m,\u001b[0m \u001b[0;34m)\u001b[0m\u001b[0;34m\u001b[0m\u001b[0;34m\u001b[0m\u001b[0m\n\u001b[0m",
            "\u001b[0;31mTypeError\u001b[0m: <lambda>() missing 1 required positional argument: 's2'"
          ]
        }
      ]
    },
    {
      "cell_type": "code",
      "metadata": {
        "colab": {
          "base_uri": "https://localhost:8080/",
          "height": 129
        },
        "id": "rvjzgQTCmi35",
        "outputId": "95d3ea81-49d9-45f5-cc8b-cca3bcbfb0e1"
      },
      "source": [
        "i = 0;\n",
        "for i in range(0,10):\n",
        "xyz = 231"
      ],
      "execution_count": null,
      "outputs": [
        {
          "output_type": "error",
          "ename": "IndentationError",
          "evalue": "ignored",
          "traceback": [
            "\u001b[0;36m  File \u001b[0;32m\"<ipython-input-122-05ce2245151b>\"\u001b[0;36m, line \u001b[0;32m3\u001b[0m\n\u001b[0;31m    xyz = 231\u001b[0m\n\u001b[0m      ^\u001b[0m\n\u001b[0;31mIndentationError\u001b[0m\u001b[0;31m:\u001b[0m expected an indented block\n"
          ]
        }
      ]
    },
    {
      "cell_type": "markdown",
      "metadata": {
        "id": "7l94MZWsnCj2"
      },
      "source": [
        "## Problem 11"
      ]
    },
    {
      "cell_type": "markdown",
      "metadata": {
        "id": "Pw9TGYjdnL9X"
      },
      "source": [
        "![image.png](data:image/png;base64,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)"
      ]
    },
    {
      "cell_type": "code",
      "metadata": {
        "id": "ZfiwiM5Am883"
      },
      "source": [
        "def greeting(name, age):\n",
        "    # opcion nico\n",
        "    name = str(name)\n",
        "    age = str(age)\n",
        "    y = print('Hy, my name is ', name, ' and I am ', str(age), ' years old.')\n",
        "\n",
        "    return y\n",
        "\n",
        "    # opcion gera\n",
        "    # return print(f'Hy, my name is {name} and I am {age} years old.')"
      ],
      "execution_count": null,
      "outputs": []
    },
    {
      "cell_type": "code",
      "metadata": {
        "colab": {
          "base_uri": "https://localhost:8080/"
        },
        "id": "MINzKB1Zq6qE",
        "outputId": "b464d2ea-c8a8-4be1-827d-6a3eecec5b7c"
      },
      "source": [
        "greeting('Nicolás', 21)"
      ],
      "execution_count": null,
      "outputs": [
        {
          "output_type": "stream",
          "text": [
            "Hy, my name is Nicolás and I am 21 years old.\n"
          ],
          "name": "stdout"
        }
      ]
    },
    {
      "cell_type": "markdown",
      "metadata": {
        "id": "qnpXI4qlsJoj"
      },
      "source": [
        "## Problem 12"
      ]
    },
    {
      "cell_type": "markdown",
      "metadata": {
        "id": "16_gxj8msRIa"
      },
      "source": [
        "![image.png](data:image/png;base64,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)"
      ]
    },
    {
      "cell_type": "markdown",
      "metadata": {
        "id": "ZeWLSizxtXkg"
      },
      "source": [
        "Vectorized function"
      ]
    },
    {
      "cell_type": "code",
      "metadata": {
        "id": "FRyZ9LtLq-Tl"
      },
      "source": [
        "def my_donut_area(r1, r2):\n",
        "    two = np.ones(int(len(r1)))\n",
        "    area = np.pi * (np.power(r2, two) - np.power(r1, two))\n",
        "    return area\n",
        "\n",
        "# def my_donut_area(r1,r2):\n",
        "\n"
      ],
      "execution_count": null,
      "outputs": []
    },
    {
      "cell_type": "code",
      "metadata": {
        "colab": {
          "base_uri": "https://localhost:8080/"
        },
        "id": "9NczMXvRtPK-",
        "outputId": "a332ad72-481c-49be-f662-2b0d00a30946"
      },
      "source": [
        "my_donut_area(np.arange(1, 4), np.arange(2, 7, 2))"
      ],
      "execution_count": null,
      "outputs": [
        {
          "output_type": "execute_result",
          "data": {
            "text/plain": [
              "array([3.14159265, 6.28318531, 9.42477796])"
            ]
          },
          "metadata": {
            "tags": []
          },
          "execution_count": 58
        }
      ]
    },
    {
      "cell_type": "markdown",
      "metadata": {
        "id": "Q1WBtq_Qta5z"
      },
      "source": [
        "Scalar function"
      ]
    },
    {
      "cell_type": "code",
      "metadata": {
        "id": "469cLrhytUtK"
      },
      "source": [
        "def your_donut_area(r1, r2):\n",
        "    area = math.pi * (r2**2 - r1**2)\n",
        "    return area"
      ],
      "execution_count": null,
      "outputs": []
    },
    {
      "cell_type": "code",
      "metadata": {
        "colab": {
          "base_uri": "https://localhost:8080/"
        },
        "id": "G-2gYF5ntlZr",
        "outputId": "d51dcc30-0f6e-40fa-ca0d-01c87f9826d6"
      },
      "source": [
        "your_donut_area(2,4)"
      ],
      "execution_count": null,
      "outputs": [
        {
          "output_type": "execute_result",
          "data": {
            "text/plain": [
              "37.69911184307752"
            ]
          },
          "metadata": {
            "tags": []
          },
          "execution_count": 133
        }
      ]
    },
    {
      "cell_type": "markdown",
      "metadata": {
        "id": "3RntZfcOtqjC"
      },
      "source": [
        "## Problem 13"
      ]
    },
    {
      "cell_type": "markdown",
      "metadata": {
        "id": "hzYgc0zstzKv"
      },
      "source": [
        "![image.png](data:image/png;base64,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)"
      ]
    },
    {
      "cell_type": "code",
      "metadata": {
        "id": "wyBsLu76toAc"
      },
      "source": [
        "def my_within_tolerance(A, a, tol):\n",
        "    b = a * np.ones(int(len(A)))\n",
        "    c = tol * np.ones(int(len(A)))\n",
        "    d = np.abs(A - b)\n",
        "    e = []\n",
        "    for i in range(0,int(len(A))):\n",
        "      if d[i] < c[i]:\n",
        "        e.append(i)\n",
        "    return e\n",
        "\n",
        "# def my_within_tolerance(A, a, tol):\n",
        "#   a = np.full(len(A),a)\n",
        "#   diff = np.abs(A - a)\n",
        "#   return np.where(diff<tol)"
      ],
      "execution_count": null,
      "outputs": []
    },
    {
      "cell_type": "code",
      "metadata": {
        "colab": {
          "base_uri": "https://localhost:8080/"
        },
        "id": "PFDtRcTix5_2",
        "outputId": "a0298413-1391-4d85-f5a9-ad8e9836ddb6"
      },
      "source": [
        "my_within_tolerance([0, 1, 2, 3], 1.5, 0.75)"
      ],
      "execution_count": null,
      "outputs": [
        {
          "output_type": "execute_result",
          "data": {
            "text/plain": [
              "(array([1, 2]),)"
            ]
          },
          "metadata": {
            "tags": []
          },
          "execution_count": 94
        }
      ]
    },
    {
      "cell_type": "code",
      "metadata": {
        "colab": {
          "base_uri": "https://localhost:8080/"
        },
        "id": "Q9_QYUJYyBDK",
        "outputId": "4e69c237-08ec-4752-974a-6e5bc934e67f"
      },
      "source": [
        "my_within_tolerance(np.arange(0, 1.01, 0.01), 0.5, 0.03)"
      ],
      "execution_count": null,
      "outputs": [
        {
          "output_type": "execute_result",
          "data": {
            "text/plain": [
              "(array([47, 48, 49, 50, 51, 52]),)"
            ]
          },
          "metadata": {
            "tags": []
          },
          "execution_count": 99
        }
      ]
    },
    {
      "cell_type": "markdown",
      "metadata": {
        "id": "9xrYXZYJ0tHk"
      },
      "source": [
        "## Problem 14"
      ]
    },
    {
      "cell_type": "markdown",
      "metadata": {
        "id": "TKV25I2a0yI7"
      },
      "source": [
        "![image.png](data:image/png;base64,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)"
      ]
    },
    {
      "cell_type": "code",
      "metadata": {
        "id": "aUkKVCGG0u3U"
      },
      "source": [
        "def bounding_array(A, top, bottom):\n",
        "    top1 = top * np.ones(int(len(A)))\n",
        "    bottom1 = bottom * np.ones(int(len(A)))\n",
        "    a1 = []\n",
        "    for i in range(0,int(len(A))):\n",
        "      if A[i] <= bottom1[i]:\n",
        "        a1.append(bottom1[i])\n",
        "      elif bottom1[i] < A[i] < top1[i]:\n",
        "        a1.append(A[i])\n",
        "      else:\n",
        "        a1.append(top1[i])\n",
        "    return a1\n",
        "'''\n",
        "def bounding_array(A, top, bottom):\n",
        "  A = np.where(A <= bottom, bottom,(np.where(A >= top, top,A))) \n",
        "  return A   \n",
        "  print(A)\n",
        "'''"
      ],
      "execution_count": null,
      "outputs": []
    },
    {
      "cell_type": "code",
      "metadata": {
        "colab": {
          "base_uri": "https://localhost:8080/"
        },
        "id": "xQXdieAd3E2q",
        "outputId": "dab3c926-d4e2-4eaa-ebdd-b6b33c2d54e9"
      },
      "source": [
        "bounding_array(np.arange(-5, 6, 1), 3, -3)"
      ],
      "execution_count": null,
      "outputs": [
        {
          "output_type": "stream",
          "text": [
            "[-3 -3 -3 -2 -1  0  1  2  3  3  3]\n"
          ],
          "name": "stdout"
        }
      ]
    },
    {
      "cell_type": "markdown",
      "metadata": {
        "id": "qJmUi9VX3qUX"
      },
      "source": [
        "# Chapter 4: Branching Statements"
      ]
    },
    {
      "cell_type": "code",
      "metadata": {
        "id": "atTgpooU3sEF"
      },
      "source": [
        "import numpy as np\n",
        "import matplotlib.pyplot as plt\n",
        "import math\n",
        "from sympy.abc import a, b, c, x, y, z, r, u, v, t, symbols"
      ],
      "execution_count": 1,
      "outputs": []
    },
    {
      "cell_type": "markdown",
      "metadata": {
        "id": "Am8PBeXQ3thZ"
      },
      "source": [
        "### Problem 1"
      ]
    },
    {
      "cell_type": "code",
      "metadata": {
        "id": "hU-Vuf3q2Trg"
      },
      "source": [
        ""
      ],
      "execution_count": null,
      "outputs": []
    }
  ]
}