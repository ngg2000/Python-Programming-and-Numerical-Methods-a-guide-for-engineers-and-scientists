{
  "nbformat": 4,
  "nbformat_minor": 0,
  "metadata": {
    "colab": {
      "name": "Python Programming And Numerical Methods: A Guide For Engineers And Scientists.ipynb",
      "provenance": [],
      "collapsed_sections": [],
      "toc_visible": true,
      "include_colab_link": true
    },
    "kernelspec": {
      "name": "python3",
      "display_name": "Python 3"
    },
    "language_info": {
      "name": "python"
    }
  },
  "cells": [
    {
      "cell_type": "markdown",
      "metadata": {
        "id": "view-in-github",
        "colab_type": "text"
      },
      "source": [
        "<a href=\"https://colab.research.google.com/github/ngg2000/Vanadium-Redox-Battery/blob/main/Python_Programming_And_Numerical_Methods_A_Guide_For_Engineers_And_Scientists.ipynb\" target=\"_parent\"><img src=\"https://colab.research.google.com/assets/colab-badge.svg\" alt=\"Open In Colab\"/></a>"
      ]
    },
    {
      "cell_type": "markdown",
      "metadata": {
        "id": "hR9WEXMqhINa"
      },
      "source": [
        "#<h1>Chapter 1: Python basics</h1>\n",
        "\n"
      ]
    },
    {
      "cell_type": "markdown",
      "metadata": {
        "id": "fVJMnq6th5ry"
      },
      "source": [
        "### Problem 1. \n",
        "\n",
        "Print “I love Python” using Python Shell."
      ]
    },
    {
      "cell_type": "code",
      "metadata": {
        "colab": {
          "base_uri": "https://localhost:8080/"
        },
        "id": "Fgc9fiqhDmwq",
        "outputId": "8dced190-d212-43a4-e660-4067a6cd7c62"
      },
      "source": [
        "print('I love Python')"
      ],
      "execution_count": 4,
      "outputs": [
        {
          "output_type": "stream",
          "text": [
            "I love Python\n"
          ],
          "name": "stdout"
        }
      ]
    },
    {
      "cell_type": "markdown",
      "metadata": {
        "id": "i55_ZwWDiE8F"
      },
      "source": [
        "### Problem 2. "
      ]
    },
    {
      "cell_type": "markdown",
      "metadata": {
        "id": "N50pstqIEAq4"
      },
      "source": [
        "Print “I love Python” by typing it into a .py file and run it from command line."
      ]
    },
    {
      "cell_type": "code",
      "metadata": {
        "colab": {
          "base_uri": "https://localhost:8080/"
        },
        "id": "D_g-5HBRECa_",
        "outputId": "cdacc10b-771f-4955-fe39-60244e1ccb20"
      },
      "source": [
        "print('I love Python')"
      ],
      "execution_count": 5,
      "outputs": [
        {
          "output_type": "stream",
          "text": [
            "I love Python\n"
          ],
          "name": "stdout"
        }
      ]
    },
    {
      "cell_type": "markdown",
      "metadata": {
        "id": "NMdJxBZqEd2r"
      },
      "source": [
        "### Problem 3"
      ]
    },
    {
      "cell_type": "markdown",
      "metadata": {
        "id": "4dirtXgLEvEL"
      },
      "source": [
        "Type import antigravity in the Ipython Shell, it will take you to xkcd and see the awesome Python."
      ]
    },
    {
      "cell_type": "code",
      "metadata": {
        "id": "22MmbNhmEvpP"
      },
      "source": [
        "import antigravity"
      ],
      "execution_count": 6,
      "outputs": []
    },
    {
      "cell_type": "markdown",
      "metadata": {
        "id": "ymJAj9owE9Sk"
      },
      "source": [
        "### Problem  4"
      ]
    },
    {
      "cell_type": "markdown",
      "metadata": {
        "id": "vMQZMKptFAKT"
      },
      "source": [
        "Launch a new Jupyter notebook server in a folder called “excercis” and create a new Python notebook with the name “excercis_1”, then you can do the rest of the problems within this notebook."
      ]
    },
    {
      "cell_type": "markdown",
      "metadata": {
        "id": "SU-N96xgFHIb"
      },
      "source": [
        "* Unable to do it: i'm working in Colab."
      ]
    },
    {
      "cell_type": "markdown",
      "metadata": {
        "id": "IBXaoqxyFUir"
      },
      "source": [
        "### Problem 5"
      ]
    },
    {
      "cell_type": "markdown",
      "metadata": {
        "id": "dIBOKLnCFbh2"
      },
      "source": [
        "Compute the area of a triangle with base 10 and height 12. Recall that the area of a triangle is half the base times the height"
      ]
    },
    {
      "cell_type": "code",
      "metadata": {
        "colab": {
          "base_uri": "https://localhost:8080/"
        },
        "id": "GHRGkrdSFciV",
        "outputId": "a145d429-fa11-4db4-cc68-3671ee80faef"
      },
      "source": [
        "b = 10;\n",
        "h = 12;\n",
        "a = 0.5*b*h;\n",
        "print('The area of a triangle is' , str(a) , )"
      ],
      "execution_count": 7,
      "outputs": [
        {
          "output_type": "stream",
          "text": [
            "The area of a triangle is 60.0\n"
          ],
          "name": "stdout"
        }
      ]
    },
    {
      "cell_type": "markdown",
      "metadata": {
        "id": "YvUoNTWFFyUS"
      },
      "source": [
        "### Problem 6"
      ]
    },
    {
      "cell_type": "markdown",
      "metadata": {
        "id": "7ghG4m9SF-4z"
      },
      "source": [
        "Compute the surface area and volume of a cylinder with radius 5 and height 3"
      ]
    },
    {
      "cell_type": "code",
      "metadata": {
        "id": "GGetWbVVGJek"
      },
      "source": [
        "r = 5;\n",
        "h = 3;\n",
        "import math"
      ],
      "execution_count": 8,
      "outputs": []
    },
    {
      "cell_type": "markdown",
      "metadata": {
        "id": "8ZoWhVPZGFsV"
      },
      "source": [
        "* Area of a cylinder"
      ]
    },
    {
      "cell_type": "code",
      "metadata": {
        "colab": {
          "base_uri": "https://localhost:8080/"
        },
        "id": "ulv495EFGrLy",
        "outputId": "eec47d85-f5b9-4c9d-ec34-92b0d5296def"
      },
      "source": [
        "a = 2 * math.pi * r**2 + 2 * math.pi * r * h\n",
        "print('The surface area of a cylinder is' , str(a), )"
      ],
      "execution_count": 9,
      "outputs": [
        {
          "output_type": "stream",
          "text": [
            "The surface area of a cylinder is 251.32741228718345\n"
          ],
          "name": "stdout"
        }
      ]
    },
    {
      "cell_type": "markdown",
      "metadata": {
        "id": "ga3-uvIsGSLy"
      },
      "source": [
        "* Volume of a cylinder"
      ]
    },
    {
      "cell_type": "code",
      "metadata": {
        "colab": {
          "base_uri": "https://localhost:8080/"
        },
        "id": "JCAcJBiqFuKt",
        "outputId": "be6dfe5e-ace5-4995-9b41-c5a2c9c961a7"
      },
      "source": [
        "v = math.pi  * r**2 * h\n",
        "print('The volume of a cylinder is' , str(v) , )"
      ],
      "execution_count": 10,
      "outputs": [
        {
          "output_type": "stream",
          "text": [
            "The volume of a cylinder is 235.61944901923448\n"
          ],
          "name": "stdout"
        }
      ]
    },
    {
      "cell_type": "markdown",
      "metadata": {
        "id": "0X4PCfT9HQ6C"
      },
      "source": [
        "### Problem 7"
      ]
    },
    {
      "cell_type": "markdown",
      "metadata": {
        "id": "agaM4-xHHSwV"
      },
      "source": [
        "Compute the slope between the points (3,4) and (5,9). Recall that the slope between points $(x_1,y_1)$ and $(x_2,y_2)$ is $\\frac{y_2−y_1}{x_2−x_1}$"
      ]
    },
    {
      "cell_type": "code",
      "metadata": {
        "colab": {
          "base_uri": "https://localhost:8080/"
        },
        "id": "Uamv37WMGeGv",
        "outputId": "484ae878-2a41-4032-94d7-213ac213f882"
      },
      "source": [
        "x1 = 3\n",
        "x2 = 5\n",
        "y1 = 4\n",
        "y2 = 9\n",
        "m = 1 / ((x2 - x1) / (y2 - y1))\n",
        "print('The slope between the points (3,4) and (5,9) is' , str(m) , )"
      ],
      "execution_count": 11,
      "outputs": [
        {
          "output_type": "stream",
          "text": [
            "The slope between the points (3,4) and (5,9) is 2.5\n"
          ],
          "name": "stdout"
        }
      ]
    },
    {
      "cell_type": "markdown",
      "metadata": {
        "id": "ESh9kDc2IPNm"
      },
      "source": [
        "### Problem 8"
      ]
    },
    {
      "cell_type": "markdown",
      "metadata": {
        "id": "v7vrpI6PITyv"
      },
      "source": [
        "Compute the distance between the points (3,4) and (5,9). Recall that the distance between points in two dimensions is $\\sqrt{(x_2−x_1)^2+(y_2−y_1)^2}$."
      ]
    },
    {
      "cell_type": "code",
      "metadata": {
        "colab": {
          "base_uri": "https://localhost:8080/"
        },
        "id": "LHLiF-PHH85s",
        "outputId": "6c9f3eaf-fd10-4db0-b0cd-bccce8e88c48"
      },
      "source": [
        "d = math.sqrt((x2 - x1)**2 + (y2 - y1)**2)\n",
        "print('The distance between the points (3,4) and (5,9) is' , str(d) , )"
      ],
      "execution_count": 12,
      "outputs": [
        {
          "output_type": "stream",
          "text": [
            "The distance between the points (3,4) and (5,9) is 5.385164807134504\n"
          ],
          "name": "stdout"
        }
      ]
    },
    {
      "cell_type": "markdown",
      "metadata": {
        "id": "GpZ3ThN4I-eM"
      },
      "source": [
        "### Problem 9"
      ]
    },
    {
      "cell_type": "markdown",
      "metadata": {
        "id": "wn7YrksKJCmY"
      },
      "source": [
        "Use Python’s factorial function to compute $6!$"
      ]
    },
    {
      "cell_type": "code",
      "metadata": {
        "colab": {
          "base_uri": "https://localhost:8080/"
        },
        "id": "NzJCU31-Izg7",
        "outputId": "66c20ea7-28d9-4721-95d6-2b3a9dd93f73"
      },
      "source": [
        "fac = math.factorial(6)\n",
        "print('6! = ' , str(fac) , )"
      ],
      "execution_count": 13,
      "outputs": [
        {
          "output_type": "stream",
          "text": [
            "6! =  720\n"
          ],
          "name": "stdout"
        }
      ]
    },
    {
      "cell_type": "markdown",
      "metadata": {
        "id": "YsQiJ2J-Jfcd"
      },
      "source": [
        "### Problem 10"
      ]
    },
    {
      "cell_type": "markdown",
      "metadata": {
        "id": "kk9J9zbgJsO7"
      },
      "source": [
        "A year is considered to be 365 days long. However, a more exact figure is 365.24 days. As a consequence, if we held to the standard 365-day year, we would gradually lose that fraction of the day over time, and seasons and other astronomical events would not occur as expected. A leap year is a year that has an extra day, February 29, to keep the timescale on track. Leap years occur on years that are exactly divisible by 4, unless it is exactly divisible by 100, unless it is divisible by 400. For example, the year 2004 is a leap year, the year 1900 is not a leap year, and the year 2000 is a leap year.\n",
        "Compute the number of leap years between the years 1500 and 2010."
      ]
    },
    {
      "cell_type": "markdown",
      "metadata": {
        "id": "bRKyzGOzLbu5"
      },
      "source": [
        "1. Let's start by defining the years between 1500 and 2010:"
      ]
    },
    {
      "cell_type": "code",
      "metadata": {
        "colab": {
          "base_uri": "https://localhost:8080/"
        },
        "id": "qN46J82mJgEY",
        "outputId": "220c2831-849c-4e1b-886f-0fd167103012"
      },
      "source": [
        "2010-1500"
      ],
      "execution_count": 14,
      "outputs": [
        {
          "output_type": "execute_result",
          "data": {
            "text/plain": [
              "510"
            ]
          },
          "metadata": {
            "tags": []
          },
          "execution_count": 14
        }
      ]
    },
    {
      "cell_type": "markdown",
      "metadata": {
        "id": "V6au0m2RLt9d"
      },
      "source": [
        "2. Then, the number of leap years is the entire part of $\\frac{510}{4}$ "
      ]
    },
    {
      "cell_type": "code",
      "metadata": {
        "colab": {
          "base_uri": "https://localhost:8080/"
        },
        "id": "59nFxh9BLs9C",
        "outputId": "1f8e7b17-a3e1-4f74-b864-2bb484c623a9"
      },
      "source": [
        "510/4"
      ],
      "execution_count": 15,
      "outputs": [
        {
          "output_type": "execute_result",
          "data": {
            "text/plain": [
              "127.5"
            ]
          },
          "metadata": {
            "tags": []
          },
          "execution_count": 15
        }
      ]
    },
    {
      "cell_type": "markdown",
      "metadata": {
        "id": "Bq7cIOrGMCeO"
      },
      "source": [
        "3. Answer: the number of leap years between 1500 and 2010 is 127 years."
      ]
    },
    {
      "cell_type": "markdown",
      "metadata": {
        "id": "rICTJqtDMNqr"
      },
      "source": [
        "### Problem 11"
      ]
    },
    {
      "cell_type": "markdown",
      "metadata": {
        "id": "7COnbOPLMTxd"
      },
      "source": [
        "A very powerful approximation for π was developed by a brilliant mathematician named Srinivasa Ramanujan. The approximation is the following:\n",
        "$\\frac{1}{π}≈\\frac{2\\sqrt{2}}{9801} ∑^N_{k=0}\\frac{(4k)!(1103+26390k)}{(k!)^4 396^{4k}}$\n",
        "Use Ramanujan’s formula for $N=0$ and $N=1$ to approximate π. Be sure to use format long. Compare your approximation with Python’s stored value for pi. Hint: $0!=1$ by definition."
      ]
    },
    {
      "cell_type": "markdown",
      "metadata": {
        "id": "Hxy1cHPmNgmE"
      },
      "source": [
        "* Ramanujan's formula:"
      ]
    },
    {
      "cell_type": "code",
      "metadata": {
        "colab": {
          "base_uri": "https://localhost:8080/"
        },
        "id": "_4DnCEeKL9-n",
        "outputId": "e11d4b37-0319-47f8-cec2-175c9f622840"
      },
      "source": [
        "piinv=0\n",
        "for i in range(0,2):\n",
        "  piinv=piinv+(math.factorial(4*i)*(1103+26390*i)/(((math.factorial(i))**4)*math.pow(396,4*i)))\n",
        "\n",
        "1/(2*(math.sqrt(2)/9801)*piinv)"
      ],
      "execution_count": 16,
      "outputs": [
        {
          "output_type": "execute_result",
          "data": {
            "text/plain": [
              "3.1415926535897936"
            ]
          },
          "metadata": {
            "tags": []
          },
          "execution_count": 16
        }
      ]
    },
    {
      "cell_type": "markdown",
      "metadata": {
        "id": "KSaFfpioNWv5"
      },
      "source": [
        "* Comparing my aproximation with Python's stored value for pi:"
      ]
    },
    {
      "cell_type": "code",
      "metadata": {
        "colab": {
          "base_uri": "https://localhost:8080/"
        },
        "id": "SfPzWKenNGMc",
        "outputId": "f5059c1a-a883-4600-d349-a01260519d2f"
      },
      "source": [
        "math.pi - 1/(2*(math.sqrt(2)/9801)*piinv)"
      ],
      "execution_count": 17,
      "outputs": [
        {
          "output_type": "execute_result",
          "data": {
            "text/plain": [
              "-4.440892098500626e-16"
            ]
          },
          "metadata": {
            "tags": []
          },
          "execution_count": 17
        }
      ]
    },
    {
      "cell_type": "markdown",
      "metadata": {
        "id": "_y_LhxcsNmoz"
      },
      "source": [
        "### Problem 12"
      ]
    },
    {
      "cell_type": "markdown",
      "metadata": {
        "id": "mr3x-GLJNvxb"
      },
      "source": [
        "The hyperbolic sin or sinh is defined in terms of exponentials as $sinh(x)=\\frac{exp(x)−exp(−x)}{2}$.\n",
        "Compute sinh for $x=2$ using exponentials. Verify that the result is indeed the hyperbolic sin using Python’s function sinh in the math module."
      ]
    },
    {
      "cell_type": "markdown",
      "metadata": {
        "id": "A4QwBccrPrwu"
      },
      "source": [
        "* Computing $sinh(x)|_{x=2}$ :"
      ]
    },
    {
      "cell_type": "code",
      "metadata": {
        "colab": {
          "base_uri": "https://localhost:8080/"
        },
        "id": "B-5BHFg2NUyC",
        "outputId": "82928472-c5a8-4632-fb70-53746431d847"
      },
      "source": [
        "sinh2 = 0.5 * (math.exp(2) - math.exp(-2))\n",
        "sinh2"
      ],
      "execution_count": 18,
      "outputs": [
        {
          "output_type": "execute_result",
          "data": {
            "text/plain": [
              "3.626860407847019"
            ]
          },
          "metadata": {
            "tags": []
          },
          "execution_count": 18
        }
      ]
    },
    {
      "cell_type": "markdown",
      "metadata": {
        "id": "zJ6WXTOTPje-"
      },
      "source": [
        "- Verification"
      ]
    },
    {
      "cell_type": "code",
      "metadata": {
        "colab": {
          "base_uri": "https://localhost:8080/"
        },
        "id": "RlJJRK8XPft_",
        "outputId": "b4d71b04-2847-41ea-8296-9d04b8ec888b"
      },
      "source": [
        "sinh2 - math.sinh(2)"
      ],
      "execution_count": 19,
      "outputs": [
        {
          "output_type": "execute_result",
          "data": {
            "text/plain": [
              "0.0"
            ]
          },
          "metadata": {
            "tags": []
          },
          "execution_count": 19
        }
      ]
    },
    {
      "cell_type": "markdown",
      "metadata": {
        "id": "c3BS1mKsP9er"
      },
      "source": [
        "### Problem 13"
      ]
    },
    {
      "cell_type": "markdown",
      "metadata": {
        "id": "ywLW_RzgQLl7"
      },
      "source": [
        "Verify that $sin^2(x) + cos^2(x)=1$ for $x=π,\\frac{π}{2},\\frac{π}{4},\\frac{π}{6}$."
      ]
    },
    {
      "cell_type": "markdown",
      "metadata": {
        "id": "HKFqOeYAQwLd"
      },
      "source": [
        "$x = \\pi$"
      ]
    },
    {
      "cell_type": "code",
      "metadata": {
        "colab": {
          "base_uri": "https://localhost:8080/"
        },
        "id": "MgGUzQR6PiQf",
        "outputId": "a1db6136-a566-4278-dba4-e1b4e7bea808"
      },
      "source": [
        "math.sin(math.pi)**2 + math.cos(math.pi)**2"
      ],
      "execution_count": 20,
      "outputs": [
        {
          "output_type": "execute_result",
          "data": {
            "text/plain": [
              "1.0"
            ]
          },
          "metadata": {
            "tags": []
          },
          "execution_count": 20
        }
      ]
    },
    {
      "cell_type": "markdown",
      "metadata": {
        "id": "4OIOjRZIQzAi"
      },
      "source": [
        "$x = \\frac{\\pi}{2}$"
      ]
    },
    {
      "cell_type": "code",
      "metadata": {
        "colab": {
          "base_uri": "https://localhost:8080/"
        },
        "id": "ZFshve_DQogA",
        "outputId": "c5e01768-eb79-449b-9022-f88883e6097e"
      },
      "source": [
        "math.sin(1/2*math.pi)**2 + math.cos(1/2*math.pi)**2"
      ],
      "execution_count": 21,
      "outputs": [
        {
          "output_type": "execute_result",
          "data": {
            "text/plain": [
              "1.0"
            ]
          },
          "metadata": {
            "tags": []
          },
          "execution_count": 21
        }
      ]
    },
    {
      "cell_type": "markdown",
      "metadata": {
        "id": "eSUIdsMXQ8CQ"
      },
      "source": [
        "$x = \\frac{\\pi}{4}$"
      ]
    },
    {
      "cell_type": "code",
      "metadata": {
        "colab": {
          "base_uri": "https://localhost:8080/"
        },
        "id": "BAhEBO-WQu85",
        "outputId": "f91453cc-4e1a-4200-a8d8-50f7b1ac0967"
      },
      "source": [
        "math.sin(1/4*math.pi)**2 + math.cos(1/4*math.pi)**2"
      ],
      "execution_count": 22,
      "outputs": [
        {
          "output_type": "execute_result",
          "data": {
            "text/plain": [
              "1.0"
            ]
          },
          "metadata": {
            "tags": []
          },
          "execution_count": 22
        }
      ]
    },
    {
      "cell_type": "markdown",
      "metadata": {
        "id": "ksGXAAc8RAk1"
      },
      "source": [
        "$x = \\frac{\\pi}{6}$"
      ]
    },
    {
      "cell_type": "code",
      "metadata": {
        "colab": {
          "base_uri": "https://localhost:8080/"
        },
        "id": "Z-lkENp1Q7QU",
        "outputId": "e4532506-d3b5-43f8-d807-b06ac1998c84"
      },
      "source": [
        "math.sin(1/6*math.pi)**2 + math.cos(1/6*math.pi)**2"
      ],
      "execution_count": 23,
      "outputs": [
        {
          "output_type": "execute_result",
          "data": {
            "text/plain": [
              "1.0"
            ]
          },
          "metadata": {
            "tags": []
          },
          "execution_count": 23
        }
      ]
    },
    {
      "cell_type": "markdown",
      "metadata": {
        "id": "NeBFHXyARLA3"
      },
      "source": [
        "### Problem 14"
      ]
    },
    {
      "cell_type": "markdown",
      "metadata": {
        "id": "2d3cOhxrRSPy"
      },
      "source": [
        "Compute the $sin \\ 87°$."
      ]
    },
    {
      "cell_type": "code",
      "metadata": {
        "colab": {
          "base_uri": "https://localhost:8080/"
        },
        "id": "KXIJoETdRE8L",
        "outputId": "6fe24ca1-8e0d-4563-f879-998ba506c911"
      },
      "source": [
        "s87 = math.sin(math.radians(87))\n",
        "print('The sin of 87º is ' , str(s87) , )"
      ],
      "execution_count": 24,
      "outputs": [
        {
          "output_type": "stream",
          "text": [
            "The sin of 87º is  0.9986295347545738\n"
          ],
          "name": "stdout"
        }
      ]
    },
    {
      "cell_type": "markdown",
      "metadata": {
        "id": "VgOKLrK1RyWE"
      },
      "source": [
        "### Problem 15"
      ]
    },
    {
      "cell_type": "markdown",
      "metadata": {
        "id": "Izyuj4oOR7GE"
      },
      "source": [
        "Write a Python statement that generates the following error:\n",
        "“AttributeError: module ‘math’ has no attribute ‘sni’”\n",
        "\n",
        "Hint: sni is a misspelling of the function sin."
      ]
    },
    {
      "cell_type": "code",
      "metadata": {
        "colab": {
          "base_uri": "https://localhost:8080/",
          "height": 163
        },
        "id": "DARlXfmQRtnH",
        "outputId": "5549d3a7-fa19-4136-9444-57aef5893b78"
      },
      "source": [
        "math.sni(math.pi * 1/2)"
      ],
      "execution_count": 25,
      "outputs": [
        {
          "output_type": "error",
          "ename": "AttributeError",
          "evalue": "ignored",
          "traceback": [
            "\u001b[0;31m---------------------------------------------------------------------------\u001b[0m",
            "\u001b[0;31mAttributeError\u001b[0m                            Traceback (most recent call last)",
            "\u001b[0;32m<ipython-input-25-7635e51f6a4f>\u001b[0m in \u001b[0;36m<module>\u001b[0;34m()\u001b[0m\n\u001b[0;32m----> 1\u001b[0;31m \u001b[0mmath\u001b[0m\u001b[0;34m.\u001b[0m\u001b[0msni\u001b[0m\u001b[0;34m(\u001b[0m\u001b[0mmath\u001b[0m\u001b[0;34m.\u001b[0m\u001b[0mpi\u001b[0m \u001b[0;34m*\u001b[0m \u001b[0;36m1\u001b[0m\u001b[0;34m/\u001b[0m\u001b[0;36m2\u001b[0m\u001b[0;34m)\u001b[0m\u001b[0;34m\u001b[0m\u001b[0;34m\u001b[0m\u001b[0m\n\u001b[0m",
            "\u001b[0;31mAttributeError\u001b[0m: module 'math' has no attribute 'sni'"
          ]
        }
      ]
    },
    {
      "cell_type": "markdown",
      "metadata": {
        "id": "KHSGH3h-SE-G"
      },
      "source": [
        "### Problem 16"
      ]
    },
    {
      "cell_type": "markdown",
      "metadata": {
        "id": "t7fZoc1ASHQI"
      },
      "source": [
        "Write a Python statement that generates the following error:\n",
        "“TypeError: sin() takes exactly one argument (0 given)”\n",
        "\n",
        "Hint: Input arguments refers to the input of a function (any function); for example, the input in sin(pi/2) is pi/2."
      ]
    },
    {
      "cell_type": "code",
      "metadata": {
        "colab": {
          "base_uri": "https://localhost:8080/",
          "height": 163
        },
        "id": "8G9fHmTuSCv7",
        "outputId": "77dab004-ce8d-466c-b6b4-d332179a1376"
      },
      "source": [
        "math.sin()"
      ],
      "execution_count": 27,
      "outputs": [
        {
          "output_type": "error",
          "ename": "TypeError",
          "evalue": "ignored",
          "traceback": [
            "\u001b[0;31m---------------------------------------------------------------------------\u001b[0m",
            "\u001b[0;31mTypeError\u001b[0m                                 Traceback (most recent call last)",
            "\u001b[0;32m<ipython-input-27-7e1567d2e0b3>\u001b[0m in \u001b[0;36m<module>\u001b[0;34m()\u001b[0m\n\u001b[0;32m----> 1\u001b[0;31m \u001b[0mmath\u001b[0m\u001b[0;34m.\u001b[0m\u001b[0msin\u001b[0m\u001b[0;34m(\u001b[0m\u001b[0;34m)\u001b[0m\u001b[0;34m\u001b[0m\u001b[0;34m\u001b[0m\u001b[0m\n\u001b[0m",
            "\u001b[0;31mTypeError\u001b[0m: sin() takes exactly one argument (0 given)"
          ]
        }
      ]
    },
    {
      "cell_type": "markdown",
      "metadata": {
        "id": "MPp-DBlPSSu2"
      },
      "source": [
        "### Problem 17"
      ]
    },
    {
      "cell_type": "markdown",
      "metadata": {
        "id": "ylHKnPdzSV74"
      },
      "source": [
        "If $P$ is a logical expression, the law of noncontradiction states that $P \\ AND \\ (NOT \\ P)$ is always false. Verify this for $P$ true and $P$ false."
      ]
    },
    {
      "cell_type": "code",
      "metadata": {
        "colab": {
          "base_uri": "https://localhost:8080/"
        },
        "id": "OIHabcWUSPut",
        "outputId": "c4fdb181-5822-40fc-eee5-54382a1ae884"
      },
      "source": [
        "P = 1\n",
        "P and (not P)"
      ],
      "execution_count": 43,
      "outputs": [
        {
          "output_type": "execute_result",
          "data": {
            "text/plain": [
              "False"
            ]
          },
          "metadata": {
            "tags": []
          },
          "execution_count": 43
        }
      ]
    },
    {
      "cell_type": "code",
      "metadata": {
        "colab": {
          "base_uri": "https://localhost:8080/"
        },
        "id": "Zonf3ZMlSvT_",
        "outputId": "319b7617-f51e-4150-e5f7-8cce1ea8037b"
      },
      "source": [
        "P = 0\n",
        "P and (not P)"
      ],
      "execution_count": 44,
      "outputs": [
        {
          "output_type": "execute_result",
          "data": {
            "text/plain": [
              "0"
            ]
          },
          "metadata": {
            "tags": []
          },
          "execution_count": 44
        }
      ]
    },
    {
      "cell_type": "markdown",
      "metadata": {
        "id": "PeGpfG0hSzju"
      },
      "source": [
        "### Problem 18"
      ]
    },
    {
      "cell_type": "markdown",
      "metadata": {
        "id": "XWD9F8y1TCtD"
      },
      "source": [
        "Let $P$ and $Q$ be logical expressions. De Morgan’s rule states that $NOT \\ (P \\ OR \\ Q) \\ = \\ (NOT \\ P) \\ AND \\ (NOT \\ Q)$ and $NOT \\ (P \\ AND \\ Q) \\ = \\ (NOT \\ P) \\ OR \\ (NOT \\ Q)$. Generate the truth tables for each statement to show that De Morgan’s rule is always true."
      ]
    },
    {
      "cell_type": "code",
      "metadata": {
        "colab": {
          "base_uri": "https://localhost:8080/"
        },
        "id": "95KLXUw2SxoZ",
        "outputId": "34e2c81d-3f69-4f79-c811-48e0609a1d59"
      },
      "source": [
        "for p in range(0,2):\n",
        "  for q in range (0,2):\n",
        "    print(\"Para p = \" + str(p) + \" y q = \" + str(q))\n",
        "    print(\"Verifico 1º Ley: not (p or q) = not p and not q\")\n",
        "    print(not (p or q))\n",
        "    print((not p and not q))\n",
        "    print(\"Verifico 2º Ley: not (p and q) = not p or not q\")\n",
        "    print(not (p and q))\n",
        "    print((not p) or (not q))"
      ],
      "execution_count": 45,
      "outputs": [
        {
          "output_type": "stream",
          "text": [
            "Para p = 0 y q = 0\n",
            "Verifico 1º Ley: not (p or q) = not p and not q\n",
            "True\n",
            "True\n",
            "Verifico 2º Ley: not (p and q) = not p or not q\n",
            "True\n",
            "True\n",
            "Para p = 0 y q = 1\n",
            "Verifico 1º Ley: not (p or q) = not p and not q\n",
            "False\n",
            "False\n",
            "Verifico 2º Ley: not (p and q) = not p or not q\n",
            "True\n",
            "True\n",
            "Para p = 1 y q = 0\n",
            "Verifico 1º Ley: not (p or q) = not p and not q\n",
            "False\n",
            "False\n",
            "Verifico 2º Ley: not (p and q) = not p or not q\n",
            "True\n",
            "True\n",
            "Para p = 1 y q = 1\n",
            "Verifico 1º Ley: not (p or q) = not p and not q\n",
            "False\n",
            "False\n",
            "Verifico 2º Ley: not (p and q) = not p or not q\n",
            "False\n",
            "False\n"
          ],
          "name": "stdout"
        }
      ]
    },
    {
      "cell_type": "markdown",
      "metadata": {
        "id": "AeV1BZMuTmwL"
      },
      "source": [
        "### Problem 19"
      ]
    },
    {
      "cell_type": "markdown",
      "metadata": {
        "id": "Z-xMjMMcTp_L"
      },
      "source": [
        "Under what conditions for $P$ and $Q$ is $(P \\ AND \\ Q) \\ OR \\ [P \\ AND \\ (NOT \\ Q)]$ false?"
      ]
    },
    {
      "cell_type": "code",
      "metadata": {
        "colab": {
          "base_uri": "https://localhost:8080/"
        },
        "id": "Phxi5V_XTenE",
        "outputId": "03bb9521-6d6a-42b6-d306-19a1ed6f41cc"
      },
      "source": [
        "for p in range(0,2):\n",
        "  for q in range (0,2):\n",
        "    print(\"Para p = \" + str(p) + \" y q = \" + str(q))\n",
        "    print(\"Verifico que (p and q) or [p and (not q)] sea falsa\")\n",
        "    print(not (p or q) or (p and (not q)))"
      ],
      "execution_count": 46,
      "outputs": [
        {
          "output_type": "stream",
          "text": [
            "Para p = 0 y q = 0\n",
            "Verifico que (p and q) or [p and (not q)] sea falsa\n",
            "True\n",
            "Para p = 0 y q = 1\n",
            "Verifico que (p and q) or [p and (not q)] sea falsa\n",
            "0\n",
            "Para p = 1 y q = 0\n",
            "Verifico que (p and q) or [p and (not q)] sea falsa\n",
            "True\n",
            "Para p = 1 y q = 1\n",
            "Verifico que (p and q) or [p and (not q)] sea falsa\n",
            "False\n"
          ],
          "name": "stdout"
        }
      ]
    },
    {
      "cell_type": "markdown",
      "metadata": {
        "id": "OVnqei85VDH4"
      },
      "source": [
        "P             | Q             | (P  AND  Q) OR [P AND (NOT Q)]\n",
        "--------------|---------------|-----------------------------------------------\n",
        "0             | 0             | True\n",
        "0             | 1             | False\n",
        "1             | 0             | True\n",
        "1             | 1             | False"
      ]
    },
    {
      "cell_type": "markdown",
      "metadata": {
        "id": "_YEKHacpXia7"
      },
      "source": [
        "### Problem 20"
      ]
    },
    {
      "cell_type": "markdown",
      "metadata": {
        "id": "gcmdq-2sXlaV"
      },
      "source": [
        "Construct an equivalent logical expression for OR using only AND and NOT."
      ]
    },
    {
      "cell_type": "markdown",
      "metadata": {
        "id": "ChmzSX40YK8g"
      },
      "source": [
        "Using logical expression OR:"
      ]
    },
    {
      "cell_type": "code",
      "metadata": {
        "colab": {
          "base_uri": "https://localhost:8080/"
        },
        "id": "-J-X1f8-WO9C",
        "outputId": "ffe221ed-ed63-4f06-f183-859e67bda4b8"
      },
      "source": [
        "for p in range(0,2):\n",
        "  for q in range (0,2):\n",
        "    print(\"Para p = \" + str(p) + \" y q = \" + str(q))\n",
        "    print(p or q)"
      ],
      "execution_count": 47,
      "outputs": [
        {
          "output_type": "stream",
          "text": [
            "Para p = 0 y q = 0\n",
            "0\n",
            "Para p = 0 y q = 1\n",
            "1\n",
            "Para p = 1 y q = 0\n",
            "1\n",
            "Para p = 1 y q = 1\n",
            "1\n"
          ],
          "name": "stdout"
        }
      ]
    },
    {
      "cell_type": "markdown",
      "metadata": {
        "id": "a7MTBDzcY57h"
      },
      "source": [
        "Using $NOT \\ [(NOT \\ P) \\ AND \\ (NOT \\ Q)] $\n",
        "\n",
        "(Taken from De Morgan's rule)"
      ]
    },
    {
      "cell_type": "code",
      "metadata": {
        "colab": {
          "base_uri": "https://localhost:8080/"
        },
        "id": "0OBGKrjzYFs1",
        "outputId": "d407ccc3-ee94-4129-9e06-59eb0d21c8e0"
      },
      "source": [
        "for p in range(0,2):\n",
        "  for q in range (0,2):\n",
        "    print(\"Para p = \" + str(p) + \" y q = \" + str(q))\n",
        "    print(not((not p) and (not q)))"
      ],
      "execution_count": 48,
      "outputs": [
        {
          "output_type": "stream",
          "text": [
            "Para p = 0 y q = 0\n",
            "False\n",
            "Para p = 0 y q = 1\n",
            "True\n",
            "Para p = 1 y q = 0\n",
            "True\n",
            "Para p = 1 y q = 1\n",
            "True\n"
          ],
          "name": "stdout"
        }
      ]
    },
    {
      "cell_type": "markdown",
      "metadata": {
        "id": "RDReKewuZIPt"
      },
      "source": [
        "Successfully completed."
      ]
    },
    {
      "cell_type": "markdown",
      "metadata": {
        "id": "d8ZS8onyZMgd"
      },
      "source": [
        "### Problem 21"
      ]
    },
    {
      "cell_type": "markdown",
      "metadata": {
        "id": "p2GsBH74ZaHN"
      },
      "source": [
        "Construct an equivalent logical expression for AND using only OR and NOT"
      ]
    },
    {
      "cell_type": "markdown",
      "metadata": {
        "id": "GNOyLTHxZ1Jr"
      },
      "source": [
        "Using $P \\ AND \\ Q$"
      ]
    },
    {
      "cell_type": "code",
      "metadata": {
        "colab": {
          "base_uri": "https://localhost:8080/"
        },
        "id": "2LRN_wuoYzH3",
        "outputId": "69be2bf1-0efd-47f1-eeb0-9e691cd2599f"
      },
      "source": [
        "for p in range(0,2):\n",
        "  for q in range (0,2):\n",
        "    print(\"Para p = \" + str(p) + \" y q = \" + str(q))\n",
        "    print(p and q)"
      ],
      "execution_count": 49,
      "outputs": [
        {
          "output_type": "stream",
          "text": [
            "Para p = 0 y q = 0\n",
            "0\n",
            "Para p = 0 y q = 1\n",
            "0\n",
            "Para p = 1 y q = 0\n",
            "0\n",
            "Para p = 1 y q = 1\n",
            "1\n"
          ],
          "name": "stdout"
        }
      ]
    },
    {
      "cell_type": "markdown",
      "metadata": {
        "id": "d6KvvIYWZ7Cx"
      },
      "source": [
        "Using $NOT \\ [(NOT \\ P) \\ OR \\ (NOT \\ Q)] $\n",
        "\n",
        "(Taken from De Morgan's rule)"
      ]
    },
    {
      "cell_type": "code",
      "metadata": {
        "colab": {
          "base_uri": "https://localhost:8080/"
        },
        "id": "HHX6WbuLZq7I",
        "outputId": "113e6956-3869-4b8f-d9f0-c41a2313e40a"
      },
      "source": [
        "for p in range(0,2):\n",
        "  for q in range (0,2):\n",
        "    print(\"Para p = \" + str(p) + \" y q = \" + str(q))\n",
        "    print(not((not p) or (not q)))"
      ],
      "execution_count": 50,
      "outputs": [
        {
          "output_type": "stream",
          "text": [
            "Para p = 0 y q = 0\n",
            "False\n",
            "Para p = 0 y q = 1\n",
            "False\n",
            "Para p = 1 y q = 0\n",
            "False\n",
            "Para p = 1 y q = 1\n",
            "True\n"
          ],
          "name": "stdout"
        }
      ]
    },
    {
      "cell_type": "markdown",
      "metadata": {
        "id": "tEyt8LyeaQOM"
      },
      "source": [
        "### Problem 22"
      ]
    },
    {
      "cell_type": "markdown",
      "metadata": {
        "id": "3HM4evOLaS6O"
      },
      "source": [
        "The logical operator XOR has the following truth table:\n",
        "\n",
        "![image.png](data:image/png;base64,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)\n",
        "\n",
        "Construct an equivalent logical expression for XOR using only AND, OR, and NOT that has the same truth table (see the following figure)\n",
        "\n"
      ]
    },
    {
      "cell_type": "code",
      "metadata": {
        "colab": {
          "base_uri": "https://localhost:8080/"
        },
        "id": "7-QzVvGwZyLT",
        "outputId": "8e251a54-db1d-40fb-b52f-8f5ee90fbbb8"
      },
      "source": [
        "print(\"Se plantea que el comando equivalente al XOR es P and not Q\")\n",
        "for p in range(0,2):\n",
        "  for q in range (0,2):\n",
        "    print(\"Para P = \" + str(p) + \" y Q = \" + str(q))\n",
        "    print((p and not q) or (not p and q))"
      ],
      "execution_count": 51,
      "outputs": [
        {
          "output_type": "stream",
          "text": [
            "Se plantea que el comando equivalente al XOR es P and not Q\n",
            "Para P = 0 y Q = 0\n",
            "0\n",
            "Para P = 0 y Q = 1\n",
            "1\n",
            "Para P = 1 y Q = 0\n",
            "True\n",
            "Para P = 1 y Q = 1\n",
            "False\n"
          ],
          "name": "stdout"
        }
      ]
    },
    {
      "cell_type": "markdown",
      "metadata": {
        "id": "fS-h3FoIbX7m"
      },
      "source": [
        "### Extra exercise 1"
      ]
    },
    {
      "cell_type": "markdown",
      "metadata": {
        "id": "aQsy4ONObatH"
      },
      "source": [
        "Do the following calculation at the Python command prompt.\n",
        "$e^2sin\\frac{π}{6}+log_e(3)cos(\\frac{π}{9})−5^3$"
      ]
    },
    {
      "cell_type": "code",
      "metadata": {
        "colab": {
          "base_uri": "https://localhost:8080/"
        },
        "id": "cr7x3HLBbuCJ",
        "outputId": "12bfa57f-91ad-4835-c980-ac438cfcaaa6"
      },
      "source": [
        "math.exp(2) * math.sin(math.pi * 1/6) + math.log(3) * math.cos(math.pi *1/9) - 5**3"
      ],
      "execution_count": 52,
      "outputs": [
        {
          "output_type": "execute_result",
          "data": {
            "text/plain": [
              "-120.27311408976854"
            ]
          },
          "metadata": {
            "tags": []
          },
          "execution_count": 52
        }
      ]
    },
    {
      "cell_type": "markdown",
      "metadata": {
        "id": "Rk7eGmBebT5Q"
      },
      "source": [
        "### Extra exercise 2"
      ]
    },
    {
      "cell_type": "markdown",
      "metadata": {
        "id": "j50VW5_Oa1b4"
      },
      "source": [
        "Do the following logical and comparison operations at the Python command prompt. You may assume that P and Q are logical expressions.\n",
        "\n",
        "For P = 1 and Q = 1; Compute NOT(P) AND NOT(Q).\n",
        "\n",
        "For a = 10 and b = 25; Compute (a<b) AND (a=b)."
      ]
    },
    {
      "cell_type": "code",
      "metadata": {
        "colab": {
          "base_uri": "https://localhost:8080/"
        },
        "id": "AlCw89ElbB9I",
        "outputId": "b663da6e-b95d-4897-cc82-abf8df50102f"
      },
      "source": [
        "p = 1\n",
        "q = 1\n",
        "(not p) and (not q)"
      ],
      "execution_count": 53,
      "outputs": [
        {
          "output_type": "execute_result",
          "data": {
            "text/plain": [
              "False"
            ]
          },
          "metadata": {
            "tags": []
          },
          "execution_count": 53
        }
      ]
    },
    {
      "cell_type": "code",
      "metadata": {
        "colab": {
          "base_uri": "https://localhost:8080/"
        },
        "id": "8Cikt6VLanTa",
        "outputId": "b6539818-e13c-4b73-d360-e5e7c3549e4b"
      },
      "source": [
        "a=10\n",
        "b=25\n",
        "(a<b) and (a == b)"
      ],
      "execution_count": 54,
      "outputs": [
        {
          "output_type": "execute_result",
          "data": {
            "text/plain": [
              "False"
            ]
          },
          "metadata": {
            "tags": []
          },
          "execution_count": 54
        }
      ]
    },
    {
      "cell_type": "markdown",
      "metadata": {
        "id": "8c4WrVzucQzs"
      },
      "source": [
        "# Chapter 2: Variables and Basic Data Structures"
      ]
    },
    {
      "cell_type": "markdown",
      "metadata": {
        "id": "IwKrXBHCcvBI"
      },
      "source": [
        "1. Assign the value 2 to the variable x and the value 3 to the variable y. Clear just the variable x."
      ]
    },
    {
      "cell_type": "code",
      "metadata": {
        "colab": {
          "base_uri": "https://localhost:8080/"
        },
        "id": "vM0JP9IzbBA5",
        "outputId": "b8eb52cc-141f-449d-836e-bbc1c8adadd8"
      },
      "source": [
        "x = 2\n",
        "y = 3\n",
        "print('x =' , str(x) , 'and y = ' , str(y) , )"
      ],
      "execution_count": 55,
      "outputs": [
        {
          "output_type": "stream",
          "text": [
            "x = 2 and y =  3\n"
          ],
          "name": "stdout"
        }
      ]
    },
    {
      "cell_type": "code",
      "metadata": {
        "id": "UvsBIKHqdLnB"
      },
      "source": [
        "del x"
      ],
      "execution_count": 56,
      "outputs": []
    },
    {
      "cell_type": "markdown",
      "metadata": {
        "id": "b5UPcx4SdXu3"
      },
      "source": [
        "2. Write a line of code that generates the following error:\n",
        "\n",
        "![image.png](data:image/png;base64,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)"
      ]
    },
    {
      "cell_type": "code",
      "metadata": {
        "colab": {
          "base_uri": "https://localhost:8080/",
          "height": 163
        },
        "id": "douo_tBodVD7",
        "outputId": "95662f5b-1b2d-4738-df82-33ca652ac308"
      },
      "source": [
        "x"
      ],
      "execution_count": 57,
      "outputs": [
        {
          "output_type": "error",
          "ename": "NameError",
          "evalue": "ignored",
          "traceback": [
            "\u001b[0;31m---------------------------------------------------------------------------\u001b[0m",
            "\u001b[0;31mNameError\u001b[0m                                 Traceback (most recent call last)",
            "\u001b[0;32m<ipython-input-57-6fcf9dfbd479>\u001b[0m in \u001b[0;36m<module>\u001b[0;34m()\u001b[0m\n\u001b[0;32m----> 1\u001b[0;31m \u001b[0mx\u001b[0m\u001b[0;34m\u001b[0m\u001b[0;34m\u001b[0m\u001b[0m\n\u001b[0m",
            "\u001b[0;31mNameError\u001b[0m: name 'x' is not defined"
          ]
        }
      ]
    },
    {
      "cell_type": "markdown",
      "metadata": {
        "id": "X_JsUBXldl1a"
      },
      "source": [
        "3. Let x = 10 and y = 3. Write a line of code that will make each of the following assignments.\n",
        "\n",
        "![image.png](data:image/png;base64,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)"
      ]
    },
    {
      "cell_type": "code",
      "metadata": {
        "id": "1bY6AxrBdVqC",
        "colab": {
          "base_uri": "https://localhost:8080/"
        },
        "outputId": "764e94be-1cd5-43ad-a86a-9ab5cd2952a1"
      },
      "source": [
        "x = 10\n",
        "y = 3\n",
        "print('x =' , str(x) , 'and y = ' , str(y) , )\n",
        "u = x + y\n",
        "v = x * y\n",
        "w = x / y\n",
        "z = math.sin(x)\n",
        "r = 8 * math.sin(x)\n",
        "s = 5 * math.sin(x * y)\n",
        "p = x**y \n",
        "print('u =' , str(u) ,', v =' , str(v) ,', z =' , str(z) ,', r =' , str(r) ,', s =' , str(s) ,', p =' , str(p) , )"
      ],
      "execution_count": 58,
      "outputs": [
        {
          "output_type": "stream",
          "text": [
            "x = 10 and y =  3\n",
            "u = 13 , v = 30 , z = -0.5440211108893698 , r = -4.352168887114958 , s = -4.940158120464309 , p = 1000\n"
          ],
          "name": "stdout"
        }
      ]
    },
    {
      "cell_type": "markdown",
      "metadata": {
        "id": "iuETkfKce10E"
      },
      "source": [
        "### Problem 1"
      ]
    },
    {
      "cell_type": "markdown",
      "metadata": {
        "id": "0gAxZQrte8hM"
      },
      "source": [
        "Show all the variables in the Jupyter notebook after you finish problem 3."
      ]
    },
    {
      "cell_type": "markdown",
      "metadata": {
        "id": "fVO9MYGEe__S"
      },
      "source": [
        "* Done in the previous problem."
      ]
    },
    {
      "cell_type": "markdown",
      "metadata": {
        "id": "xnfHHEmofEUR"
      },
      "source": [
        "### Problem 2"
      ]
    },
    {
      "cell_type": "markdown",
      "metadata": {
        "id": "7iE2MbFlfO5t"
      },
      "source": [
        "Assign string ‘123’ to the variable S. Convert the string into a float type and assign the output to the variable N. Verify that S is a string and N is a float using the type function."
      ]
    },
    {
      "cell_type": "code",
      "metadata": {
        "id": "TADFoMeTd3Wb"
      },
      "source": [
        "S = '123'"
      ],
      "execution_count": 59,
      "outputs": []
    },
    {
      "cell_type": "code",
      "metadata": {
        "id": "LCDdEY3afSuB"
      },
      "source": [
        "N = float(S)"
      ],
      "execution_count": 60,
      "outputs": []
    },
    {
      "cell_type": "code",
      "metadata": {
        "id": "hIUMH6GtfsVC",
        "colab": {
          "base_uri": "https://localhost:8080/"
        },
        "outputId": "e178adf9-2b11-4250-a099-e4fe2420f2f9"
      },
      "source": [
        "type(S)"
      ],
      "execution_count": 61,
      "outputs": [
        {
          "output_type": "execute_result",
          "data": {
            "text/plain": [
              "str"
            ]
          },
          "metadata": {
            "tags": []
          },
          "execution_count": 61
        }
      ]
    },
    {
      "cell_type": "code",
      "metadata": {
        "id": "u6Txx8tNfuee",
        "colab": {
          "base_uri": "https://localhost:8080/"
        },
        "outputId": "945a06f5-6483-4f36-967f-0047491514bd"
      },
      "source": [
        "type(N)"
      ],
      "execution_count": 62,
      "outputs": [
        {
          "output_type": "execute_result",
          "data": {
            "text/plain": [
              "float"
            ]
          },
          "metadata": {
            "tags": []
          },
          "execution_count": 62
        }
      ]
    },
    {
      "cell_type": "markdown",
      "metadata": {
        "id": "YpTEVMtLf1a-"
      },
      "source": [
        "### Problem 3"
      ]
    },
    {
      "cell_type": "markdown",
      "metadata": {
        "id": "IyQUVTU1gFNz"
      },
      "source": [
        "Assign the string ‘HELLO’ to the variable s1 and the string ‘hello’ to the variable s2.\n",
        "\n",
        "Use the == operator to show that they are not equal.\n",
        "\n",
        "Use the == operator to show that s1 and s2 are equal if the lower method is used on s1.\n",
        "\n",
        "Use the == operator to show that s1 and s2 are equal if upper method is used on s2."
      ]
    },
    {
      "cell_type": "code",
      "metadata": {
        "id": "nSY2VuVBfz8S"
      },
      "source": [
        "s1 = 'HELLO'\n",
        "s2 = 'hello'"
      ],
      "execution_count": 63,
      "outputs": []
    },
    {
      "cell_type": "code",
      "metadata": {
        "id": "m_Fpw9zEgTfN",
        "colab": {
          "base_uri": "https://localhost:8080/"
        },
        "outputId": "56643c78-4c6e-4ab6-c975-f49d3591294b"
      },
      "source": [
        "s1 == s2"
      ],
      "execution_count": 64,
      "outputs": [
        {
          "output_type": "execute_result",
          "data": {
            "text/plain": [
              "False"
            ]
          },
          "metadata": {
            "tags": []
          },
          "execution_count": 64
        }
      ]
    },
    {
      "cell_type": "code",
      "metadata": {
        "id": "AVAMTfFChCpK",
        "colab": {
          "base_uri": "https://localhost:8080/"
        },
        "outputId": "b5aa19cc-3b38-4281-930e-7f87117378e6"
      },
      "source": [
        "s1.lower() == s2"
      ],
      "execution_count": 65,
      "outputs": [
        {
          "output_type": "execute_result",
          "data": {
            "text/plain": [
              "True"
            ]
          },
          "metadata": {
            "tags": []
          },
          "execution_count": 65
        }
      ]
    },
    {
      "cell_type": "code",
      "metadata": {
        "id": "u81b1STRhNFo",
        "colab": {
          "base_uri": "https://localhost:8080/"
        },
        "outputId": "b63d6527-aec5-41fd-a381-aec31d020d17"
      },
      "source": [
        "s1 == s2.upper()"
      ],
      "execution_count": 66,
      "outputs": [
        {
          "output_type": "execute_result",
          "data": {
            "text/plain": [
              "True"
            ]
          },
          "metadata": {
            "tags": []
          },
          "execution_count": 66
        }
      ]
    },
    {
      "cell_type": "markdown",
      "metadata": {
        "id": "Har4gEjYhV1h"
      },
      "source": [
        "### Problem 4"
      ]
    },
    {
      "cell_type": "markdown",
      "metadata": {
        "id": "oVX_R5kThX6K"
      },
      "source": [
        "Use the print function to generate the following strings.\n",
        "\n",
        "* The word ‘Engineering’ has 11 letters.\n",
        "\n",
        "* The word ‘Book’ has 4 letters."
      ]
    },
    {
      "cell_type": "code",
      "metadata": {
        "id": "z_QlyrZQhPy-",
        "colab": {
          "base_uri": "https://localhost:8080/"
        },
        "outputId": "51aef4ca-7bf8-4199-ae9a-da6ab4eba17f"
      },
      "source": [
        "print('The word \\' Engineering \\' has 11 letters')\n",
        "print('The word \\' Book \\' has 4 letters')"
      ],
      "execution_count": 67,
      "outputs": [
        {
          "output_type": "stream",
          "text": [
            "The word ' Engineering ' has 11 letters\n",
            "The word ' Book ' has 4 letters\n"
          ],
          "name": "stdout"
        }
      ]
    },
    {
      "cell_type": "markdown",
      "metadata": {
        "id": "lAukcVglhvrF"
      },
      "source": [
        "### Problem 5"
      ]
    },
    {
      "cell_type": "markdown",
      "metadata": {
        "id": "UabnmQ7rh1zH"
      },
      "source": [
        "Check if ‘Python’ is in ‘Python is great!’"
      ]
    },
    {
      "cell_type": "code",
      "metadata": {
        "id": "-LE1y1tIhoNz",
        "colab": {
          "base_uri": "https://localhost:8080/"
        },
        "outputId": "2c98ff61-8be5-4059-b533-f5ed09897a44"
      },
      "source": [
        "'Python' in 'Python is great!'"
      ],
      "execution_count": 68,
      "outputs": [
        {
          "output_type": "execute_result",
          "data": {
            "text/plain": [
              "True"
            ]
          },
          "metadata": {
            "tags": []
          },
          "execution_count": 68
        }
      ]
    },
    {
      "cell_type": "markdown",
      "metadata": {
        "id": "R0S7ROmoiZ91"
      },
      "source": [
        "### Problem 6"
      ]
    },
    {
      "cell_type": "markdown",
      "metadata": {
        "id": "-ghLhJsJihBJ"
      },
      "source": [
        "Get the last word ‘great’ from ‘Python is great!’"
      ]
    },
    {
      "cell_type": "code",
      "metadata": {
        "id": "Yzt63XfCiYex",
        "colab": {
          "base_uri": "https://localhost:8080/",
          "height": 35
        },
        "outputId": "3d14ec3c-2a70-4c2e-d767-9406e2340237"
      },
      "source": [
        "w = 'Python is great!'\n",
        "w[10:-1]"
      ],
      "execution_count": 69,
      "outputs": [
        {
          "output_type": "execute_result",
          "data": {
            "application/vnd.google.colaboratory.intrinsic+json": {
              "type": "string"
            },
            "text/plain": [
              "'great'"
            ]
          },
          "metadata": {
            "tags": []
          },
          "execution_count": 69
        }
      ]
    },
    {
      "cell_type": "markdown",
      "metadata": {
        "id": "xcH1xfZ3jRw-"
      },
      "source": [
        "### Problem 7 "
      ]
    },
    {
      "cell_type": "markdown",
      "metadata": {
        "id": "N2SeF3TNjZYH"
      },
      "source": [
        "Assign list [1, 8, 9, 15] to a variable *list_a* and insert 2 at index 1 using the insert method. Append 4 to the *list_a* using the append method.\n",
        "\n"
      ]
    },
    {
      "cell_type": "code",
      "metadata": {
        "id": "NJcN4laYjFDz"
      },
      "source": [
        "list_a = [1,8,9,15]"
      ],
      "execution_count": 70,
      "outputs": []
    },
    {
      "cell_type": "code",
      "metadata": {
        "id": "46NLmczXLyjJ"
      },
      "source": [
        "list_a.insert(0,2)"
      ],
      "execution_count": 71,
      "outputs": []
    },
    {
      "cell_type": "code",
      "metadata": {
        "id": "5Lnryvs5MUPC",
        "colab": {
          "base_uri": "https://localhost:8080/"
        },
        "outputId": "dd0bdcfb-3ac3-46e6-b380-bf0546c94e42"
      },
      "source": [
        "list_a"
      ],
      "execution_count": 72,
      "outputs": [
        {
          "output_type": "execute_result",
          "data": {
            "text/plain": [
              "[2, 1, 8, 9, 15]"
            ]
          },
          "metadata": {
            "tags": []
          },
          "execution_count": 72
        }
      ]
    },
    {
      "cell_type": "code",
      "metadata": {
        "id": "UE96zf93MZ1g"
      },
      "source": [
        "list_a.append(4)"
      ],
      "execution_count": 73,
      "outputs": []
    },
    {
      "cell_type": "code",
      "metadata": {
        "id": "Wz7_krfGMo0I",
        "colab": {
          "base_uri": "https://localhost:8080/"
        },
        "outputId": "7facce8a-0ccd-4231-884e-65084b3e0566"
      },
      "source": [
        "list_a"
      ],
      "execution_count": 74,
      "outputs": [
        {
          "output_type": "execute_result",
          "data": {
            "text/plain": [
              "[2, 1, 8, 9, 15, 4]"
            ]
          },
          "metadata": {
            "tags": []
          },
          "execution_count": 74
        }
      ]
    },
    {
      "cell_type": "markdown",
      "metadata": {
        "id": "YbWoRNnAMs_O"
      },
      "source": [
        "### Problem 8"
      ]
    },
    {
      "cell_type": "markdown",
      "metadata": {
        "id": "yFHwXlJAMwJT"
      },
      "source": [
        "Sort the list_a in problem 7 in ascending order."
      ]
    },
    {
      "cell_type": "code",
      "metadata": {
        "id": "SCOp4Y-3Mp2g",
        "colab": {
          "base_uri": "https://localhost:8080/"
        },
        "outputId": "f892381b-9fa6-4ecc-ec19-c054fbb3f396"
      },
      "source": [
        "list_a = [1,2,4,8,9,15]\n",
        "list_a"
      ],
      "execution_count": 75,
      "outputs": [
        {
          "output_type": "execute_result",
          "data": {
            "text/plain": [
              "[1, 2, 4, 8, 9, 15]"
            ]
          },
          "metadata": {
            "tags": []
          },
          "execution_count": 75
        }
      ]
    },
    {
      "cell_type": "markdown",
      "metadata": {
        "id": "B1B0vm59N5wT"
      },
      "source": [
        "### Problem 9"
      ]
    },
    {
      "cell_type": "markdown",
      "metadata": {
        "id": "Z3rKCExKN74w"
      },
      "source": [
        "Turn ‘Python is great!’ to a list."
      ]
    },
    {
      "cell_type": "code",
      "metadata": {
        "id": "HajbUzFFNvIA"
      },
      "source": [
        "list_z = ['Python','is','great','!']"
      ],
      "execution_count": 76,
      "outputs": []
    },
    {
      "cell_type": "code",
      "metadata": {
        "id": "iouBmTaYOGiD",
        "colab": {
          "base_uri": "https://localhost:8080/"
        },
        "outputId": "64917d5f-5793-48d5-f62d-4df74b69044f"
      },
      "source": [
        "list_z"
      ],
      "execution_count": 77,
      "outputs": [
        {
          "output_type": "execute_result",
          "data": {
            "text/plain": [
              "['Python', 'is', 'great', '!']"
            ]
          },
          "metadata": {
            "tags": []
          },
          "execution_count": 77
        }
      ]
    },
    {
      "cell_type": "markdown",
      "metadata": {
        "id": "_kfN54rbPlCm"
      },
      "source": [
        "### Problem 10"
      ]
    },
    {
      "cell_type": "markdown",
      "metadata": {
        "id": "75pSctBRPoUV"
      },
      "source": [
        "Create one tuple with element ‘One’, 1 and assign it to tuple_a"
      ]
    },
    {
      "cell_type": "code",
      "metadata": {
        "id": "X8djyamRPkAo"
      },
      "source": [
        "tuple_x = ('One', 1)"
      ],
      "execution_count": 78,
      "outputs": []
    },
    {
      "cell_type": "code",
      "metadata": {
        "id": "Vl9kuFUKP817"
      },
      "source": [
        "tuple_a = tuple_x"
      ],
      "execution_count": 79,
      "outputs": []
    },
    {
      "cell_type": "code",
      "metadata": {
        "id": "ebbro3pcP_NR",
        "colab": {
          "base_uri": "https://localhost:8080/"
        },
        "outputId": "f5735e36-c185-4ac4-cba1-07040aba111d"
      },
      "source": [
        "tuple_a"
      ],
      "execution_count": 80,
      "outputs": [
        {
          "output_type": "execute_result",
          "data": {
            "text/plain": [
              "('One', 1)"
            ]
          },
          "metadata": {
            "tags": []
          },
          "execution_count": 80
        }
      ]
    },
    {
      "cell_type": "markdown",
      "metadata": {
        "id": "UC6b0AWsTfr-"
      },
      "source": [
        "### Problem 11"
      ]
    },
    {
      "cell_type": "markdown",
      "metadata": {
        "id": "0mIgLhOhTiDa"
      },
      "source": [
        "Get the 2nd element in the tuple_a in problem 10."
      ]
    },
    {
      "cell_type": "code",
      "metadata": {
        "id": "LM9eUKcUTkj2",
        "colab": {
          "base_uri": "https://localhost:8080/"
        },
        "outputId": "633e87e8-36c5-4bad-c733-7804dca65844"
      },
      "source": [
        "tuple_a[1]"
      ],
      "execution_count": 81,
      "outputs": [
        {
          "output_type": "execute_result",
          "data": {
            "text/plain": [
              "1"
            ]
          },
          "metadata": {
            "tags": []
          },
          "execution_count": 81
        }
      ]
    },
    {
      "cell_type": "markdown",
      "metadata": {
        "id": "wkeWzAMqQCVK"
      },
      "source": [
        "### Problem 12"
      ]
    },
    {
      "cell_type": "markdown",
      "metadata": {
        "id": "9GSrQWSTQJLL"
      },
      "source": [
        "Get the unique element from (2, 3, 2, 3, 1, 2, 5)."
      ]
    },
    {
      "cell_type": "code",
      "metadata": {
        "id": "D0l2LGwORAuG"
      },
      "source": [
        "uio = (2,3,2,3,1,2,5)"
      ],
      "execution_count": 82,
      "outputs": []
    },
    {
      "cell_type": "code",
      "metadata": {
        "id": "0L3jj7E-QAbC",
        "colab": {
          "base_uri": "https://localhost:8080/"
        },
        "outputId": "b1552dc0-c90c-404e-bdc9-c4270fe906b8"
      },
      "source": [
        "set(uio)"
      ],
      "execution_count": 83,
      "outputs": [
        {
          "output_type": "execute_result",
          "data": {
            "text/plain": [
              "{1, 2, 3, 5}"
            ]
          },
          "metadata": {
            "tags": []
          },
          "execution_count": 83
        }
      ]
    },
    {
      "cell_type": "markdown",
      "metadata": {
        "id": "nh6A_yh3RIXH"
      },
      "source": [
        "### Problem 13"
      ]
    },
    {
      "cell_type": "markdown",
      "metadata": {
        "id": "j00dYQcYRR7n"
      },
      "source": [
        "Assign (2, 3, 2) to set_a, and (1, 2, 3) to set_b. Get the following:\n",
        "\n",
        "* union of set_a and set_b\n",
        "\n",
        "* intersection of set_a and set_b\n",
        "\n",
        "* difference of set_a to set_b using difference method"
      ]
    },
    {
      "cell_type": "code",
      "metadata": {
        "id": "-diV_rvzQUmD"
      },
      "source": [
        "set_a = set((2,3,2))\n",
        "set_b = set((1,2,3))"
      ],
      "execution_count": 84,
      "outputs": []
    },
    {
      "cell_type": "code",
      "metadata": {
        "id": "jPCDcwidRbbW",
        "colab": {
          "base_uri": "https://localhost:8080/"
        },
        "outputId": "98cd449e-eded-4dbf-cdc3-9d8713d2ced3"
      },
      "source": [
        "set_a.union(set_b)"
      ],
      "execution_count": 85,
      "outputs": [
        {
          "output_type": "execute_result",
          "data": {
            "text/plain": [
              "{1, 2, 3}"
            ]
          },
          "metadata": {
            "tags": []
          },
          "execution_count": 85
        }
      ]
    },
    {
      "cell_type": "code",
      "metadata": {
        "id": "dR2FyLpVRiMj",
        "colab": {
          "base_uri": "https://localhost:8080/"
        },
        "outputId": "6fca6c9b-8a75-442e-f97a-9ecef01a14ef"
      },
      "source": [
        "set_a.intersection(set_b)"
      ],
      "execution_count": 86,
      "outputs": [
        {
          "output_type": "execute_result",
          "data": {
            "text/plain": [
              "{2, 3}"
            ]
          },
          "metadata": {
            "tags": []
          },
          "execution_count": 86
        }
      ]
    },
    {
      "cell_type": "code",
      "metadata": {
        "id": "VgE1fhoTR7aq",
        "colab": {
          "base_uri": "https://localhost:8080/"
        },
        "outputId": "9966f1ec-cb39-45ba-d854-eb597d8c47d8"
      },
      "source": [
        "set_b - set_a"
      ],
      "execution_count": 87,
      "outputs": [
        {
          "output_type": "execute_result",
          "data": {
            "text/plain": [
              "{1}"
            ]
          },
          "metadata": {
            "tags": []
          },
          "execution_count": 87
        }
      ]
    },
    {
      "cell_type": "markdown",
      "metadata": {
        "id": "yp_MZHidSMiX"
      },
      "source": [
        "### Problem 14"
      ]
    },
    {
      "cell_type": "markdown",
      "metadata": {
        "id": "apJ42gTcSTEy"
      },
      "source": [
        "Create a dictionary that has the keys ‘A’, ‘B’, ‘C’ with values ‘a’, ‘b’, ‘c’ individually. Print all the keys in the dictionary."
      ]
    },
    {
      "cell_type": "code",
      "metadata": {
        "id": "fHHmfGgRSED2"
      },
      "source": [
        "dict_1 = {'A':'a', 'B':'b', 'C':'c'}"
      ],
      "execution_count": 88,
      "outputs": []
    },
    {
      "cell_type": "code",
      "metadata": {
        "id": "Knbe53gHSpgQ",
        "colab": {
          "base_uri": "https://localhost:8080/",
          "height": 35
        },
        "outputId": "b266112b-4fe6-4802-bf7b-496da3ed3e72"
      },
      "source": [
        "dict_1['A']"
      ],
      "execution_count": 89,
      "outputs": [
        {
          "output_type": "execute_result",
          "data": {
            "application/vnd.google.colaboratory.intrinsic+json": {
              "type": "string"
            },
            "text/plain": [
              "'a'"
            ]
          },
          "metadata": {
            "tags": []
          },
          "execution_count": 89
        }
      ]
    },
    {
      "cell_type": "code",
      "metadata": {
        "id": "TAeOkmmZSrcg",
        "colab": {
          "base_uri": "https://localhost:8080/",
          "height": 35
        },
        "outputId": "0346e285-90be-4c67-e898-8501ec619787"
      },
      "source": [
        "dict_1['B']"
      ],
      "execution_count": 90,
      "outputs": [
        {
          "output_type": "execute_result",
          "data": {
            "application/vnd.google.colaboratory.intrinsic+json": {
              "type": "string"
            },
            "text/plain": [
              "'b'"
            ]
          },
          "metadata": {
            "tags": []
          },
          "execution_count": 90
        }
      ]
    },
    {
      "cell_type": "code",
      "metadata": {
        "id": "sG2spwliSwRy",
        "colab": {
          "base_uri": "https://localhost:8080/",
          "height": 35
        },
        "outputId": "6162e078-209e-485e-ef5b-2df484a029be"
      },
      "source": [
        "dict_1['C']"
      ],
      "execution_count": 91,
      "outputs": [
        {
          "output_type": "execute_result",
          "data": {
            "application/vnd.google.colaboratory.intrinsic+json": {
              "type": "string"
            },
            "text/plain": [
              "'c'"
            ]
          },
          "metadata": {
            "tags": []
          },
          "execution_count": 91
        }
      ]
    },
    {
      "cell_type": "code",
      "metadata": {
        "id": "eGVlyNp7Sxrv",
        "colab": {
          "base_uri": "https://localhost:8080/"
        },
        "outputId": "012af1bd-c42d-46ac-a20b-6dd10031e58f"
      },
      "source": [
        "dict_1.keys()"
      ],
      "execution_count": 92,
      "outputs": [
        {
          "output_type": "execute_result",
          "data": {
            "text/plain": [
              "dict_keys(['A', 'B', 'C'])"
            ]
          },
          "metadata": {
            "tags": []
          },
          "execution_count": 92
        }
      ]
    },
    {
      "cell_type": "markdown",
      "metadata": {
        "id": "i2QMqyFkS9Bp"
      },
      "source": [
        "### Problem 15"
      ]
    },
    {
      "cell_type": "markdown",
      "metadata": {
        "id": "3-JHbaiiTBhS"
      },
      "source": [
        "Check if key ‘B’ is in the dictionary defined in problem 13."
      ]
    },
    {
      "cell_type": "markdown",
      "metadata": {
        "id": "ruePxulsTGEX"
      },
      "source": [
        "* Done in the previous problem."
      ]
    },
    {
      "cell_type": "markdown",
      "metadata": {
        "id": "mh-LrhZQTJYk"
      },
      "source": [
        "### Problem 16"
      ]
    },
    {
      "cell_type": "markdown",
      "metadata": {
        "id": "1tPAFxl6TPJ9"
      },
      "source": [
        "Create array x and y, where x = [1, 4, 3, 2, 9, 4] and y=[2, 3, 4, 1, 2, 3]. Compute the assignments from Problem 3."
      ]
    },
    {
      "cell_type": "code",
      "metadata": {
        "id": "yW1C1uo8S5DQ"
      },
      "source": [
        "import numpy as np"
      ],
      "execution_count": 93,
      "outputs": []
    },
    {
      "cell_type": "code",
      "metadata": {
        "id": "JYJDng_vT0Wi"
      },
      "source": [
        "x = np.array([1,4,3,2,9,4])\n",
        "y = np.array([2,3,4,1,2,3])"
      ],
      "execution_count": 94,
      "outputs": []
    },
    {
      "cell_type": "markdown",
      "metadata": {
        "id": "qwyeWbs7UYCz"
      },
      "source": [
        "Taken from third exercise, using numpy libraries:"
      ]
    },
    {
      "cell_type": "code",
      "metadata": {
        "id": "yxV8qG-fUINC",
        "colab": {
          "base_uri": "https://localhost:8080/"
        },
        "outputId": "426069e1-e649-493c-b271-ccb1076b5f1d"
      },
      "source": [
        "u = x + y\n",
        "v = x * y\n",
        "w = x / y\n",
        "p = x**y \n",
        "z = np.sin(x)\n",
        "r = 8 * np.sin(x)\n",
        "s = 5 * np.sin(x * y)\n",
        "print('u =' , str(u) ,', v =' , str(v) ,', z =' , str(z) ,', r =' , str(r) ,', s =' , str(s) ,', p =' , str(p) , )"
      ],
      "execution_count": 95,
      "outputs": [
        {
          "output_type": "stream",
          "text": [
            "u = [ 3  7  7  3 11  7] , v = [ 2 12 12  2 18 12] , z = [ 0.84147098 -0.7568025   0.14112001  0.90929743  0.41211849 -0.7568025 ] , r = [ 6.73176788 -6.05441996  1.12896006  7.27437941  3.29694788 -6.05441996] , s = [ 4.54648713 -2.68286459 -2.68286459  4.54648713 -3.75493623 -2.68286459] , p = [ 1 64 81  2 81 64]\n"
          ],
          "name": "stdout"
        }
      ]
    },
    {
      "cell_type": "markdown",
      "metadata": {
        "id": "dEajZeujWGEj"
      },
      "source": [
        "### Problem 17"
      ]
    },
    {
      "cell_type": "markdown",
      "metadata": {
        "id": "f3NSVUSCWJdz"
      },
      "source": [
        "Generate an array with size 100 evenly spaced between -10 to 10 using linspace function in Numpy."
      ]
    },
    {
      "cell_type": "code",
      "metadata": {
        "id": "MEz_1MiNURVv",
        "colab": {
          "base_uri": "https://localhost:8080/"
        },
        "outputId": "bb25ab65-6571-4829-e350-4d37575498d9"
      },
      "source": [
        "np.linspace(-10,10,100)"
      ],
      "execution_count": 96,
      "outputs": [
        {
          "output_type": "execute_result",
          "data": {
            "text/plain": [
              "array([-10.        ,  -9.7979798 ,  -9.5959596 ,  -9.39393939,\n",
              "        -9.19191919,  -8.98989899,  -8.78787879,  -8.58585859,\n",
              "        -8.38383838,  -8.18181818,  -7.97979798,  -7.77777778,\n",
              "        -7.57575758,  -7.37373737,  -7.17171717,  -6.96969697,\n",
              "        -6.76767677,  -6.56565657,  -6.36363636,  -6.16161616,\n",
              "        -5.95959596,  -5.75757576,  -5.55555556,  -5.35353535,\n",
              "        -5.15151515,  -4.94949495,  -4.74747475,  -4.54545455,\n",
              "        -4.34343434,  -4.14141414,  -3.93939394,  -3.73737374,\n",
              "        -3.53535354,  -3.33333333,  -3.13131313,  -2.92929293,\n",
              "        -2.72727273,  -2.52525253,  -2.32323232,  -2.12121212,\n",
              "        -1.91919192,  -1.71717172,  -1.51515152,  -1.31313131,\n",
              "        -1.11111111,  -0.90909091,  -0.70707071,  -0.50505051,\n",
              "        -0.3030303 ,  -0.1010101 ,   0.1010101 ,   0.3030303 ,\n",
              "         0.50505051,   0.70707071,   0.90909091,   1.11111111,\n",
              "         1.31313131,   1.51515152,   1.71717172,   1.91919192,\n",
              "         2.12121212,   2.32323232,   2.52525253,   2.72727273,\n",
              "         2.92929293,   3.13131313,   3.33333333,   3.53535354,\n",
              "         3.73737374,   3.93939394,   4.14141414,   4.34343434,\n",
              "         4.54545455,   4.74747475,   4.94949495,   5.15151515,\n",
              "         5.35353535,   5.55555556,   5.75757576,   5.95959596,\n",
              "         6.16161616,   6.36363636,   6.56565657,   6.76767677,\n",
              "         6.96969697,   7.17171717,   7.37373737,   7.57575758,\n",
              "         7.77777778,   7.97979798,   8.18181818,   8.38383838,\n",
              "         8.58585859,   8.78787879,   8.98989899,   9.19191919,\n",
              "         9.39393939,   9.5959596 ,   9.7979798 ,  10.        ])"
            ]
          },
          "metadata": {
            "tags": []
          },
          "execution_count": 96
        }
      ]
    },
    {
      "cell_type": "markdown",
      "metadata": {
        "id": "W5ecn2fHWazp"
      },
      "source": [
        "### Problem 18"
      ]
    },
    {
      "cell_type": "markdown",
      "metadata": {
        "id": "gjI8LCZvWd34"
      },
      "source": [
        "Let array_a be an array [-1, 0, 1, 2, 0, 3]. Write a command that will return an array consisting of all the elements of array_a that are larger than zero. Hint: Use logical expression as the index of the array."
      ]
    },
    {
      "cell_type": "code",
      "metadata": {
        "id": "CNY6cTvMWX64"
      },
      "source": [
        "array_a = np.array([-1,0,1,2,0,3])"
      ],
      "execution_count": 151,
      "outputs": []
    },
    {
      "cell_type": "code",
      "metadata": {
        "id": "nfiLgsmWY6A5"
      },
      "source": [
        "array_c = []"
      ],
      "execution_count": 101,
      "outputs": []
    },
    {
      "cell_type": "code",
      "metadata": {
        "id": "uLtZeyoQXL2V"
      },
      "source": [
        "for i in range(0,len(array_a)):\n",
        "  if array_a[i]>0:\n",
        "    array_c.append(array_a[i])"
      ],
      "execution_count": 102,
      "outputs": []
    },
    {
      "cell_type": "code",
      "metadata": {
        "colab": {
          "base_uri": "https://localhost:8080/"
        },
        "id": "m1aPSQ_hXWap",
        "outputId": "3c65eb96-00f5-4d8c-c3e3-ac65dbd273ef"
      },
      "source": [
        "array_c"
      ],
      "execution_count": 103,
      "outputs": [
        {
          "output_type": "execute_result",
          "data": {
            "text/plain": [
              "[1, 2, 3]"
            ]
          },
          "metadata": {
            "tags": []
          },
          "execution_count": 103
        }
      ]
    },
    {
      "cell_type": "markdown",
      "metadata": {
        "id": "_U4G0iLkaJWq"
      },
      "source": [
        "### Problem 19"
      ]
    },
    {
      "cell_type": "markdown",
      "metadata": {
        "id": "m1e_95_paMAK"
      },
      "source": [
        "Create an array $y= \\begin{bmatrix} 3 & 5 & 3 \\\\ 2 & 2 & 5 \\\\ 3 & 8 & 9 \\end{bmatrix}$ and calculate the transpose of the array."
      ]
    },
    {
      "cell_type": "code",
      "metadata": {
        "colab": {
          "base_uri": "https://localhost:8080/"
        },
        "id": "DaYIiVWRaLeZ",
        "outputId": "931a765e-b39c-416b-dca8-2aea42bc562c"
      },
      "source": [
        "y = np.array([[3,5,3],[2,2,5],[3,8,9]])\n",
        "y"
      ],
      "execution_count": 104,
      "outputs": [
        {
          "output_type": "execute_result",
          "data": {
            "text/plain": [
              "array([[3, 5, 3],\n",
              "       [2, 2, 5],\n",
              "       [3, 8, 9]])"
            ]
          },
          "metadata": {
            "tags": []
          },
          "execution_count": 104
        }
      ]
    },
    {
      "cell_type": "markdown",
      "metadata": {
        "id": "U3HG2l5hbGJu"
      },
      "source": [
        "$y^T$"
      ]
    },
    {
      "cell_type": "code",
      "metadata": {
        "colab": {
          "base_uri": "https://localhost:8080/"
        },
        "id": "A6UQwJ4CawSw",
        "outputId": "2a40a467-2f89-4923-d27a-499b2a2a6173"
      },
      "source": [
        "y.T"
      ],
      "execution_count": 105,
      "outputs": [
        {
          "output_type": "execute_result",
          "data": {
            "text/plain": [
              "array([[3, 2, 3],\n",
              "       [5, 2, 8],\n",
              "       [3, 5, 9]])"
            ]
          },
          "metadata": {
            "tags": []
          },
          "execution_count": 105
        }
      ]
    },
    {
      "cell_type": "markdown",
      "metadata": {
        "id": "Uu4JFujkbJSG"
      },
      "source": [
        "### Problem 20"
      ]
    },
    {
      "cell_type": "markdown",
      "metadata": {
        "id": "LMa1Mdy_bScO"
      },
      "source": [
        "Create a zero array with size (2, 4)."
      ]
    },
    {
      "cell_type": "code",
      "metadata": {
        "colab": {
          "base_uri": "https://localhost:8080/"
        },
        "id": "uOfh5nzibEgc",
        "outputId": "db28425a-1614-45d3-957e-233b9a296b59"
      },
      "source": [
        "a = np.zeros((2,4))\n",
        "a"
      ],
      "execution_count": 165,
      "outputs": [
        {
          "output_type": "execute_result",
          "data": {
            "text/plain": [
              "array([[0., 0., 0., 0.],\n",
              "       [0., 0., 0., 0.]])"
            ]
          },
          "metadata": {
            "tags": []
          },
          "execution_count": 165
        }
      ]
    },
    {
      "cell_type": "code",
      "metadata": {
        "colab": {
          "base_uri": "https://localhost:8080/"
        },
        "id": "HR1VEWtSJ3e7",
        "outputId": "2a44daf4-5cb8-4e3e-d91c-6fbeddab9689"
      },
      "source": [
        "b = len(a)\n",
        "b"
      ],
      "execution_count": 168,
      "outputs": [
        {
          "output_type": "execute_result",
          "data": {
            "text/plain": [
              "2"
            ]
          },
          "metadata": {
            "tags": []
          },
          "execution_count": 168
        }
      ]
    },
    {
      "cell_type": "code",
      "metadata": {
        "colab": {
          "base_uri": "https://localhost:8080/"
        },
        "id": "YgRAhB9wLXvx",
        "outputId": "50353870-f248-424e-f726-5b6ae379e17c"
      },
      "source": [
        "a[b:]"
      ],
      "execution_count": 169,
      "outputs": [
        {
          "output_type": "execute_result",
          "data": {
            "text/plain": [
              "array([], shape=(0, 4), dtype=float64)"
            ]
          },
          "metadata": {
            "tags": []
          },
          "execution_count": 169
        }
      ]
    },
    {
      "cell_type": "markdown",
      "metadata": {
        "id": "tuJOGl2pfOia"
      },
      "source": [
        "### Problem 21"
      ]
    },
    {
      "cell_type": "markdown",
      "metadata": {
        "id": "ntDwEQByfWUt"
      },
      "source": [
        "Change the 2nd column in the above array to 1."
      ]
    },
    {
      "cell_type": "code",
      "metadata": {
        "id": "XciF1Ex_banL"
      },
      "source": [
        "a[0,1] = 1\n",
        "a[1,1] = 1"
      ],
      "execution_count": 158,
      "outputs": []
    },
    {
      "cell_type": "markdown",
      "metadata": {
        "id": "ECsHuIJDf-QH"
      },
      "source": [
        "### Problem 22"
      ]
    },
    {
      "cell_type": "markdown",
      "metadata": {
        "id": "Ypkr3IsFgGT_"
      },
      "source": [
        "Write a cell magic to clear all the variables in the Jupyter notebook"
      ]
    },
    {
      "cell_type": "code",
      "metadata": {
        "colab": {
          "base_uri": "https://localhost:8080/"
        },
        "id": "rEw5CyqSgHO4",
        "outputId": "a2fad386-0561-40cd-cddb-0170b633c79f"
      },
      "source": [
        "%reset"
      ],
      "execution_count": 108,
      "outputs": [
        {
          "output_type": "stream",
          "text": [
            "Once deleted, variables cannot be recovered. Proceed (y/[n])? y\n"
          ],
          "name": "stdout"
        }
      ]
    },
    {
      "cell_type": "markdown",
      "metadata": {
        "id": "jMnsz6omgSf6"
      },
      "source": [
        "# Chapter 3: Functions"
      ]
    },
    {
      "cell_type": "code",
      "metadata": {
        "id": "V30xhl3Xgz5V"
      },
      "source": [
        "import math\n",
        "import numpy as np\n"
      ],
      "execution_count": 116,
      "outputs": []
    },
    {
      "cell_type": "markdown",
      "metadata": {
        "id": "WHEgl-9vdBRS"
      },
      "source": [
        "## Problem 1"
      ]
    },
    {
      "cell_type": "markdown",
      "metadata": {
        "id": "CyUKYphUdIWH"
      },
      "source": [
        "![image.png](data:image/png;base64,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)"
      ]
    },
    {
      "cell_type": "code",
      "metadata": {
        "id": "iZ2icCwpgWBi"
      },
      "source": [
        "def my_sinh(x):\n",
        "    y = sinh2 = 0.5 * (math.exp(x) - math.exp(-x))\n",
        "    return y"
      ],
      "execution_count": 114,
      "outputs": []
    },
    {
      "cell_type": "code",
      "metadata": {
        "colab": {
          "base_uri": "https://localhost:8080/"
        },
        "id": "NNs4vagBgD35",
        "outputId": "fb62c84d-d808-479f-cacf-d129142a3dc2"
      },
      "source": [
        "my_sinh(1)"
      ],
      "execution_count": 115,
      "outputs": [
        {
          "output_type": "execute_result",
          "data": {
            "text/plain": [
              "1.1752011936438014"
            ]
          },
          "metadata": {
            "tags": []
          },
          "execution_count": 115
        }
      ]
    },
    {
      "cell_type": "markdown",
      "metadata": {
        "id": "vEdEAdLThV8h"
      },
      "source": [
        "## Problem 2"
      ]
    },
    {
      "cell_type": "markdown",
      "metadata": {
        "id": "iQlwJa34hZ2E"
      },
      "source": [
        "![image.png](data:image/png;base64,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)"
      ]
    },
    {
      "cell_type": "code",
      "metadata": {
        "id": "MpCibZQPhZCb"
      },
      "source": [
        "def my_checker_board(n):\n",
        "    m = np.zeros((n,n))\n",
        "    for i in range(0,n):\n",
        "      for j in range(0,n):\n",
        "          if (i+j) % 2 == 0:\n",
        "            m[i,j] = 1\n",
        "          else:\n",
        "            m[i,j] = 0\n",
        "    return m"
      ],
      "execution_count": 145,
      "outputs": []
    },
    {
      "cell_type": "markdown",
      "metadata": {
        "id": "kZ7ekGbQs5LI"
      },
      "source": [
        "Tip para recordar: aquí arriba está el fragmento de código para saber si un número es par."
      ]
    },
    {
      "cell_type": "code",
      "metadata": {
        "colab": {
          "base_uri": "https://localhost:8080/"
        },
        "id": "NPBzvfuKl1yx",
        "outputId": "df6286a3-024c-4c30-96a6-a206366d51f3"
      },
      "source": [
        "my_checker_board(5)"
      ],
      "execution_count": 146,
      "outputs": [
        {
          "output_type": "execute_result",
          "data": {
            "text/plain": [
              "array([[1., 0., 1., 0., 1.],\n",
              "       [0., 1., 0., 1., 0.],\n",
              "       [1., 0., 1., 0., 1.],\n",
              "       [0., 1., 0., 1., 0.],\n",
              "       [1., 0., 1., 0., 1.]])"
            ]
          },
          "metadata": {
            "tags": []
          },
          "execution_count": 146
        }
      ]
    },
    {
      "cell_type": "markdown",
      "metadata": {
        "id": "3GfuXZA0tdic"
      },
      "source": [
        "## Problem 3"
      ]
    },
    {
      "cell_type": "markdown",
      "metadata": {
        "id": "RUWvpkIDtfj0"
      },
      "source": [
        "![image.png](data:image/png;base64,iVBORw0KGgoAAAANSUhEUgAAAu8AAAA3CAYAAAC8caQ6AAAgAElEQVR4Ae19LXcjve/2/zsFFS1btKgsKKwoqKyoKCxov0BRWVFQ2YLnlBUFLSsqCisq03MkWbYka2aSNG1z7097zp7Miy1duvRij+NM/w/yXzKQDCQDyUAykAwkA8lAMpAM/CcY+L//BMoEmQwkA8lAMpAMJAPJQDKQDCQDkJP3DIJkIBlIBpKBZCAZSAaSgWTgP8JATt7/I45KmMlAMpAMJAPJQDKQDCQDyUBO3jMGkoFkIBlIBpKBZCAZSAaSgf8IAzl5/484KmH+4wy8v8H7V5r41fq+0rbUlQwkA8lAMpAM/MMM5OT9H3ZumvY1DOz+3MJ8fgk/ZjOY3T4dPAl/365hvtzAa4G7vb+CqyuWd/UgV/e35e1pDfPLHzBDPL/u4G/U9XUDy8s1PL9FN/NaMpAMJAPJQDKQDJwrAzl5P1fP/M/heoe3tyPWnt//wv31HK7utgdPmk9K8fOKJsvLze4wsS8PsLhYwZObRL9urmA2u4D19jBxtfXrBq4mHiben1ZwMb+Hl9opD5KBZCAZSAaSgWTg3BkYmLxvYY0D/z4zh+2aJi1R091mCbPZGvr5xz7yuY2dDG1hHSn6DJaLXbh6aTF8hjKWuduswc79Ig4+T/93Sn59WMBstnT274Ho5R4uZxewuP/eKejLwxxmszkcBuMVHhYYX351/R2eVjOYza7h0U3q92CEmuDEnGPXy9YSdrBZzmB+GGgtwB2zvK/KF6dcne5gs96AeYyifI5qker2xYd9vp8IwHY98tDHPtqrtjs4PV6uT19Vkh2cbznlMQ1zczbC8T7Q9h/LhsfRffQc2uarfBrFYc8J2b50uTxk0hnmOOw2sDxmXBuy8djrIzgO4jjQf1h87jdG9LUmUCyXyLbD85Fxcy7Tt9Q45w3nq6LolJ+eB38+raufvBciyJi9qjInez8YlOSMihwl2cRETXBoDNhPn0/bd2SL75g0I1+Ok4iDIy06724lVv6zq8AF/8Uang8g+v15BRezW3jqvnD4C3e/ZjD7AB9/737BbPYL7sI9Mw0kT/JXAYbWZv8j5uHbJ++YN37AP7uBPcj3/Ykebbldjw1kpV57fkYl4s0I71dN9CbBfU2DUo9PMgQdMJahP49a2DiKla/yaRCHAScHTSzPLscB4FwwUey6+UWJj4M4DmLqsPjcZ4yIak2gWC4dyXFk92G2CIBjPj0P/nxapp28Ewm80kxG7Fml2GC3qlWCZbnsV/Aj0qahAlC/PTHtI2+wzUigD/b58A0sZnFyfVj0uQt4f4LVbAYX60OmvmdkVMF/2H73d3heXcDs+hG6xfUySZitjuXjFTZXOOCvph8m3v7AzWwGt/0TxBEEH16AjlAy3QXrmJ+cHlngp5Ud2+Kz8p19cPoyGeHlCdjpdR3L6Sf3O2EMfdlYdjAl3+fTiJOD5gon9M/BtA11iGrRUNvPvD4ypzmI4w9j3GeMiGrNiOIj/R7b/VXx73nw5yP2lltm8r7dLGFT9rgcMnnnp0s78ZREpE/zVQSDbCvo4igmjb/qxy+8NYmlD32tUb7mUIMz6yjXRyfATcfgNwsUCCKLP3FwihxtOWKM663F6lchLdayQjag03IgznQ2BNxOYRBJ73/vYbmYw+WPK7j/+wrPd9dwdbOC28UP+HmzgZfdCzyub+B6tYKbxSUsVn/qjyoB3uHv/TVcLRdwOb+FP3WPwjts767g6vdzPykVxfL58gBX8znM5z/hAn374xLm8wXc42rx6x+4XS5g/mMOt5sn2Kyu4PrmGhaLO9jiSvX7C2xW17CY/4D57R+7RQLXCZ/v4Hp+BTc3V3B5fQcP97/h/klAvsLjzaL2fXnZwOr6GlarG5j/XMDqT7DV5O0vYZhf38DNYgHr+wf4/fsP7xff/ib83te4WrndrOF6sYTb1Q0sFrfQRG/h90W8ZUW2vPxcXMEV6pv/hKv7v/vv6ZeHictrWN1ew81qBVeXl3AdyniBh3n/gE0uorgM8trEnM4Njv3lZkvbceSrSM+LzQEtP8ghNTMc7icBhQtdNnfr16BS4E2uuQWHUnMEd6tRTX49MnI8f7p2lR568PR967eT2A/5sDVEUcD26Qu0Il629slDn6qTnnteQbdbAS1nnhNZPbS8MgSx09YkAw9zkbZPSn/t78pmObByDP/IGdb8yp2SU6+1eq0l76/f8q5Xu60M1KP0K2WTXBZ/1RhDX5WxjHSst4ov9gVdV+MdqhvWIzFkubQ+8XYW35AO7mfbW1nGL2I7+cBywpzZeGq2MAaOzwCP5mS5AZybVM4cFwKhrnKbPLD6ZUytsoyhY3Y6jEMYKhg+aPYq2Uan61BPVXuMEd2nywX0n7fT4l2u14PbdwTjKMcjOSb9ZXSVGlM5lnpEnInfB8YIpwdlaNMrPeqg6td+n+okdanzI/Nu6qbD1Il293Vfwib2m5ohPAhr/lwZOHBoJu+6DRWHDqVuoY+9wQyEuhdCqyh/XgdMH3wss/aTgqUviAN04BKRtogwUi/Pnyt7CKOVUQNENbMcsc2mqDss7EgtFzEUuwOdUmiayYxZJzIXceFuGkODj/utr+Fx98y/b5hdwlpePSLBeLGAu21ZF362v23ACebl+hneXh5gPpvBlezbrqvo/S8dmm57xFs8liAi8MHgeXUJv7evZRKI2HbwvMY3qOCPOPH+D7h53AH/sFNzCvC6WcLFRZP3co/70duE5e3xGn793lI7vH6x3MBL2bryTJM/4bPgfHuC1eWM7cVLb49wjQl5we3C/e7vW/g9vzCyCas4s+TBdbCpnfm4gOXDX34AKhyv9l0dLw8Ts8sVyPNKxBNb9wZ/bmYwu2pvu2ne8Tki8aULKl+zg7DyR5gDil9zX+Sr/gUM585Qv4YYj6Jc5YFdD4JFl/ij1KFWeP19paPkR+0qNaxe8LwRKDt4juS7riG+ZtiaQ9ZSjjTcgW4FXQbW2p5scbxWO1THUbytv/eTP48WeliLx+3OC+e69lE/Ez/Cc4tPHwv+vFlY/K0Gc8auYtFz1ToXKDq+ygQ74nJ0LGt1SsR7zD4G7DnzpidzbEfzkW3vcTre984L309yufnCxh7fr3G4NyesR/cTnmqOVx96n3qM9jzihd1X5ChfUtuqpyLoDljm2o3zmpOuCzJBY3JT5867XPD4vN3yAK1iWanl+NBxx/oqxwfmWMRjy9uCTU9kQ/kxVgW7HrIvlm2rpJdXW9oDn1d4l2TJnIwv2Af1Mm5X3xRf1HO1vdDLt+fMQ+VYL8JYmINnJ5q8F6MlmMlAKRYWJAeK3CN2XKAKVhewQmxjKQhy7osOaKSIvP7TB1ltEQxUlvimxwel1attsDxUXXIQ6PRJ3HOHnad06PuiDFe2H+Hm5hFey1tJcDJb/5WJ+lK9ppBXg2UP9Rs8ra9h8wLAPzSV6+QkWoWOJqVVvjnYwSNurdKvNKSJL66wlweL60daWX99uoff90/w+vYE66t7+CurWIuH9saUv3dwOZvR5FzU8MRVfkyK2PGbBozZC/5RqDz8QvmhqMYCOLnFdmpvuqxs02shy+S3TORZZ9kSM1vAQ/0dLT6I8AMHtSkT7H6nUNnyouWVgtFiTSyLP9neX+1hDAD4ASMuiF3BUmJtjmAsrWGDq2CShyZuoxjX8aePm5KWr1F/bDfVr8nCoyhX66qcaqrb6ePahGzTtYqk8wOl2C+NqYhL2wCv4Ukmmd4fQT83ebL+aHha3YlkCMi+fWi3bi7HHj9dD3SZdsF9KhFH1GfDbwXlHlz4Otnk/VO7DPyAMBzwXTyGGERw8DnSvvfjQNwOxbNWZ/QEnBufsE2GHuwvY7fLtTA+SJ7EegNibUIch9UK25/lRvqjdtTa8FBwGdsbVjlqspyvpQF+RnKJJ5+/uhMfk3w9UT1iksYQ1INhgMfwRPcdthEeTN9iwhQv1KcEke0/FV8Rzy5mR7D2DAcT7j37E+66Kq6/fRItEdaSp8X2xpP0Gfk0uLxsfz4ip9w62eRdr6hox6Ie7dzeWOe4irm/3vUlMgrpzgltMKsC6aBzmKlipa0hma9pG0SixRORzzYQloI1UleA2ZU5umg5IH21yAoK1suTqQkM0kV98qTcvpIwWkmmiW73g8yy5UL9sJL7XoGa9yttwaFMhKP93X/v4BetmAfbWFDU6wMsZjNY1BmyTJrVwwRNvnmV3O4gL9gNn1tYX8zgYqXe1V50mL3pBRe/g708YOj3u5d95Pj2mZvfv+H36gaWy2tYP5aVdMROBXYG3eRd+NDyysPUr6lfnxK95WFCP2zIQ47yk/YExdVs4Me2eqDAYwxgimUevG1eTMTfZL5G/WWiu3+eW0zFUm1HucS1gO1gDiIdfpKiclqTaPLb5i01o/tqQPXn1CjoJ74bHCw8Z5EMA9RNeLk9fcU9WJzEBwr/EF7NQzkm2R+tz4H/5KEukl8fLhXO1s7bUcYoveJWKDM1N8SguRWedBz5+OH2JNfxHcatGz+rto5b0RP4X/ukPDxpfiwW23//vJCaVnAcUSssDrY04oTambpdWAn9Y+3Blpz3ykfiB+rP1+VS2L7Gch9HBUn58LlJ0lz+2R76bByn+Jt7cFu+po+rPIqBGC+1d3w2jlV9qHYX7gpJvr/3oz2POGEddc42grXaUw8CeXv2N7iL77Xfp+uLw10x6QPPn/jA4/bnWkZ8fLrJey0QDMKQUMlkQ8w996TfYPZtbRBgS2wjZLSeeLTb1eXUckNIbEHfyytNK94m0zhaJOIWi2pMRD7rPOfJ+/a3W1WGshKuV36RZz+pRQ7Kdo42qWQOzCp6ozA+KhPhaKWeOB95Ywqv+uvV7fKWFjNxZexm8o1Ido+wnNk95/z2lwvQ21Pe/tzQlhv9x5JkZZvm0gr/28szbF/f68T8osZGYLoUC/tEAVAfWFr8yjYajSuQWC4F9pbcHHolJOXB0ORd5Ri2Y5PQz5x3eK0W3XBVSeWAkuXxc75GOYQtD8lzu1hQ9QQDO8eXGvBCf+3AlhJtT5VeHmiEH25jxPma4s9JVNDv0yfvYkPJ3aE9pvviLbHGth/iN7Zdb/cw9Tnwn2zDMDxXc3b0bR37WMVoaIdM6NrYIGIIg0xsQgzSUlYAJQbcZLY1oyNjW7kXjTF4y1+nvtpPBlcQQ8YnKFG4lgmsttv2J90xwS4vRG6rC9xt/1qxLyfGJ4U7+jA8yA1tj9jd7I108uIEclPaoVyJARFLn742mJuVZ0ufxuPby/kEzsBOjnPGq49F4tgrK318YZ/GMdcFa0ORulM5ZvgR/FF8RTWe29dxZCBHqy3mIOAz4Md0Efj4DbLCTTaLz6nNlO0Ot1PCfhiqPZ4Hf+6EBaenm7zLILNcBivIBdgyeu97QD4B7a/3iXaAwYFDe3mFoSB4BgO8RnWERTs3uq88EuiUIisqwqQshZjbRDo0BqWPDtvqc13bDlZ+9aT27WkFS1npJk5nUBfNg75eoz+3W1peYHO9Ln+wqGxh6Vb7RULBjltm3p/h9xK3zvCPQGdXD+2HtWqVXGOv3zjUyXNZtcc/mPT+Bk+rJW152T3yD6XaCrld2eb7uCUHt8WUrTmis23iL6Dfof4dqjKgdm956bbTlAeSS/lLqe/w+vQA93oVXyjBz/JApSfq+iHndXMNa/MXoQrP4Z53Fox5stxs2r7NUtz5mn54noq/6L4GP3R/6Lru246jXI2++jb5FNSHJlEfMZb20F7umf597eoGzz3ynSXb/O1rlucm0K3hhw9YrQFxIgWnXS4PJ9rXeDPQVeJ6uB5poerY8MfXja3BfUJgFlCUPDr03NBMOBifKKDt3tao/wAG1hpwMdLe2FZgh3HbTd6n9AT3jU94YlYnSkV3+3D9R2xofdrRR2rFvpxQOzXpqtojrHStxG1wP9LJ8jh2KI7DXK1ahw+CfkM+NkKmcAb3J2tZgEV0Rpg0x8McsQTfH9sPx1eQk6WO1D4jWAVz/Qzaejy1rTvo23Hs69o+Zfvw/cBOg9Xf9+cObHB60OSdgEZJUwQTGfjVStBm+J4rFhVkf13rl5V1lqsHFSahG38McVKs9cp5VRwPVLoIYFM61/0j8tkGCcoOK2ISrghfWbUpT7T94DgQXPVpcRqDshKgbO9oK+dQV371SjjxjqvZbzhBVSvdZZIqE1D6oehsBrqv0RecsGzesoH952v5S6llIh69ShHlFL7m93/ph6e8daZMwC/lr4YiXvxmAben7ODx+hfI1n5ezdZ/BKlwe/tEP8JdyD76sm1GbHx7XtOe+hrjtMf+ElZ3K5jf8N58gL9wdzmDn6KM7H6Fx9u5+oNMvN1m4fcXvT/D6qK9utH/+Ba/MaAfy85m5hsCoZa/KdDbhso3Kbhl5n0L68sbeGyL+rj3iF8rWZ/ARJL6lFiXWMVb0bVwYjiRA6XP1GSvyx3TT2GVyU7JCakTk5N3WY3UhQNt1DaLmmJ7a+rzkvOwDQLlXH9LOJLvrV9ZAav5XVZhu3M9WGq+o5VBWyOQV6lPspLdzsXglm9k82B9cu2qL05Qn4nztmJakXW+sJNTqi/VUYEfqqByT/m7i7khDCTD8iq1u67eVj18MDiWKf3ShXDU61N62P/VZBSiYw3PC2dtG5Ees31/H9ulf8UjKMunyNb3o2tBrdiXE93OaC96Wvw67MSDikXBxUFdv00kmaZtHxvMaYlHz6+A8teLvuobf9/0G8Ip/rO5wLEq15zdhWv9Q3hRhZ82vviO4djjJgit5nT9hVe9zabGg49f1Md4q980L1JrSKbiRAygtva6wTPUb8BuyY3qownbu/ZkC/uBOKyCSgzVMcDz4M/FwOFPN3kvTtek43ENbvVVUiSzkF6doNsM3mOd1cbaJ7heZHDRkUCVYJavaBhvHbSrPBkISztUiI7pFZdiZwMCxZAzhBt5pVftH5HvglICRmSgI7f81ZOXzxwGHMgko8pQPAQFsUsMxQds7+DH7NL8IZ+3P7dwcWEnePRKyZ8LWCyvYPVY1+jxfY30usjL+RJurvG1jsit/DBUKxo5xh/O/rwk2dd3z+2Vj29PcPvzJ9y2d1A6ITv4s1rA5eUcFrePbaX9bQv3y5+Ar3S8nl/D/fMz3F/9gF/Yrr6+ckc/Qr2ok20UjbYs4ediAcurFWgzX/+sYPFzATera7i5wr8E67bbvP6F5+0L7PQfW3r9A6urOSxu1rBeXcP17W94/Kvf6F5W8PXe9mLh2/YOlpf8msurm3t4NpPtd3h5vIfV8ld7w49iZnv3A2Z1lZ5v7BD/5QIWiwXcyRuFpE/5tmT0gSvMXY5Nmz/75YAUvDp5wFyivSlRfwG6f55LzLP8ksdUhHWu9BNhmbxWXC4/FZJ+AlTrQGllahViQL5sTdH1xOT7mt/sxDgsZo8R+6EcXXN5IFd1zgC3HO92+I2KrZ2muToZxKt+695NFLF/GQArr9XfSnhQX019DvxXexuueSK6lb1O5h7yj/ZbP1Q5dZIjfLh2Yxg6O9Fv6HPvv6LN4OI2ZtLRQPWTK8On1xOMGUUXh2gfh5IvJga1TyNe1LiloNYHBR2PIn+yVuzJCcVhnQwq7cjLxGsldQwTHuxDxOwA/6pnjVG9LamoMH3pfnk4Lv6wNpe4X25go15fa8rEUL8jcoFzXsWa4RLjOPI7GxbFXcexkWdzzPaP9HBMMj+2/jACfb9cUZxhP7ZPbUkrPuHaouwW7grRg/1kLhbEkfi5+mrEdoJR/Cixg6/q5uEMfxyva4muPZ4Hfy4GDn+6yftww7yTDHQMvL+1bSCAr55sb415/fMbfuOPNUf+P8hrKDvB53uBt8nYH/geixZfWYkrc3XnzgGC8AfEY4vle4varuFihq8M3btHNvw0BngQq4PGp+lJwf+zDOBEY2jCkoF3dFjgxH9zRA09tt/RQD+74yfG13ZtJ+mfbcq5y8/J+7l76FzxyVtYZCCoP7TUK/PnCn5fXK/wdH8Pf+Ql8PIqSdoXv6+MkXa4jeVX2yIz0tLewtXyyzU865V+22LPM9zvfgG/1s/7/wGoPSVns2MYyMn7MaxlnwMYKKuIZpWYVg7dtwwHiPyfb4qcHvPgc2y/cyb8s+JruzbfLp4zBV+FLSfvX8X0v6aHflj5A65pf8krPCz5jx39S1N3+bGq/PjzfYv73S/UvvWPOxX3qF8MvMIxlv4GT7dz8w73uN0eV18eYPFrDX4nzR49s8mnMJCT90+hNYVaBsoES77mH9qXbzvlWTKwJwMZX3sS9bFmOXn/GH//w71fac/54mYFt8sFXK+f6l8p/WdIoX3rC1je4rvar2GxvIH759cTr1K/w9+7Bf311g8vpB9CPK76z9Vf0D2kb7ZNBpKBZCAZSAaSgW9jICfv30Z9Kk4GhIF3eN1uAV8R/1X/3l+3sH3RP6D9Ks2pJxlIBpKBZCAZSAY+wkBO3j/CXvZNBpKBZCAZSAaSgWQgGUgGvpCBnLx/IdmpKhlIBpKBZCAZSAaSgWQgGfgIAzl5/wh72TcZSAaSgWQgGUgGkoFkIBn4QgZy8v6FZKeqZCAZSAaSgWQgGUgGkoFk4CMM5OT9I+xl32QgGUgGkoFkIBlIBpKBZOALGcjJ+xeSnaqSgWQgGUgGkoFkIBlIBpKBjzCQk/ePsJd9k4FkIBlIBpKBZCAZSAaSgS9kICfvX0h2qkoGkoFkIBlIBpKBZCAZSAY+wsDpJu/bNay3GsoONssZLDc7ffHA4x1s1hsYlfApeg+E+d3Nt2uQP3X96XxXW/lPuX9MXxU2cfCRWPpKnBNmTN5mrDaPJjupBkH/qdj41Pz5iN+UWSc43G3WYEsRY5sdT/YJUBURZ+6D3WYJs9kaTHkftD6Iwa7tHnW964MXWPZsOTEmhH3P9OKn+H6a3+16Bt8T++M1gXCdhX851k42vnV+HorHEuNjdYlq+r75OKSnv855vnR1sm9HPprN6pwD5x5jcHsJU1e2sD6twCmFk/eJm7OIywb1ZJN3dKjlezxJG4SRo90GlhOEfYreEUjnd+uERWYPvqv92BYT2Dq93j7twQdi6UtxftRq9uXxlPr+07HxufnzAb99lErTH3H4QYm5OYeJ4Ln7APHNZp4/Q7A68TGobsnhIXVG+uCnehA9Pke0wO8//hTfT/L7nXk5pnvs3hf76sTjRu/nwB7ROTWufsLknXN8Os/7B/k98j0wdfQS2ndmCf4PT9456SzfJ0hEdOLo5P2T9I5G1pndpITfd2CdwD7J90T/T7t9glj6NGynFPzRQuj6T8bGZ+fPufgNeTlRjpzS3STrX/OBi8GIr6PqDPOEgzpNNOxgE2n5D1z7JN9P8hvp/Sq6WHe8oj1276vwfYaePfhGn814p8JkfFPbU628Mzb6Zm3P8cL6bo98P5BSmiifWX7/m5N3/bRYvkph50oibmn7zNC2Dn6Sk69g2gDbngTlngvWD+rVqzhTX/tYLBqHTAo4gCX5OFbbNbLdB6PDbxPCRrvlSG1FKgkv3A7ZYfs3jrUWayNyXuyUgaDqkv590g7rkeIlhYJ96m3uMQgOiSW9gcrKGn7I8zgn/FJJcfLd5I9sXW/B2Nw9aO6rS5QKVtvPho69Z1copL9dpZT4MHJc/GGbU+StWMKfzW/at97vhsOI5/oVrcRe0VJjkuPJ2CdAXJuWIw0bN0XulrDZlm+U6uqXjQOrw97zMThmF+n8Uh+M1+Gxekh26NgOcLf4kRi0cSq86TjguNT1VJwWfBadJId82vcb5ttiaTkjWJU+0tPijGTKAwPFYbmn40pzQ6KG9Hk9HLfMw2H5Z3lsXNjrUj+VXoUPuWycNZu71vTNi2BtungbE/az9oqvRU7TMYPZcg3rwe20zR/NjmNwcV6utyo/Kyh1Df3Z+U5QNyx4hWxwbQljlYtfDAlHivcgV3z9Q/nbDdYe1u3lCqL6KfFvZItfii8ULuqn86cKQsNwi0rZhuZiXzerW9ZqLZZ4tTxxn4KhthVsItHdr1idbwb8Izlp46ptpZv2Feo/rNZXmWN5r+/5rUR4D+OntpG4HuJCuBr+PNG2GQZQfUD6xBECUiYU7bwSUvBNnfdmHKeXB6qGA4YCmyDbrSE2sYT4ODhbkhYuhCCfJP5cGUqc6AlNwVplj/RFMYdw6tsSDAk2wV6xWe59X3v+0Vjg/tVmcHyKn1xxZagWp/UfF9zONJGv5JE9yg98LgUMNbGehtGf95grlfWA+9QHJ/GfPEgVHQ2vtU0w1PsTsdG1Jxx7+qpi6vO6miM86kJW4kkw2jhx8erx47n4hOTsl8Oc36qtstP7qw3myO0Slsu2HZB9Lrne+5NiS/CNYW8E1bgRPvjWZ/hA2e+58+eE3dktdu0Zg8Mx7HxsuBg+sXHic4sSBZYqP8nnBfNwzvv86eVInot/GAfGhUwWPBZ/3sdJszLQX3Nm2F+RPe2BZA9+S2yu18v6mzQTuw1g9y2H1c34J33t/VIXCpQiPCy4Ws4Nc2dxlImzOCnikFT18obs9rXRxh/jNhgoh6Q2lJpY8UR+drarUyNXXa+HpEs/eBS7SkxyzCosMo7UmK2S7IGvWfYuSgl+x+htKzFRbZeHGsETt1fNu5jzMCQnfe2W80lfdb+dQUxjtb7kFD5MVKDOzokaWhdHan+2yvsaz10Tb349//TJuxBaoMJaD+QVRjlwwRM5wXbxgYB3pwIsul+csw9rJkkj/QPFk2yTALZWxJixDcu3HDr5jjMvuTsfaR/ybezV0mLbawujJ+Lc9segNXYavlz/EBPKUwNeBaL1ODm1jTvwiUi3bd+IK52I0X0enIZiAJVorAWT4dHhpDGiLyg1jCf6hvom8yfAWHAY/wWcCXrNk1yrnxpz6GdsaX0hfYnzarxcpZHLTuzolpfR20U49YA3iQ1llBgcxK5w0WGvN7ZPt9PHTV6XQ6GdeFH39zywPM2liWjuxegAAAsNSURBVGXiwMaw1atlF2yaN3LHcmTFs/QxHyxTx1fnm0G+Y/tY/BFYyRY7wBKWEneGK7Eh4GxQfxjbAU6RjZ/O9hCDbl9saBORXoZubo6NrgCX8XXvtzi2i4aCq/NzlNMGlMc/4HODXQQgxqlxw425peuk30WFybd6cfBAyw0bRXYEvDfamI92HkpFI4M6qdtGvNoYoNjTCzvU3bbREvHY2+vPffsovnWfqfu2/rF06j9U64dqVvVDxEuJGSG9ttXWxP10i7Hjb5m86+QUIuWrQ/3DqMgJ1pgoKCJCuB3r5eOmT33VJURbJSWoVbsanJF+edLU7eW4H/Q0DsuLTDrsQEHQKBBKwZlMOOzhbY6KVVyg/MDQqIlsH9Iz5ZNet/W97U/36ldywi1+RnY5nMQd9xl2d/x2DZ3gFh+zou/TcYgRY4Dtab6XuHBYUWwZ0DTWzv560/WfjA3XnsywXBfL6KGb4rPgadgb/138hhOR3tfD8al40oW1i+eGwUxIGHzh0MeGt7PngnxYuRVfsJzOB9XXomcIu4CSz15vPMHhdqfxgZK1B5c21j3eqXPhrdUxK094GPnU9U6adbE9wvdgznvsglV8GMRqp9dOPsbzXsDLZ6A/zBluZ/Kry0OpIQFmUSefxEdrT5eja9J+UFeAv7SltNHHIiu0r9wMMHQ5WOWIr1Tu13HZ5zZ3ms5ZLdzaFsWsxcbtqS7qmkEirSytJTq2coMWAU9SQ0U1yZCaGbYP5JK/Wuz3LSJerW1GbxVQclPAketwjFW+U/em7B/0RbF38H7VYTEjzE6n4yKS2R52lO+1TXgsOod8QNeZB2laaZs4+NbJOxGiv0LbhzBjUO+EyYGvFI+QqN2uey0lOVV/W2CcEOkvxTNWADvctl2KWvuKPkqK1q4TRRhKkjnODD0qSWrhH2kfBqixV0u3to/7MrKP+1dcxS8toXURcf0RkxQmDQl2zK+5ZnHWW+KDWvDrnbIP1A1ukuBTBULf7xyHOiKMojvAWnCyKL6vv6a2Rcf1H/E1a3Tt6aLjmq5xO/YVHmvfCHaAHQV3O49z0U4uxuOmyZI8ZAyMMaa3z+FWZJu8HlvPheVW8rHYfkAMWuwaAx73entsrd1pfKD9Oc1lVxeoJsQDb2iPiWHrf89GdC78tdowpJt7S/tWW4rULucD7l3OdLa7+yhZxwm1jwNzz9o0lX9tcaiqcTW6w+xIje5H16pth4x/2tf6uGKI7OObPYbhtuLjmIOBfgfkrI/jHpv1ezVPjWMVW5jjrYc/0vHk79G58ze3cbFMbbhWTcoTJUFsyy3+jHi1eklXNzZzP57IcvvhMWyI14Zk0Bd67HUYLAcWM0q2912tl3mUk9nGFbav+bthxaSnX+qFPtPt5LdW/bxDtTKH3zh5DwLBBU/kJIM+TIpAbmknxbxzlBWqznon25Xo4D72nnBUb1eEmQS1FU+FyvR3nKlmNFHs3rU/0t7IFUGDtmjbA/xGT3Df+YR0h9GPQFx/I1uADn1qnL4Ny+3UqsLXelgMEVemcA3y1iT2RwFWsrWsWgYybSy7/pM8ufYEyNrJGLmdnjhLLvU26CuRLL7GhTy4P4YZ7S8F1NqtdQbHoUyvu+ei06Hl6ONAZXdJYbf3er1dvFOHU/pAywoGLgvQ/W4G+8YPb9wtsIe4OnLl3fXV0CgHg4dvpqvFiu4j3HLOD2Ft9nV5HvjdxEmQo1a/Pgv0+1rHxqhxIOjjdHaYtcpoohKOo9hpSldw3/gruB/axwANj8rurj5P4vK5XQgIfFfuBB8We8Rpj7eJofYVuJXVWsVHY3Kph/N3u9biVuJ8udlM5KvCMMlPxKu1jezuclK1CbB7e/25QkiHg7744sm7tnUK89SckG1kfmvYeMPd+Ukn7zK48wLcsKNl4LcGc3u99UGT06/qoSUcFIfqZSLbYEKS/J5rIsrbwPraU6MKSkNsaae9gEErT24ugNlOt+e7yON7KilLcRQO29OfAVBPpjiuDeXpsiRe5dthbe2t7eN6PI8ohftbO9SKGn39JE+hvn+JFeETxREv0r6hFD3sCuznuVTntVsv3/uBzrV+GRTrtYkYqLr0geWU7hR/E35fXMk36qs5P6j59loVHWsfyDcCnmtsqNuVlVMzgeM+OtxZVeFRFXPP42jcoH1KqGlbbFe3afWkxpO21XAoK/Pezp57ow/lGT6LbdXfcr/E4Bh2jc1w+3k+sLxYf07VQx/rxIv7erjJ73lk3lq95Rhgnmyd6XNRtzW0VX+oB1sVDM136CclN/Jh7Sfx2tp7220MMKKmC8/Zfh23xK+Ok2qI9sO+vo/jto1Jkp+O36qzPKxVPEEc17ZTuqZ9zbHS6jL7Mx7rLI+Ny+qevXF53NIxsJXioeGTluLHqpvqTYsLyRnxM9rVcsDrj/zcNPmjngfXotS+pi+IuTqe6x+2Ojn+1OSGv4nn3i685mOgx2JiwOsotgiPJBHf2lPis9YHBafLST/2TviqxxwsYDicErc1Hui+iuNiR71fMFUf0X0fZ8iniimts8jX8hQFdHiiybsUjDL5Io3Djq4GFYD8dSga4YyRQkgDhTJSWSGkkox99WJ/o5uDZdt97U8eUHuzkHwMTnGCD1wFrAR6+6oXX01kJw5yD/mwya/lOG71NqNqR8wNSTF2RhxrXSXxNN9h0GEfZ/uonqlY4Ps2UPkaJ3XUvyScmkTgq8F6F2qcyHP7a7TIv9WpuSj6q3zL8WQBYfLNa1LpwbTGgNYlxxpruVZ4FZxcCFWeoX/kZugTi1s0yefR+VOKlcQwYugLrfhVx5XjfCRudjv7ekMp6IJ97xyW4l58yfXHx1TPfTeIElbLp/EHxRPH4CT2aoTLb/Klx4aNGV+tnXTJxvKYD0y/SJbxg62HJtbR73XiV4ygWBBeeh7FTzVMi36OHe4ncdjaqBptLiriql/X8P8GY2Ui543diAXxiy3FN9reoRgwGIPaMZD3YjdxQTL28L3JPT8mtVjR/DbWWP56I1/Tt4lSa6OORnXt42vLBcYh5oyNR9QX2B1wXZGN4gpk1Y7HjBvc2eS6vCa4+H23wxVutfhk4iHKcQWIDpnLWk9FlpPDTTkH8fWStb2O0So68E+91w5MDIpelQOq5R5vm8HW3haZL7EkzyM9CGk7TU7avijB1KMCjmQqDrwO6lN19LxQ+3pfao+rA+aVsXrRrIAwuG0N5Yc9b8tIbSrx3edJ0QUAJ5u8N5F5lAwcyAAFvQ/sOEkPlJzNk4Fk4IQM4CDXDyj9YHhClSkqGfgGBv6BmB4YV7+BzFT5CQzk5P0TSE2RhzJQntS7J1+3Snuo2GyfDCQDJ2WAV+naihQK96teJ1WYwpKBb2Hgvz9571aTv4XHVPpZDOTk/bOYTbkHMlAm8KNf2x0oMpsnA8nAyRnovmbXD90n15YCk4GvZYAmvTgOqW0YX4vgBNpo24V9yD6B1BRxRgzk5P2MnJFQkoFkIBlIBpKBZCAZSAaSgTEGcvI+xk7eSwaSgWQgGUgGkoFkIBlIBs6IgZy8n5EzEkoykAwkA8lAMpAMJAPJQDIwxkBO3sfYyXvJQDKQDCQDyUAykAwkA8nAGTGQk/czckZCSQaSgWQgGUgGkoFkIBlIBsYYyMn7GDt5LxlIBpKBZCAZSAaSgWQgGTgjBnLyfkbOSCjJQDKQDCQDyUAykAwkA8nAGAM5eR9jJ+8lA8lAMpAMJAPJQDKQDCQDZ8RATt7PyBkJJRlIBpKBZCAZSAaSgWQgGRhj4P8DDCkIfoWJyOgAAAAASUVORK5CYII=)"
      ]
    },
    {
      "cell_type": "code",
      "metadata": {
        "id": "kW0LdDB_oq7Z"
      },
      "source": [
        "def my_triangle(b,h):\n",
        "    area = 0.5 * b * h\n",
        "    return area"
      ],
      "execution_count": 149,
      "outputs": []
    },
    {
      "cell_type": "code",
      "metadata": {
        "colab": {
          "base_uri": "https://localhost:8080/"
        },
        "id": "NkKirlUDuHd-",
        "outputId": "e0879894-fbda-43f7-8801-e8622a3cf43a"
      },
      "source": [
        "my_triangle(1,2)"
      ],
      "execution_count": 150,
      "outputs": [
        {
          "output_type": "execute_result",
          "data": {
            "text/plain": [
              "1.0"
            ]
          },
          "metadata": {
            "tags": []
          },
          "execution_count": 150
        }
      ]
    },
    {
      "cell_type": "markdown",
      "metadata": {
        "id": "xnl1G37XuYCl"
      },
      "source": [
        "## Problem 4"
      ]
    },
    {
      "cell_type": "markdown",
      "metadata": {
        "id": "jtpLhSTauama"
      },
      "source": [
        "![image.png](data:image/png;base64,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)"
      ]
    },
    {
      "cell_type": "code",
      "metadata": {
        "colab": {
          "base_uri": "https://localhost:8080/"
        },
        "id": "1bV_C3xyuNKn",
        "outputId": "db6ff4ad-ec8c-49c2-c9dd-b1139c996a73"
      },
      "source": [
        "%clear(b, c, m1, m2)\n",
        "def my_split_matrix(m):\n",
        "    d = int((len(m.T)))\n",
        "    if d % 2 == 0:\n",
        "      c = int((int(len(m.T)) / 2))\n",
        "      b = int(len(m))\n",
        "      m1 = m[0:b, 0:c]\n",
        "      m2 = m[0:b, c:d]\n",
        "    else:\n",
        "      c = int((int(len(m.T)) + 1) / 2)\n",
        "      b = int(len(m))\n",
        "      m1 = m[0:b, 0:c]\n",
        "      m2 = m[0:b, c:d]\n",
        "    return m1, m2"
      ],
      "execution_count": 246,
      "outputs": [
        {
          "output_type": "stream",
          "text": [
            "\u001b[H\u001b[2J"
          ],
          "name": "stdout"
        }
      ]
    },
    {
      "cell_type": "code",
      "metadata": {
        "colab": {
          "base_uri": "https://localhost:8080/"
        },
        "id": "waVomXAmPd-k",
        "outputId": "33db7259-ee70-498b-fecf-cfba6d60f218"
      },
      "source": [
        "m = np.array([[1, 2], [4, 5], [7, 8]])\n",
        "m"
      ],
      "execution_count": 249,
      "outputs": [
        {
          "output_type": "execute_result",
          "data": {
            "text/plain": [
              "array([[1, 2],\n",
              "       [4, 5],\n",
              "       [7, 8]])"
            ]
          },
          "metadata": {
            "tags": []
          },
          "execution_count": 249
        }
      ]
    },
    {
      "cell_type": "code",
      "metadata": {
        "colab": {
          "base_uri": "https://localhost:8080/"
        },
        "id": "1VsobROqPkI9",
        "outputId": "9c5a7cd6-9e35-446e-cb87-c86271a09a86"
      },
      "source": [
        "m1, m2 = my_split_matrix(m)\n",
        "m1"
      ],
      "execution_count": 250,
      "outputs": [
        {
          "output_type": "execute_result",
          "data": {
            "text/plain": [
              "array([[1],\n",
              "       [4],\n",
              "       [7]])"
            ]
          },
          "metadata": {
            "tags": []
          },
          "execution_count": 250
        }
      ]
    },
    {
      "cell_type": "code",
      "metadata": {
        "colab": {
          "base_uri": "https://localhost:8080/"
        },
        "id": "8bFSCo9IPo3t",
        "outputId": "103e9361-9939-481b-ba9b-63f4658ac7a0"
      },
      "source": [
        "m2"
      ],
      "execution_count": 251,
      "outputs": [
        {
          "output_type": "execute_result",
          "data": {
            "text/plain": [
              "array([[2],\n",
              "       [5],\n",
              "       [8]])"
            ]
          },
          "metadata": {
            "tags": []
          },
          "execution_count": 251
        }
      ]
    },
    {
      "cell_type": "code",
      "metadata": {
        "id": "DvKvdJ3GSEqe"
      },
      "source": [
        "m = np.array([[1, 2, 3, 10, 11], [4, 5, 6, 12, 13], [7, 8, 9, 14, 15]])"
      ],
      "execution_count": 257,
      "outputs": []
    },
    {
      "cell_type": "code",
      "metadata": {
        "id": "jcPkYJcgTFX7"
      },
      "source": [
        "m3, m4 = my_split_matrix(m)"
      ],
      "execution_count": 258,
      "outputs": []
    },
    {
      "cell_type": "code",
      "metadata": {
        "colab": {
          "base_uri": "https://localhost:8080/"
        },
        "id": "N-gNP3_BTLmZ",
        "outputId": "21dcea15-ee97-4e5a-c2e7-88438bdd1149"
      },
      "source": [
        "m3"
      ],
      "execution_count": 259,
      "outputs": [
        {
          "output_type": "execute_result",
          "data": {
            "text/plain": [
              "array([[1, 2, 3],\n",
              "       [4, 5, 6],\n",
              "       [7, 8, 9]])"
            ]
          },
          "metadata": {
            "tags": []
          },
          "execution_count": 259
        }
      ]
    },
    {
      "cell_type": "code",
      "metadata": {
        "colab": {
          "base_uri": "https://localhost:8080/"
        },
        "id": "udiDw0bFTNU4",
        "outputId": "b8e8eef1-d28c-403c-e76e-a463636c4f8a"
      },
      "source": [
        "m4"
      ],
      "execution_count": 260,
      "outputs": [
        {
          "output_type": "execute_result",
          "data": {
            "text/plain": [
              "array([[10, 11],\n",
              "       [12, 13],\n",
              "       [14, 15]])"
            ]
          },
          "metadata": {
            "tags": []
          },
          "execution_count": 260
        }
      ]
    },
    {
      "cell_type": "markdown",
      "metadata": {
        "id": "dX-k4AQUT3Tg"
      },
      "source": [
        "## Problem 5"
      ]
    },
    {
      "cell_type": "markdown",
      "metadata": {
        "id": "cHrooHI1T_Nr"
      },
      "source": [
        "![image.png](data:image/png;base64,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)"
      ]
    },
    {
      "cell_type": "code",
      "metadata": {
        "id": "D051O1JgT4-a"
      },
      "source": [
        "def my_cylinder(r,h):\n",
        "    s = 2* np.pi * r * ( r + h )\n",
        "    v = math.pi * r**2 * h\n",
        "    return s, v"
      ],
      "execution_count": 263,
      "outputs": []
    },
    {
      "cell_type": "code",
      "metadata": {
        "id": "QAXHhQYGVLZM"
      },
      "source": [
        "area, volume = my_cylinder(2, 6)"
      ],
      "execution_count": 265,
      "outputs": []
    },
    {
      "cell_type": "code",
      "metadata": {
        "colab": {
          "base_uri": "https://localhost:8080/"
        },
        "id": "Hxb1LVpZVNwJ",
        "outputId": "f449bc1a-bfa4-4842-bab5-c92d68834630"
      },
      "source": [
        "area"
      ],
      "execution_count": 267,
      "outputs": [
        {
          "output_type": "execute_result",
          "data": {
            "text/plain": [
              "100.53096491487338"
            ]
          },
          "metadata": {
            "tags": []
          },
          "execution_count": 267
        }
      ]
    },
    {
      "cell_type": "code",
      "metadata": {
        "colab": {
          "base_uri": "https://localhost:8080/"
        },
        "id": "kDs5Eo1QVdl-",
        "outputId": "b712f2c4-b6cc-4667-a6d6-b3ce29d40dfd"
      },
      "source": [
        "volume"
      ],
      "execution_count": 268,
      "outputs": [
        {
          "output_type": "execute_result",
          "data": {
            "text/plain": [
              "75.39822368615503"
            ]
          },
          "metadata": {
            "tags": []
          },
          "execution_count": 268
        }
      ]
    },
    {
      "cell_type": "markdown",
      "metadata": {
        "id": "RlqaI8LUVkhv"
      },
      "source": [
        "## Problem 6"
      ]
    },
    {
      "cell_type": "markdown",
      "metadata": {
        "id": "dgRMMzTmVqjd"
      },
      "source": [
        "![image.png](data:image/png;base64,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)"
      ]
    },
    {
      "cell_type": "code",
      "metadata": {
        "id": "DBVuvU4XVqKJ"
      },
      "source": [
        "def my_n_odds(a):\n",
        "    b = int(int(len(a))+1)\n",
        "    i = 0\n",
        "    a = 0\n",
        "    for i in range(0,b):\n",
        "      if i % 2 == 0:\n",
        "        a = a\n",
        "      else:\n",
        "        a = a + 1\n",
        "    return a"
      ],
      "execution_count": 274,
      "outputs": []
    },
    {
      "cell_type": "code",
      "metadata": {
        "colab": {
          "base_uri": "https://localhost:8080/"
        },
        "id": "E1kw3KgKVgLm",
        "outputId": "ad99f0d5-f215-4280-e255-0ed197ac8c7f"
      },
      "source": [
        "my_n_odds(np.arange(100))"
      ],
      "execution_count": 275,
      "outputs": [
        {
          "output_type": "execute_result",
          "data": {
            "text/plain": [
              "50"
            ]
          },
          "metadata": {
            "tags": []
          },
          "execution_count": 275
        }
      ]
    },
    {
      "cell_type": "markdown",
      "metadata": {
        "id": "d2Qg05igXET6"
      },
      "source": [
        "## Problem 7"
      ]
    },
    {
      "cell_type": "markdown",
      "metadata": {
        "id": "y8n610a1XMkd"
      },
      "source": [
        "![image.png](data:image/png;base64,iVBORw0KGgoAAAANSUhEUgAAAsUAAAA9CAYAAABFlRRFAAAeB0lEQVR4Ae2dL1srPRPG3++0quo41FF1VXVVq+qqUHWr+AIoHKoKh3gvHKqKV6FQdai6ea+ZZJJJdpYtlB4K3M91Paf7J5lMfpkkd7Pp8h/CfyAAAiAAAiAAAiAAAiDwywn855fXH9UHARAAARAAARAAARAAAYIoRhCAAAiAAAiAAAiAAAj8egIQxb8+BAAABEAABEAABEAABEAAohgxAAIgAAIgAAIgAAIg8OsJQBT/+hAAABAAARAAARAAARAAAYhixAAIgAAIgAAIgAAIgMCvJwBR/OtDAABAAARAAARAAARAAAQgihEDIAACIAACIAACIAACv54ARPGvDwEAAAEQAAEQAAEQAAEQgChGDIAACIAACIAACIAACPx6AhDFvz4EAOC9BPav+/dmOW36/SudmUenrS+sgwAIgAAIgMAJCEAUnwAqTP5cAi+blmbdI72eUxVfNtROO3o8K6fOCRB8AQEQAAEQAIFxAhDF44yQ4ssI7On1jFZl9w9rmsxv6PnLeAwXLL7NztO3Ya9xBwRAAARAAATOh8A7RPGWuqahptuOe7/tqGka8pLuNi01TUd9K4fYD2nazc74sKXOK8ik+LTDWC+uW+nDp5XQM7TbdFRUlzwGvWw/4sLL7Zyapq3q/0VV2z/SevKXusdz3aiwo03b0OzmFJI92P5XMT/cwjvadBuyvZ9if/hXQ8Cwb+bOtnPHPpPig4dvj3XDY+sHi0O2b0ggzqM8V7d1X+HqvB1DX1/h6L/r+9d79xEP+nP4Z4yn3lj4Ee/+QZ7dhtpzmccPqO5holgq1YjQPUgUx4mqnzYEgyuYRXCOCCD1w86AnM+eH1DpjyX5CjHKvComHoOPVejMc8VYOZPVTxHoZ+LLUMPxanHTrOnh03X7ZwziQ16/4zrHfm+yDP3ynwwBB7q67fwFgQOzDycbGeu43LP5EjlcC9w5IQGJgV4fMQWOxJBJ+TWHogOC1jinPv1xGM4cTp8wnrpj4ce9PGlO0SyVjjlpgccZHxfFMUh5lUg63IGRGgboakU4wmnb/oqzrHK81ZkH6in5DvRpwMRhl7+kYXnC/z7BdBjIA1PtH2jdNDTpHg/McMpkL3Q7b+jv9dMpCzne9us9rZqGLj9dFX/CIH587Yh4LOqNEecmigOrUwxJ/2ys+4y2+iQbu8cb2jwNfct7pe3mlrbYSx9pj/fT846h4D8vcr1Ha3xSqJ3IjDeHj7fTqDPuWDia62sSfIl2+nhVR0XxdtPSJu51eFegipguBZ12SPkstlDkzhCqooEUJry8XcFOgDEPPybS/82EGcrQe6UfJa5chtjxZrP4xSCVE7eGSBmmTLZbMgo+dtvS1/oxdOlrXGUaKNN/XFzVwWE75oMy2T/dUDuf0fTPgm6eXujxekmL1Zou53/oYrWh590z3XUrWq7XtJpPab6+pxfNTHt6ulnSop3TdHZJ9+k595621wtaXB3wA7XnW1rMZjSbXdCE2/XPlGazOd2wHt0/0c1yQe18SrPL+/QYfb+9psVsSRt25PWeLv801CzvzI/hXunprqPlbEGrbk2L6ZzWm+fyjQ37Z9qs5zRrV7SaXdDi5inf391R64nNl3u6bOc0+zOjy/tnet6sablc03o5pT/zjh53O3q8uaTlak3rxZSmyxsanN8TQz1gZnOaz6b0Z3FDTy+PdL1c0Gq9psXFBbXWP81Cz3Q763/hTLf1YKhvFnFDlOM7xG+72coWDe0HdRyLaNW+WG2fElvdNtiUNPkLcxn/fl8NX7K1P/On5tcxoewDZTcu+19fWCsY/izt5HJCmrJ/8zVls2NgEifKhz8Do5CGfbL1sPzetBvLsHa9OuT2Cr4ewlVqIFvalK3lr36X/KzfoaTw73Fjh7Vkjvdb6qa8balWvjt6WM9ofr01/dzk08OXO1rNnT66mtHFfE33efDSHPGzioMioPgec8ppApOh67Evpb6hjGP+wjaHVIij+rI4Vs8LKVH2JcVJusc5yzaUNO2G/udsZ5RYfHNeq8vSvhjRVf1gKF5i6vxh6y31rOwKGt5+6cVq5VOqe7ieTgVF+Thfx6bcN2P7WNYVj7fGulQhmz/6HPwIbTE2nmZ/7HhXjiGBRZ9TiCG+bto9Qsh2NQ6Tx/FgiCXf5ntl7LMPBV9bJo+BXTe8fYIZCVvjZxrbj/Mrx91b9anLIBoVxTaLwCxrb29Xx8GR7FiotGS3wc+56vM0MdWNHWxaFzyfwmRg8kpwegFQ26vPTZXEx9JGPQlx6tIfbWiTr/Il+GruS92j706ZOmlnBsFnu4UkBL3Wf9yHXEteEV3S3e4x7B9vpnky0g4+mdO1Ls08lnvH+fH9lN/M8HxLs6ahhahUFrO66tvfSZ7LLo+erv+GR8Fp0trTwzr483w7o6ZZBBFMfJ0HjSXd8by539LVNAwiYY35hTbthJr5dV5Rerqmv82F2R+8p233lybrB5lg9883tFB7oVGpaf5SuVC8p8f1lK62bJ/Lm1CrQjvGc9NM6fIuVuBlQ4skksq6umfs4/KOdpFxY94u8bJZDDwmf6X7VUPNYmO+qHjW6zjXGLGDW7gW+q/eN3FaxXGYJMz9qk+HOFeRmH06vK9GYVFPTs5YUdqMvucOE/pozw77NNaX6v7NeSynbMMUl9IUk0fsT5quHDc8u17ZnC7/J/XWetVjB5/rvZzFfPEJFwsbaXIz7Vq3e7J13NiRzHgHPWF8oCCmV7pb/vX7KMUxThugKLfuH/55/YUpxU81qZdMyzguYzU4UadPrlUxk8pLdahjMeVMB704q+NE+0DxhNLWf6yP1D7wuYmf5En/oKx3KCfrB9UJxpaJ6bpefB6wWN9jmVWdQxtoem2f1vSXype6D4i9nL+oWVVWuBcYFVudKptefewcX7IqSoxFsPDvqOsiL/Gjo82mjVzqdlIbNS//3MZ+4FfpDTPWhPum3bQo/uR6tx11KUYq1imt70cK/RS36odmrO1F9jmjJkyfJxTFcRBXOLFRgiwqG6SEyr7VANTf/vU6eIbycrqig6nJ6rNvLyZwgtsLzDJ/Wc9gydbBu28ccsqs69dnx/nHyrD3TXm8qrK6o5co4P5eGREbxVl7m1QqhT2sKhZf6aFb0uaZKPxATq+HwOdV36WoVlPe4OGO7lho/r2mtGHh9YG65YaeKWxlaOa38S0QT3T9t6HG7PcVvxa3IgyfrqciaG1V9EtYGmTitoN5rNv2+g9NZle0jU9td3e8OqEiPDrN4nt2Tdt9nFxZwGp9lJ99dVv8onAog+fbltb3r3FllSd2NU4UvhTELwH5shxJ/FWTcpUkp0sDA8dDGDATkyL2vDi1MeTdj5NLLMPrK2WcZi+H+urBNqzvMtl4A2V/kB7vS54wretuuWid6jR8PVxT3uW4ke/bMaufRu2Hz4KPW+8yvXtm2fUEP+fw6kdER40driflRRXGD8+HrRBzbh4z+CkL+zwJT49SH41f1A/dElWyH2AwxKasCXcMs3JW2wpxkbpmylvGS7pctLMXZymlHJT14EtVHvat3dDGzpemjPE+UtenLH/4LOTrxbvqB85o/CjtVHUobjr+FPxVBJsfJcr9UuRmbn5ZwqXfaFVbq2OeDcdPTc6fVd2Lvm7T6bGkt3UI9nW86bW75nM+c935puOn5SnlVmOrvV/ZD/Fk/fTYVJni6ahf8j2q7W+5E3/qOSGXcVJRbFeP6qCxjVpWjp1zwIvP/eu9vDGg8yMWXsUL/9sOlxHETpEeyQw8fnYa1tZB7ZX+eA0c6iC+RF+9viT2nDJrNlKeHThCxrB6KYZHfFDHzWcQu5PikUgQYjOyLzfYdhNqJh2Vu37jI3wjUnVl1+hpU5pzGCesZl1alpRRXM5v41sW4rmd3Nh/OZc3RpSCWWxsr2RrxkTBa7pmQhfzFXW3j1ngaseqRbG6Hcu3sRX4lXt7Q+dv4+q2Zh77jKvgE9uBQ3vmLwWlDYmHpm6TMo2c2UGWj5mFxFsoq4ztsRgKMa39rPiMjEt70Z8Y/0X6N/qqa8MbK0y/CtzzGJDLqgZumXe8X+xH3rEeZf/metRs+mNUP02ov+2743Y9QR45Jpx2Aoh+M8/e+FDm0zGlz6auG+cz41dtRh4K8Y89Pzp2OAbtpfjl9SI+0bG33jx2+ijPTZNmQus39t/3YkfHCy/mxAGv7dWzuo/k+LNxUIsfzT3I3cT6UJxlG34M2X7FxzKW8ZgQ48bGZuFrMlz2kcwt1zElHTo4SEy9EdOSP/Tz1ExSltMmwiz7ZusvWar7fC0zqNvRjC1lwaGmji2/nYJdO4+kxZukTfI80PM5lJb+DW2Q05dfxDiZ17dTdrPNLdYv1W2IZxC2vXKlKPslMJfBR/14cuybLMG+x9zPJ/YTP5PvjYWj04ri1GFDAySuBSivMt41QSiP9a2dHKxKjvPmgNerUuQurRPEy6Ec+yigby8mdYLbC8wyvxd4ocxzFsXbqwk1zaV5i0FcuS3EWVh94S0Hxc9geiI1DmR21dc2incs2xv8leVanL/er+RLj9XP2+4Pye/zavEbywo2Svv75zvqlryXOnSci+4x1St0xGqlWMNCVpGrLwvCz8ZgZJBWt71Ke9e2dMUrXJeG8cstzZuG0peCKpvE3yGiWCb24CPnCX2K/czX8gA9EsdxgLX9Mrm128kXDK+vhIneckq5aNfrq86KjiR3xoo07siomyb3bJ2PdlQXIex6AjK2XaycpCkqWrNx/BmYgGx543btxFzWRM98xjHfwNadENvmKVoxztV145LM+KUFm8+jxg5jp3/4QveXM5pf3dLV3Gzr6ifsXQlPemwf5a1P/IV+6E0toY7D84LXxlysf/1txjFG45zVjwOtzgB3G+sDcaYWxEN+Q0kRv/KtXx61h/2n2h+5PBZVIQY0i43ZbLfsI+m6CtVen0op0oHYdcWL468gC+N0HqOiqcgjt53TJkWMO+NKdZ8t53YpeaQK8EEc68prniAc71fKQ7nXX5aG+rqWLfdTZo0xI5IHYlVjOPOzdWfrQzw/LorLNnTsS6XC9Xf5JaHd9uNd7PXHf2V3WlEcO1TTtuZxkRYdA6P13lv8NpiyretO4wWclll9Sqe1gVIHgEnvdBQvMHPn4byeL6FuIRC8+2+XWQdlGHDLOpRpvDKsD6Y8OYwrva3Zl6ort0ac7R/XaaXl9WFNra7cxoEwiVQnb11ifR72zOok9kybZUcP8Xc2YbDIK6Hh3AhWXvX9Eye7KIrT3mat37yhZhq3Zuzuab2Y0epOvzA90w3/WM3+UE/qNC1WyYPPeSU3r2n3V8rJCln+IWEX9i7Tbkubm1t61KJrEGmFK29ZCVtT5sS4n28X1CkYyRv9Gd1THApidu1mEye/+ppOjnx9PIbKuA+27L9eX/Ht2lzlsW/DGSvixCjjhNNvS6v5bLwveeNDzcbxx+UX8qlA6fOr7XplZ9/5yOcT03AM98RJv4xyRcm5/6YoPnLsKKtjzqIg1h/V7Z/o+mBh7PTR+GRIvtC/PtC61a1YhlW1klS2j9fGnNe77jDsxaSm4b5o+51BoHOpnfykSP5dh47/amdoQBmKoZCv29h95+Zash9jzJwHD716q+98b6hOMY3tr5ot3fL0QbzpxjTfi77LljPHt4p/r99U99mibX97HD0Z/nBsqX+eGAzXHJ9lDtJ2Hunrlb/iXJW/7OfG/Tpdz5bjm20/J/9gWd646PISJ0ycB3/LdnD84mSeP6a63uHRolgc6w22uagw0fiP8IbvDVTQGXRs+bq6FOzajmg7Sfat11gCsBbZMb3XWJLelNPLH8odDn4dZIwNLkd52mBL30JrNuFcJ1f2VpikgWvcB0NE3t7Ar/Wy2xHIWbkNZVzSwyv/0CyINLET0+prwfjPIr9vP3H2n4Vm+LPK27RqG0Thiu5FJOuP3OakWzM4fas/8KMnup42lFd998R7dSd/4psqePjkld7JjK701+0s4uWPdJhfu8c9wknoJ2BxP7MV0PERr+UX4pFF/is9dtP0yJb3Lssj61k1KUf7YRXc7M3WiZG3pvBkruI/+fNCm0VDdtuJ7R8pmR5ovGq88XXvmjd41eIo5rNzNpetsS8MbDnRh4P7qoq+GNfa110hYvuNMrNly/08wSgOtTXcl7S/5rzB/1xPtRHqrasRoQ9aUVrXO5y/ZTf2i1iPXP/svdjQenJ7mMaQODDnmqu8Hv1MIuYfjx3qVPE58KM62dN/yIqx00djrF4+vNLz7bz/1EXiw4zJ2icSv3oMVof9628zDnk1jmyMqNX02etj9djvtVfKLQfiixNDqfxUR431ej6sy8zjdfjZA9/PcVyIEvHfcI2u1bFfeGz7Muc3/mWuXG9jt2i/GNMpXzxPMe4IzCJ/8CaXlcfIZDLOuTrWDfqf5nCvnQJXHTf4x9vZXmRuuFpm/bGgb1/S69jADjp1FL/r64fEvuTRp411fPR5Zz4hreVYxEtO2Pf3EL8kf+1PbD/LwpZDB719QhvE7sfQjqIVNp2gKiDAtw1sEkSYufH1ngNLbjnXo42wH874odD0kQy/Dqp+XhqDOe2l49apOp56NBRE0llsGfyKm9TK/eAsJ81gPQ1IYodfgRceOfNdaz9wchhEgZLqYTrP+LfSVMNwsL2mP820eNPC6/0lTSYrSoup8na0G2ov5jRvF7TWNyyIhfBatumspdWSX4XEcaOrvlVZQ6f8o52LqdheXpf7eym+Ou1itqTVckHrzYO8So3P16sFLW+qVzS9PFDXXtBsuZbXpy27O3oyejfYW9Bi1dFVd0ntfEnXvaXbMLFO7YZq9n13R8vJxKwyE9HzDU0rfsSr0fz6ukXl3+6Rbq9WNB/Y7vB0fZFXtCOr3f2a5tM5LRZLutG3gCjHuCqff8w30j/d/hf7e4phqajsUS/7aUhXXCv6YvgivI19rjcoq8/8eWBf1b4T4lwnQac/RD9sFWw/4vz8ikJnOGBn4ptXdLwzY4r4rEzz41u2bTkU/VmciOOAvJpI7ar/CmLcro6lof61X+XkvuOnEPJWlFje0CRQtBn7xH6ob9Hv4k9qOu2uVTh67FBD+fPlbkWr2yf/tWvyikb76secLx3t7mlV91HO117QfN7SYn3nvqmliBduw2JecGJOChy4/iZj9XQgr97WT6ev6C1/rM935ajwxcRQtGv7jMabje1gLfjqzje7HfFrXPM9jaUYn/Xru9SfouDS59AWHf13MKZ3xH81LpepAi3a0TJ0fpVX6VV+2f4h6fN9tiI+WB8Lm+VYV3rvzeEH9KuinbmdmLlpr2KcKn3VMcy62/Nf7Ft72et3x35kkcor2LBv7Hvtowrzsq3C2PlJfqUqlWOrvPXDaKyULB68a6W4zoxzEOgR2L/Sa9pkHN8UEfcTv9xf0dXV2//f1kKvV8DXXJBXxB24LeFdHvIAEt+U8a58XmL58RC/Us/ePPc/62p9/anH3iT4U+uKen2IgAgJXwx8yB4ygQAIfIgARPGHsCGTSyDunU2PAONWirydwc31PS7KpPXOFe8DasaPbz+HD++dnNBf8wNBLn6r76k8wBckORUBiOJTkf0pdnsreT+lYqgHCHwzAhDF36zBztpd+WHbH1rKdooXum0bmtgf7J218+POyTuPzY8Nx3OMpHi+ofln8Xm+pfnfjnRr9EjJuP1PCUAU/1Pc360weZTtPF7+bvWAvyDwAwhAFP+ARjyfKrzQ/XpOc/6z0O2clt0DPaetFOfj5cc94V/BTz9pZffjXvRy8h82mJm/NNhLgAsgAAIgAAIgAAJjBCCKxwjhPggUBHb09PhU/HGP4vYXnOxftrR9tr8e/AInUCQIgAAIgAAIfHMCEMXfvAHhPgiAAAiAAAiAAAiAwPEEIIqPZwgLIAACIAACIAACIAAC35wARPE3b0C4DwIgAAIgAAIgAAIgcDwBiOLjGcICCIAACIAACIAACIDANycAUfzNGxDugwAIgAAIgAAIgAAIHE8Aovh4hrAAAiAAAiAAAiAAAiDwzQlAFH/zBoT7IAACIAACIAACIAACxxOAKD6eISyAAAiAAAiAAAiAAAh8cwJfJIp3tOk2B/4BhC11TUPtZncY6m1H3dYmPdc/serUa8D3pqyQrdyHj3eblpqmowLViLXdpqNDm2HEFG6DAAiAAAiAAAiAwFkR+BpRvNtQ2x4oijlt09ChwnDbNd9DFDv16vsehHNzKKt3hBaX1TTtO0Quf7l4T/p3OIOkIAACIAACIAACIPDFBL5GFG87OoXQIwqrwuXC6rmuFNct7/lep/nKcxboEMVf2QIoGwRAAARAAARA4HQETiiK4yonr/Kald6wQhmvyb34CF+FMn/KdRVgwU4hdFOaYEe2VujKq5aXtlxYURyO+4I8lNHboqE+FbbrLQdVPastCWGbgtZX68QNaupV2Dd1iiI/+BV9L0BkO8n3ik0veYwl8SutQKsgj2VEhkM2uX2y3TJPj23lT2hbk7+6n+0SiY/dNnzaWKl4JT9P109gGQRAAARAAARA4IcTOJkoFvFrFI7dGlAKskhYxZHJE+4Y8cgXYrqcjEWZis0qrRgIoi0JJ8mv6W3ZtdjNZWWhFwVgEpNREGdnKIj+aEvEmymLz6u8Oesn+F7XLYrHXEasL0XBmXxRYWt8dW2Z+4at3doi9Ve7Xv3tarNbRhbM+oUitZ0pM1+z7Z/rhyMQAAEQAAEQAAEQeA+BE4niSohWHg2LYkeY2hVV0alv7S8+QFgWq6/BMRZyWWQZZ0W0VT4ZIRdEW3Xf+uvlT+ZrX+tzTlhzrM/5O4L63r8nFvgHdY4qLtvAy1v5UwtcNu7Wj/NF8cz3VSBLvUM5wR2vzLw6nHwv8kuh8sNLp0pSAv4BARAAARAAARAAgY8QOJEoVsEUtgLUAqYUZNFtV2DxPSvOwrErYMWMTas4+uKrELOe2NOsnk9m9bVYFdU8UcgGIRrKli0Do+LuHb6rrcL3kF+3JxSfdQMMrBSXXCvWRVmhsoGjbg2xn1EU13mK83F/3ThR34stNgk+DkAABEAABEAABEDgQwROJ4rVHRFCLJjyiqordjwBKjasWKyEmpaRPm1avdgXxRR9Yq3o+qJZPZ9M3nFRrIbCii4L1Sw8a1/rc8475HsQnaXvIa2jf4l2u97r77y82Tcuu2JdCNpYL+ajAj1XVfzexTfoSTm9fd65bm/5W/pYFBBOpH2aAR+c9LgEAiAAAiAAAiAAAgMETi+KpeBSsLlixxOgkrcUiyJEXSXFicu0oc6OsJSFbN6GsaFNm/ewhvTmX88nuWZEqRH7IafnQ7TJeZOIrNPV55xn2Pd2s+35/jYbUy9dbU2+eOUEf5JQ9kSxd80WI/fzlyF7i4/H/HXjpDYibR5Xpnv3cAEEQAAEQAAEQAAEDiNwIlHMIssIlUo8hdXDIJZ2uqToCVCpQyUWJZ0VsnxfhZcVcjteIB0UlvqDPbuC3UPmlmX3NIfy7J5dEXrqD+c3Ar4UgVW9ipXZD/re89fuOS5rVwrOQ0Vx5J5WnkO+LPRFbVOr9detJGalmFfLE5IRf0sf1X/b3qKs81MIsWfiTrPgEwRAAARAAARAAARGCJxMFPNfP7P7WpMQEoeimLT7QkXQqLi1XtfiUYVQ3sPabVVExu0QKsKkUE/wsf2h66bs6FMnf+gilldWhJ2RH37luuY67HZhNTfdSyuzXEa/XuHLgi1nyMdYZs8XFaWZDQvWrX7xMFUrBadXTigjrRQL9mx36HoQvaE9pIzKx1DHzEi3slhG6m/pY3R+t6Ot/DU+9SWL4GDbiG5TXxyCAAiAAAiAAAiAwFsETiSK3yryXO6x6MuCyvVqUKi7qXGxIBCEdqWJ+VsLtWPcCzs4AQEQAAEQAAEQAIHTE/i1othdhax5QxTXRN51XmwlkZxBKNstJe8yiMQgAAIgAAIgAAIgcCICv1MUy2rlAY/ZIYqPDrsgjHWrg337xtGmYQAEQAAEQAAEQAAEPo3A7xTFn4YPhkAABEAABEAABEAABH4CAYjin9CKqAMIgAAIgAAIgAAIgMBRBCCKj8KHzCAAAiAAAiAAAiAAAj+BAETxT2hF1AEEQAAEQAAEQAAEQOAoAhDFR+FDZhAAARAAARAAARAAgZ9AAKL4J7Qi6gACIAACIAACIAACIHAUAYjio/AhMwiAAAiAAAiAAAiAwE8gAFH8E1oRdQABEAABEAABEAABEDiKAETxUfiQGQRAAARAAARAAARA4CcQ+D+TE6ZugWIxBQAAAABJRU5ErkJggg==)"
      ]
    },
    {
      "cell_type": "code",
      "metadata": {
        "colab": {
          "base_uri": "https://localhost:8080/"
        },
        "id": "Qh3ld0VDXrUR",
        "outputId": "4fe4335a-b683-421a-8412-ba961655ae56"
      },
      "source": [
        "clear(a)"
      ],
      "execution_count": 279,
      "outputs": [
        {
          "output_type": "stream",
          "text": [
            "\u001b[H\u001b[2J"
          ],
          "name": "stdout"
        }
      ]
    },
    {
      "cell_type": "code",
      "metadata": {
        "id": "aASpJXNGWy4N"
      },
      "source": [
        "def my_twos(m,n):\n",
        "    a = np.ones((m, n))\n",
        "    b = a * 2\n",
        "    return b"
      ],
      "execution_count": 291,
      "outputs": []
    },
    {
      "cell_type": "code",
      "metadata": {
        "colab": {
          "base_uri": "https://localhost:8080/"
        },
        "id": "BWFtDIa3XjoT",
        "outputId": "1711b354-c0fc-4302-9874-148f70510349"
      },
      "source": [
        "my_twos(3,4)"
      ],
      "execution_count": 292,
      "outputs": [
        {
          "output_type": "execute_result",
          "data": {
            "text/plain": [
              "array([[2., 2., 2., 2.],\n",
              "       [2., 2., 2., 2.],\n",
              "       [2., 2., 2., 2.]])"
            ]
          },
          "metadata": {
            "tags": []
          },
          "execution_count": 292
        }
      ]
    },
    {
      "cell_type": "markdown",
      "metadata": {
        "id": "Aq2vK2eXYKnP"
      },
      "source": [
        "## Problem 8"
      ]
    },
    {
      "cell_type": "markdown",
      "metadata": {
        "id": "YcWkIs_MYTdm"
      },
      "source": [
        "![image.png](data:image/png;base64,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)"
      ]
    },
    {
      "cell_type": "code",
      "metadata": {
        "id": "Mwjdli0ZXoUp"
      },
      "source": [
        ""
      ],
      "execution_count": null,
      "outputs": []
    }
  ]
}