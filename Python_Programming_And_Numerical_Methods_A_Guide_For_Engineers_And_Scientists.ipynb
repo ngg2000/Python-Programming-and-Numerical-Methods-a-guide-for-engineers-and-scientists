{
  "nbformat": 4,
  "nbformat_minor": 0,
  "metadata": {
    "colab": {
      "name": "Python Programming And Numerical Methods: A Guide For Engineers And Scientists.ipynb",
      "provenance": [],
      "collapsed_sections": [],
      "toc_visible": true,
      "include_colab_link": true
    },
    "kernelspec": {
      "name": "python3",
      "display_name": "Python 3"
    },
    "language_info": {
      "name": "python"
    }
  },
  "cells": [
    {
      "cell_type": "markdown",
      "metadata": {
        "id": "view-in-github",
        "colab_type": "text"
      },
      "source": [
        "<a href=\"https://colab.research.google.com/github/ngg2000/Vanadium-Redox-Battery/blob/main/Python_Programming_And_Numerical_Methods_A_Guide_For_Engineers_And_Scientists.ipynb\" target=\"_parent\"><img src=\"https://colab.research.google.com/assets/colab-badge.svg\" alt=\"Open In Colab\"/></a>"
      ]
    },
    {
      "cell_type": "markdown",
      "metadata": {
        "id": "hR9WEXMqhINa"
      },
      "source": [
        "#<h1>Chapter 1: Python basics</h1>\n",
        "\n"
      ]
    },
    {
      "cell_type": "markdown",
      "metadata": {
        "id": "fVJMnq6th5ry"
      },
      "source": [
        "### Problem 1. \n",
        "\n",
        "Print “I love Python” using Python Shell."
      ]
    },
    {
      "cell_type": "code",
      "metadata": {
        "colab": {
          "base_uri": "https://localhost:8080/"
        },
        "id": "Fgc9fiqhDmwq",
        "outputId": "9c2ed1e8-8e23-41ed-c18b-0e941ef5d07e"
      },
      "source": [
        "print('I love Python')"
      ],
      "execution_count": null,
      "outputs": [
        {
          "output_type": "stream",
          "text": [
            "I love Python\n"
          ],
          "name": "stdout"
        }
      ]
    },
    {
      "cell_type": "markdown",
      "metadata": {
        "id": "i55_ZwWDiE8F"
      },
      "source": [
        "### Problem 2. "
      ]
    },
    {
      "cell_type": "markdown",
      "metadata": {
        "id": "N50pstqIEAq4"
      },
      "source": [
        "Print “I love Python” by typing it into a .py file and run it from command line."
      ]
    },
    {
      "cell_type": "code",
      "metadata": {
        "colab": {
          "base_uri": "https://localhost:8080/"
        },
        "id": "D_g-5HBRECa_",
        "outputId": "308986da-93e1-4d13-943d-e31a2ccfced6"
      },
      "source": [
        "print('I love Python')"
      ],
      "execution_count": null,
      "outputs": [
        {
          "output_type": "stream",
          "text": [
            "I love Python\n"
          ],
          "name": "stdout"
        }
      ]
    },
    {
      "cell_type": "markdown",
      "metadata": {
        "id": "NMdJxBZqEd2r"
      },
      "source": [
        "### Problem 3"
      ]
    },
    {
      "cell_type": "markdown",
      "metadata": {
        "id": "4dirtXgLEvEL"
      },
      "source": [
        "Type import antigravity in the Ipython Shell, it will take you to xkcd and see the awesome Python."
      ]
    },
    {
      "cell_type": "code",
      "metadata": {
        "id": "22MmbNhmEvpP"
      },
      "source": [
        "import antigravity"
      ],
      "execution_count": null,
      "outputs": []
    },
    {
      "cell_type": "markdown",
      "metadata": {
        "id": "ymJAj9owE9Sk"
      },
      "source": [
        "### Problem  4"
      ]
    },
    {
      "cell_type": "markdown",
      "metadata": {
        "id": "vMQZMKptFAKT"
      },
      "source": [
        "Launch a new Jupyter notebook server in a folder called “excercis” and create a new Python notebook with the name “excercis_1”, then you can do the rest of the problems within this notebook."
      ]
    },
    {
      "cell_type": "markdown",
      "metadata": {
        "id": "SU-N96xgFHIb"
      },
      "source": [
        "* Unable to do it: i'm working in Colab."
      ]
    },
    {
      "cell_type": "markdown",
      "metadata": {
        "id": "IBXaoqxyFUir"
      },
      "source": [
        "### Problem 5"
      ]
    },
    {
      "cell_type": "markdown",
      "metadata": {
        "id": "dIBOKLnCFbh2"
      },
      "source": [
        "Compute the area of a triangle with base 10 and height 12. Recall that the area of a triangle is half the base times the height"
      ]
    },
    {
      "cell_type": "code",
      "metadata": {
        "colab": {
          "base_uri": "https://localhost:8080/"
        },
        "id": "GHRGkrdSFciV",
        "outputId": "f31c116b-4243-4906-f18a-b13f677d498a"
      },
      "source": [
        "b = 10;\n",
        "h = 12;\n",
        "a = 0.5*b*h;\n",
        "print('The area of a triangle is' , str(a) , )"
      ],
      "execution_count": null,
      "outputs": [
        {
          "output_type": "stream",
          "text": [
            "The area of a triangle is 60.0\n"
          ],
          "name": "stdout"
        }
      ]
    },
    {
      "cell_type": "markdown",
      "metadata": {
        "id": "YvUoNTWFFyUS"
      },
      "source": [
        "### Problem 6"
      ]
    },
    {
      "cell_type": "markdown",
      "metadata": {
        "id": "7ghG4m9SF-4z"
      },
      "source": [
        "Compute the surface area and volume of a cylinder with radius 5 and height 3"
      ]
    },
    {
      "cell_type": "code",
      "metadata": {
        "id": "GGetWbVVGJek"
      },
      "source": [
        "r = 5;\n",
        "h = 3;\n",
        "import math"
      ],
      "execution_count": null,
      "outputs": []
    },
    {
      "cell_type": "markdown",
      "metadata": {
        "id": "8ZoWhVPZGFsV"
      },
      "source": [
        "* Area of a cylinder"
      ]
    },
    {
      "cell_type": "code",
      "metadata": {
        "colab": {
          "base_uri": "https://localhost:8080/"
        },
        "id": "ulv495EFGrLy",
        "outputId": "95267938-db58-4032-dbad-16a2170812b3"
      },
      "source": [
        "a = 2 * math.pi * r**2 + 2 * math.pi * r * h\n",
        "print('The surface area of a cylinder is' , str(a), )"
      ],
      "execution_count": null,
      "outputs": [
        {
          "output_type": "stream",
          "text": [
            "The surface area of a cylinder is 251.32741228718345\n"
          ],
          "name": "stdout"
        }
      ]
    },
    {
      "cell_type": "markdown",
      "metadata": {
        "id": "ga3-uvIsGSLy"
      },
      "source": [
        "* Volume of a cylinder"
      ]
    },
    {
      "cell_type": "code",
      "metadata": {
        "colab": {
          "base_uri": "https://localhost:8080/"
        },
        "id": "JCAcJBiqFuKt",
        "outputId": "ef878610-a178-402f-e3a0-4fc7eb990dc5"
      },
      "source": [
        "v = math.pi  * r**2 * h\n",
        "print('The volume of a cylinder is' , str(v) , )"
      ],
      "execution_count": null,
      "outputs": [
        {
          "output_type": "stream",
          "text": [
            "The volume of a cylinder is 235.61944901923448\n"
          ],
          "name": "stdout"
        }
      ]
    },
    {
      "cell_type": "markdown",
      "metadata": {
        "id": "0X4PCfT9HQ6C"
      },
      "source": [
        "### Problem 7"
      ]
    },
    {
      "cell_type": "markdown",
      "metadata": {
        "id": "agaM4-xHHSwV"
      },
      "source": [
        "Compute the slope between the points (3,4) and (5,9). Recall that the slope between points $(x_1,y_1)$ and $(x_2,y_2)$ is $\\frac{y_2−y_1}{x_2−x_1}$"
      ]
    },
    {
      "cell_type": "code",
      "metadata": {
        "colab": {
          "base_uri": "https://localhost:8080/"
        },
        "id": "Uamv37WMGeGv",
        "outputId": "d53ca398-fbad-4e6a-c434-6062d413065d"
      },
      "source": [
        "x1 = 3\n",
        "x2 = 5\n",
        "y1 = 4\n",
        "y2 = 9\n",
        "m = 1 / ((x2 - x1) / (y2 - y1))\n",
        "print('The slope between the points (3,4) and (5,9) is' , str(m) , )"
      ],
      "execution_count": null,
      "outputs": [
        {
          "output_type": "stream",
          "text": [
            "The slope between the points (3,4) and (5,9) is 2.5\n"
          ],
          "name": "stdout"
        }
      ]
    },
    {
      "cell_type": "markdown",
      "metadata": {
        "id": "ESh9kDc2IPNm"
      },
      "source": [
        "### Problem 8"
      ]
    },
    {
      "cell_type": "markdown",
      "metadata": {
        "id": "v7vrpI6PITyv"
      },
      "source": [
        "Compute the distance between the points (3,4) and (5,9). Recall that the distance between points in two dimensions is $\\sqrt{(x_2−x_1)^2+(y_2−y_1)^2}$."
      ]
    },
    {
      "cell_type": "code",
      "metadata": {
        "colab": {
          "base_uri": "https://localhost:8080/"
        },
        "id": "LHLiF-PHH85s",
        "outputId": "063f688e-42c0-4b06-a800-0a1eb7a2cd73"
      },
      "source": [
        "d = math.sqrt((x2 - x1)**2 + (y2 - y1)**2)\n",
        "print('The distance between the points (3,4) and (5,9) is' , str(d) , )"
      ],
      "execution_count": null,
      "outputs": [
        {
          "output_type": "stream",
          "text": [
            "The distance between the points (3,4) and (5,9) is 5.385164807134504\n"
          ],
          "name": "stdout"
        }
      ]
    },
    {
      "cell_type": "markdown",
      "metadata": {
        "id": "GpZ3ThN4I-eM"
      },
      "source": [
        "### Problem 9"
      ]
    },
    {
      "cell_type": "markdown",
      "metadata": {
        "id": "wn7YrksKJCmY"
      },
      "source": [
        "Use Python’s factorial function to compute $6!$"
      ]
    },
    {
      "cell_type": "code",
      "metadata": {
        "colab": {
          "base_uri": "https://localhost:8080/"
        },
        "id": "NzJCU31-Izg7",
        "outputId": "32f3ab59-9811-4ef5-a46b-abd43a143a31"
      },
      "source": [
        "fac = math.factorial(6)\n",
        "print('6! = ' , str(fac) , )"
      ],
      "execution_count": null,
      "outputs": [
        {
          "output_type": "stream",
          "text": [
            "6! =  720\n"
          ],
          "name": "stdout"
        }
      ]
    },
    {
      "cell_type": "markdown",
      "metadata": {
        "id": "YsQiJ2J-Jfcd"
      },
      "source": [
        "### Problem 10"
      ]
    },
    {
      "cell_type": "markdown",
      "metadata": {
        "id": "kk9J9zbgJsO7"
      },
      "source": [
        "A year is considered to be 365 days long. However, a more exact figure is 365.24 days. As a consequence, if we held to the standard 365-day year, we would gradually lose that fraction of the day over time, and seasons and other astronomical events would not occur as expected. A leap year is a year that has an extra day, February 29, to keep the timescale on track. Leap years occur on years that are exactly divisible by 4, unless it is exactly divisible by 100, unless it is divisible by 400. For example, the year 2004 is a leap year, the year 1900 is not a leap year, and the year 2000 is a leap year.\n",
        "Compute the number of leap years between the years 1500 and 2010."
      ]
    },
    {
      "cell_type": "markdown",
      "metadata": {
        "id": "bRKyzGOzLbu5"
      },
      "source": [
        "1. Let's start by defining the years between 1500 and 2010:"
      ]
    },
    {
      "cell_type": "code",
      "metadata": {
        "colab": {
          "base_uri": "https://localhost:8080/"
        },
        "id": "qN46J82mJgEY",
        "outputId": "7d0f81b6-bc80-4a6c-e658-bff4b73ba077"
      },
      "source": [
        "2010-1500"
      ],
      "execution_count": null,
      "outputs": [
        {
          "output_type": "execute_result",
          "data": {
            "text/plain": [
              "510"
            ]
          },
          "metadata": {
            "tags": []
          },
          "execution_count": 57
        }
      ]
    },
    {
      "cell_type": "markdown",
      "metadata": {
        "id": "V6au0m2RLt9d"
      },
      "source": [
        "2. Then, the number of leap years is the entire part of $\\frac{510}{4}$ "
      ]
    },
    {
      "cell_type": "code",
      "metadata": {
        "colab": {
          "base_uri": "https://localhost:8080/"
        },
        "id": "59nFxh9BLs9C",
        "outputId": "899bfc87-120c-4a75-e5df-a807ba42d64e"
      },
      "source": [
        "510/4"
      ],
      "execution_count": null,
      "outputs": [
        {
          "output_type": "execute_result",
          "data": {
            "text/plain": [
              "127.5"
            ]
          },
          "metadata": {
            "tags": []
          },
          "execution_count": 58
        }
      ]
    },
    {
      "cell_type": "markdown",
      "metadata": {
        "id": "Bq7cIOrGMCeO"
      },
      "source": [
        "3. Answer: the number of leap years between 1500 and 2010 is 127 years."
      ]
    },
    {
      "cell_type": "markdown",
      "metadata": {
        "id": "rICTJqtDMNqr"
      },
      "source": [
        "### Problem 11"
      ]
    },
    {
      "cell_type": "markdown",
      "metadata": {
        "id": "7COnbOPLMTxd"
      },
      "source": [
        "A very powerful approximation for π was developed by a brilliant mathematician named Srinivasa Ramanujan. The approximation is the following:\n",
        "$\\frac{1}{π}≈\\frac{2\\sqrt{2}}{9801} ∑^N_{k=0}\\frac{(4k)!(1103+26390k)}{(k!)^4 396^{4k}}$\n",
        "Use Ramanujan’s formula for $N=0$ and $N=1$ to approximate π. Be sure to use format long. Compare your approximation with Python’s stored value for pi. Hint: $0!=1$ by definition."
      ]
    },
    {
      "cell_type": "markdown",
      "metadata": {
        "id": "Hxy1cHPmNgmE"
      },
      "source": [
        "* Ramanujan's formula:"
      ]
    },
    {
      "cell_type": "code",
      "metadata": {
        "colab": {
          "base_uri": "https://localhost:8080/"
        },
        "id": "_4DnCEeKL9-n",
        "outputId": "f51a086c-1785-4f93-b579-63d30d271534"
      },
      "source": [
        "piinv=0\n",
        "for i in range(0,2):\n",
        "  piinv=piinv+(math.factorial(4*i)*(1103+26390*i)/(((math.factorial(i))**4)*math.pow(396,4*i)))\n",
        "\n",
        "1/(2*(math.sqrt(2)/9801)*piinv)"
      ],
      "execution_count": null,
      "outputs": [
        {
          "output_type": "execute_result",
          "data": {
            "text/plain": [
              "3.1415926535897936"
            ]
          },
          "metadata": {
            "tags": []
          },
          "execution_count": 59
        }
      ]
    },
    {
      "cell_type": "markdown",
      "metadata": {
        "id": "KSaFfpioNWv5"
      },
      "source": [
        "* Comparing my aproximation with Python's stored value for pi:"
      ]
    },
    {
      "cell_type": "code",
      "metadata": {
        "colab": {
          "base_uri": "https://localhost:8080/"
        },
        "id": "SfPzWKenNGMc",
        "outputId": "8426cdca-e03b-4d75-ffa9-50ff47c8846f"
      },
      "source": [
        "math.pi - 1/(2*(math.sqrt(2)/9801)*piinv)"
      ],
      "execution_count": null,
      "outputs": [
        {
          "output_type": "execute_result",
          "data": {
            "text/plain": [
              "-4.440892098500626e-16"
            ]
          },
          "metadata": {
            "tags": []
          },
          "execution_count": 60
        }
      ]
    },
    {
      "cell_type": "markdown",
      "metadata": {
        "id": "_y_LhxcsNmoz"
      },
      "source": [
        "### Problem 12"
      ]
    },
    {
      "cell_type": "markdown",
      "metadata": {
        "id": "mr3x-GLJNvxb"
      },
      "source": [
        "The hyperbolic sin or sinh is defined in terms of exponentials as $sinh(x)=\\frac{exp(x)−exp(−x)}{2}$.\n",
        "Compute sinh for $x=2$ using exponentials. Verify that the result is indeed the hyperbolic sin using Python’s function sinh in the math module."
      ]
    },
    {
      "cell_type": "markdown",
      "metadata": {
        "id": "A4QwBccrPrwu"
      },
      "source": [
        "* Computing $sinh(x)|_{x=2}$ :"
      ]
    },
    {
      "cell_type": "code",
      "metadata": {
        "colab": {
          "base_uri": "https://localhost:8080/"
        },
        "id": "B-5BHFg2NUyC",
        "outputId": "3efa5b53-6406-4419-e677-a53e54e64263"
      },
      "source": [
        "sinh2 = 0.5 * (math.exp(2) - math.exp(-2))\n",
        "sinh2"
      ],
      "execution_count": null,
      "outputs": [
        {
          "output_type": "execute_result",
          "data": {
            "text/plain": [
              "3.626860407847019"
            ]
          },
          "metadata": {
            "tags": []
          },
          "execution_count": 61
        }
      ]
    },
    {
      "cell_type": "markdown",
      "metadata": {
        "id": "zJ6WXTOTPje-"
      },
      "source": [
        "- Verification"
      ]
    },
    {
      "cell_type": "code",
      "metadata": {
        "colab": {
          "base_uri": "https://localhost:8080/"
        },
        "id": "RlJJRK8XPft_",
        "outputId": "ce5a9ee6-e855-45e0-d2fc-67de2e31aa4c"
      },
      "source": [
        "sinh2 - math.sinh(2)"
      ],
      "execution_count": null,
      "outputs": [
        {
          "output_type": "execute_result",
          "data": {
            "text/plain": [
              "0.0"
            ]
          },
          "metadata": {
            "tags": []
          },
          "execution_count": 62
        }
      ]
    },
    {
      "cell_type": "markdown",
      "metadata": {
        "id": "c3BS1mKsP9er"
      },
      "source": [
        "### Problem 13"
      ]
    },
    {
      "cell_type": "markdown",
      "metadata": {
        "id": "ywLW_RzgQLl7"
      },
      "source": [
        "Verify that $sin^2(x) + cos^2(x)=1$ for $x=π,\\frac{π}{2},\\frac{π}{4},\\frac{π}{6}$."
      ]
    },
    {
      "cell_type": "markdown",
      "metadata": {
        "id": "HKFqOeYAQwLd"
      },
      "source": [
        "$x = \\pi$"
      ]
    },
    {
      "cell_type": "code",
      "metadata": {
        "colab": {
          "base_uri": "https://localhost:8080/"
        },
        "id": "MgGUzQR6PiQf",
        "outputId": "b19907dc-7337-42a5-c971-62850899d9a1"
      },
      "source": [
        "math.sin(math.pi)**2 + math.cos(math.pi)**2"
      ],
      "execution_count": null,
      "outputs": [
        {
          "output_type": "execute_result",
          "data": {
            "text/plain": [
              "1.0"
            ]
          },
          "metadata": {
            "tags": []
          },
          "execution_count": 63
        }
      ]
    },
    {
      "cell_type": "markdown",
      "metadata": {
        "id": "4OIOjRZIQzAi"
      },
      "source": [
        "$x = \\frac{\\pi}{2}$"
      ]
    },
    {
      "cell_type": "code",
      "metadata": {
        "colab": {
          "base_uri": "https://localhost:8080/"
        },
        "id": "ZFshve_DQogA",
        "outputId": "b800049d-e5b1-4f30-97d9-8522898b9284"
      },
      "source": [
        "math.sin(1/2*math.pi)**2 + math.cos(1/2*math.pi)**2"
      ],
      "execution_count": null,
      "outputs": [
        {
          "output_type": "execute_result",
          "data": {
            "text/plain": [
              "1.0"
            ]
          },
          "metadata": {
            "tags": []
          },
          "execution_count": 64
        }
      ]
    },
    {
      "cell_type": "markdown",
      "metadata": {
        "id": "eSUIdsMXQ8CQ"
      },
      "source": [
        "$x = \\frac{\\pi}{4}$"
      ]
    },
    {
      "cell_type": "code",
      "metadata": {
        "colab": {
          "base_uri": "https://localhost:8080/"
        },
        "id": "BAhEBO-WQu85",
        "outputId": "a94fc9b7-5464-45b6-ba12-84cc39e9c036"
      },
      "source": [
        "math.sin(1/4*math.pi)**2 + math.cos(1/4*math.pi)**2"
      ],
      "execution_count": null,
      "outputs": [
        {
          "output_type": "execute_result",
          "data": {
            "text/plain": [
              "1.0"
            ]
          },
          "metadata": {
            "tags": []
          },
          "execution_count": 65
        }
      ]
    },
    {
      "cell_type": "markdown",
      "metadata": {
        "id": "ksGXAAc8RAk1"
      },
      "source": [
        "$x = \\frac{\\pi}{6}$"
      ]
    },
    {
      "cell_type": "code",
      "metadata": {
        "colab": {
          "base_uri": "https://localhost:8080/"
        },
        "id": "Z-lkENp1Q7QU",
        "outputId": "d50317ab-cd50-4b9a-a01a-3b34d60f15ab"
      },
      "source": [
        "math.sin(1/6*math.pi)**2 + math.cos(1/6*math.pi)**2"
      ],
      "execution_count": null,
      "outputs": [
        {
          "output_type": "execute_result",
          "data": {
            "text/plain": [
              "1.0"
            ]
          },
          "metadata": {
            "tags": []
          },
          "execution_count": 66
        }
      ]
    },
    {
      "cell_type": "markdown",
      "metadata": {
        "id": "NeBFHXyARLA3"
      },
      "source": [
        "### Problem 14"
      ]
    },
    {
      "cell_type": "markdown",
      "metadata": {
        "id": "2d3cOhxrRSPy"
      },
      "source": [
        "Compute the $sin \\ 87°$."
      ]
    },
    {
      "cell_type": "code",
      "metadata": {
        "colab": {
          "base_uri": "https://localhost:8080/"
        },
        "id": "KXIJoETdRE8L",
        "outputId": "be66a316-93a1-47ae-fc5e-c8bebe62e9f8"
      },
      "source": [
        "s87 = math.sin(math.radians(87))\n",
        "print('The sin of 87º is ' , str(s87) , )"
      ],
      "execution_count": null,
      "outputs": [
        {
          "output_type": "stream",
          "text": [
            "The sin of 87º is  0.9986295347545738\n"
          ],
          "name": "stdout"
        }
      ]
    },
    {
      "cell_type": "markdown",
      "metadata": {
        "id": "VgOKLrK1RyWE"
      },
      "source": [
        "### Problem 15"
      ]
    },
    {
      "cell_type": "markdown",
      "metadata": {
        "id": "Izyuj4oOR7GE"
      },
      "source": [
        "Write a Python statement that generates the following error:\n",
        "“AttributeError: module ‘math’ has no attribute ‘sni’”\n",
        "\n",
        "Hint: sni is a misspelling of the function sin."
      ]
    },
    {
      "cell_type": "code",
      "metadata": {
        "colab": {
          "base_uri": "https://localhost:8080/",
          "height": 163
        },
        "id": "DARlXfmQRtnH",
        "outputId": "1d6f6cd5-7fef-4625-d928-e9fd7e3a07ec"
      },
      "source": [
        "math.sni(math.pi * 1/2)"
      ],
      "execution_count": null,
      "outputs": [
        {
          "output_type": "error",
          "ename": "AttributeError",
          "evalue": "ignored",
          "traceback": [
            "\u001b[0;31m---------------------------------------------------------------------------\u001b[0m",
            "\u001b[0;31mAttributeError\u001b[0m                            Traceback (most recent call last)",
            "\u001b[0;32m<ipython-input-69-7635e51f6a4f>\u001b[0m in \u001b[0;36m<module>\u001b[0;34m()\u001b[0m\n\u001b[0;32m----> 1\u001b[0;31m \u001b[0mmath\u001b[0m\u001b[0;34m.\u001b[0m\u001b[0msni\u001b[0m\u001b[0;34m(\u001b[0m\u001b[0mmath\u001b[0m\u001b[0;34m.\u001b[0m\u001b[0mpi\u001b[0m \u001b[0;34m*\u001b[0m \u001b[0;36m1\u001b[0m\u001b[0;34m/\u001b[0m\u001b[0;36m2\u001b[0m\u001b[0;34m)\u001b[0m\u001b[0;34m\u001b[0m\u001b[0;34m\u001b[0m\u001b[0m\n\u001b[0m",
            "\u001b[0;31mAttributeError\u001b[0m: module 'math' has no attribute 'sni'"
          ]
        }
      ]
    },
    {
      "cell_type": "markdown",
      "metadata": {
        "id": "KHSGH3h-SE-G"
      },
      "source": [
        "### Problem 16"
      ]
    },
    {
      "cell_type": "markdown",
      "metadata": {
        "id": "t7fZoc1ASHQI"
      },
      "source": [
        "Write a Python statement that generates the following error:\n",
        "“TypeError: sin() takes exactly one argument (0 given)”\n",
        "\n",
        "Hint: Input arguments refers to the input of a function (any function); for example, the input in sin(pi/2) is pi/2."
      ]
    },
    {
      "cell_type": "code",
      "metadata": {
        "colab": {
          "base_uri": "https://localhost:8080/",
          "height": 163
        },
        "id": "8G9fHmTuSCv7",
        "outputId": "bffb4c31-1f85-46ac-ba04-5d092bf2b9fc"
      },
      "source": [
        "math.sin()"
      ],
      "execution_count": null,
      "outputs": [
        {
          "output_type": "error",
          "ename": "TypeError",
          "evalue": "ignored",
          "traceback": [
            "\u001b[0;31m---------------------------------------------------------------------------\u001b[0m",
            "\u001b[0;31mTypeError\u001b[0m                                 Traceback (most recent call last)",
            "\u001b[0;32m<ipython-input-71-7e1567d2e0b3>\u001b[0m in \u001b[0;36m<module>\u001b[0;34m()\u001b[0m\n\u001b[0;32m----> 1\u001b[0;31m \u001b[0mmath\u001b[0m\u001b[0;34m.\u001b[0m\u001b[0msin\u001b[0m\u001b[0;34m(\u001b[0m\u001b[0;34m)\u001b[0m\u001b[0;34m\u001b[0m\u001b[0;34m\u001b[0m\u001b[0m\n\u001b[0m",
            "\u001b[0;31mTypeError\u001b[0m: sin() takes exactly one argument (0 given)"
          ]
        }
      ]
    },
    {
      "cell_type": "markdown",
      "metadata": {
        "id": "MPp-DBlPSSu2"
      },
      "source": [
        "### Problem 17"
      ]
    },
    {
      "cell_type": "markdown",
      "metadata": {
        "id": "ylHKnPdzSV74"
      },
      "source": [
        "If $P$ is a logical expression, the law of noncontradiction states that $P \\ AND \\ (NOT \\ P)$ is always false. Verify this for $P$ true and $P$ false."
      ]
    },
    {
      "cell_type": "code",
      "metadata": {
        "colab": {
          "base_uri": "https://localhost:8080/"
        },
        "id": "OIHabcWUSPut",
        "outputId": "3b34f743-dd9c-4eae-be46-0df8ed2b0c25"
      },
      "source": [
        "P = 1\n",
        "P and (not P)"
      ],
      "execution_count": null,
      "outputs": [
        {
          "output_type": "execute_result",
          "data": {
            "text/plain": [
              "False"
            ]
          },
          "metadata": {
            "tags": []
          },
          "execution_count": 72
        }
      ]
    },
    {
      "cell_type": "code",
      "metadata": {
        "colab": {
          "base_uri": "https://localhost:8080/"
        },
        "id": "Zonf3ZMlSvT_",
        "outputId": "1b54fd91-9044-453a-e554-172a9090db3c"
      },
      "source": [
        "P = 0\n",
        "P and (not P)"
      ],
      "execution_count": null,
      "outputs": [
        {
          "output_type": "execute_result",
          "data": {
            "text/plain": [
              "0"
            ]
          },
          "metadata": {
            "tags": []
          },
          "execution_count": 73
        }
      ]
    },
    {
      "cell_type": "markdown",
      "metadata": {
        "id": "PeGpfG0hSzju"
      },
      "source": [
        "### Problem 18"
      ]
    },
    {
      "cell_type": "markdown",
      "metadata": {
        "id": "XWD9F8y1TCtD"
      },
      "source": [
        "Let $P$ and $Q$ be logical expressions. De Morgan’s rule states that $NOT \\ (P \\ OR \\ Q) \\ = \\ (NOT \\ P) \\ AND \\ (NOT \\ Q)$ and $NOT \\ (P \\ AND \\ Q) \\ = \\ (NOT \\ P) \\ OR \\ (NOT \\ Q)$. Generate the truth tables for each statement to show that De Morgan’s rule is always true."
      ]
    },
    {
      "cell_type": "code",
      "metadata": {
        "colab": {
          "base_uri": "https://localhost:8080/"
        },
        "id": "95KLXUw2SxoZ",
        "outputId": "271fd3ed-c73e-4737-ea4d-e17c3cef3cb1"
      },
      "source": [
        "for p in range(0,2):\n",
        "  for q in range (0,2):\n",
        "    print(\"Para p = \" + str(p) + \" y q = \" + str(q))\n",
        "    print(\"Verifico 1º Ley: not (p or q) = not p and not q\")\n",
        "    print(not (p or q))\n",
        "    print((not p and not q))\n",
        "    print(\"Verifico 2º Ley: not (p and q) = not p or not q\")\n",
        "    print(not (p and q))\n",
        "    print((not p) or (not q))"
      ],
      "execution_count": null,
      "outputs": [
        {
          "output_type": "stream",
          "text": [
            "Para p = 0 y q = 0\n",
            "Verifico 1º Ley: not (p or q) = not p and not q\n",
            "True\n",
            "True\n",
            "Verifico 2º Ley: not (p and q) = not p or not q\n",
            "True\n",
            "True\n",
            "Para p = 0 y q = 1\n",
            "Verifico 1º Ley: not (p or q) = not p and not q\n",
            "False\n",
            "False\n",
            "Verifico 2º Ley: not (p and q) = not p or not q\n",
            "True\n",
            "True\n",
            "Para p = 1 y q = 0\n",
            "Verifico 1º Ley: not (p or q) = not p and not q\n",
            "False\n",
            "False\n",
            "Verifico 2º Ley: not (p and q) = not p or not q\n",
            "True\n",
            "True\n",
            "Para p = 1 y q = 1\n",
            "Verifico 1º Ley: not (p or q) = not p and not q\n",
            "False\n",
            "False\n",
            "Verifico 2º Ley: not (p and q) = not p or not q\n",
            "False\n",
            "False\n"
          ],
          "name": "stdout"
        }
      ]
    },
    {
      "cell_type": "markdown",
      "metadata": {
        "id": "AeV1BZMuTmwL"
      },
      "source": [
        "### Problem 19"
      ]
    },
    {
      "cell_type": "markdown",
      "metadata": {
        "id": "Z-xMjMMcTp_L"
      },
      "source": [
        "Under what conditions for $P$ and $Q$ is $(P \\ AND \\ Q) \\ OR \\ [P \\ AND \\ (NOT \\ Q)]$ false?"
      ]
    },
    {
      "cell_type": "code",
      "metadata": {
        "colab": {
          "base_uri": "https://localhost:8080/"
        },
        "id": "Phxi5V_XTenE",
        "outputId": "0502aed3-8bf5-44c0-bc8e-2d3b4298e754"
      },
      "source": [
        "for p in range(0,2):\n",
        "  for q in range (0,2):\n",
        "    print(\"Para p = \" + str(p) + \" y q = \" + str(q))\n",
        "    print(\"Verifico que (p and q) or [p and (not q)] sea falsa\")\n",
        "    print(not (p or q) or (p and (not q)))"
      ],
      "execution_count": null,
      "outputs": [
        {
          "output_type": "stream",
          "text": [
            "Para p = 0 y q = 0\n",
            "Verifico que (p and q) or [p and (not q)] sea falsa\n",
            "True\n",
            "Para p = 0 y q = 1\n",
            "Verifico que (p and q) or [p and (not q)] sea falsa\n",
            "0\n",
            "Para p = 1 y q = 0\n",
            "Verifico que (p and q) or [p and (not q)] sea falsa\n",
            "True\n",
            "Para p = 1 y q = 1\n",
            "Verifico que (p and q) or [p and (not q)] sea falsa\n",
            "False\n"
          ],
          "name": "stdout"
        }
      ]
    },
    {
      "cell_type": "markdown",
      "metadata": {
        "id": "OVnqei85VDH4"
      },
      "source": [
        "P             | Q             | (P  AND  Q) OR [P AND (NOT Q)]\n",
        "--------------|---------------|-----------------------------------------------\n",
        "0             | 0             | True\n",
        "0             | 1             | False\n",
        "1             | 0             | True\n",
        "1             | 1             | False"
      ]
    },
    {
      "cell_type": "markdown",
      "metadata": {
        "id": "_YEKHacpXia7"
      },
      "source": [
        "### Problem 20"
      ]
    },
    {
      "cell_type": "markdown",
      "metadata": {
        "id": "gcmdq-2sXlaV"
      },
      "source": [
        "Construct an equivalent logical expression for OR using only AND and NOT."
      ]
    },
    {
      "cell_type": "markdown",
      "metadata": {
        "id": "ChmzSX40YK8g"
      },
      "source": [
        "Using logical expression OR:"
      ]
    },
    {
      "cell_type": "code",
      "metadata": {
        "colab": {
          "base_uri": "https://localhost:8080/"
        },
        "id": "-J-X1f8-WO9C",
        "outputId": "76092299-c806-45e9-8eee-26a84789397c"
      },
      "source": [
        "for p in range(0,2):\n",
        "  for q in range (0,2):\n",
        "    print(\"Para p = \" + str(p) + \" y q = \" + str(q))\n",
        "    print(p or q)"
      ],
      "execution_count": null,
      "outputs": [
        {
          "output_type": "stream",
          "text": [
            "Para p = 0 y q = 0\n",
            "0\n",
            "Para p = 0 y q = 1\n",
            "1\n",
            "Para p = 1 y q = 0\n",
            "1\n",
            "Para p = 1 y q = 1\n",
            "1\n"
          ],
          "name": "stdout"
        }
      ]
    },
    {
      "cell_type": "markdown",
      "metadata": {
        "id": "a7MTBDzcY57h"
      },
      "source": [
        "Using $NOT \\ [(NOT \\ P) \\ AND \\ (NOT \\ Q)] $\n",
        "\n",
        "(Taken from De Morgan's rule)"
      ]
    },
    {
      "cell_type": "code",
      "metadata": {
        "colab": {
          "base_uri": "https://localhost:8080/"
        },
        "id": "0OBGKrjzYFs1",
        "outputId": "4ba737b6-8fed-4805-d7c4-c8ed580f58cd"
      },
      "source": [
        "for p in range(0,2):\n",
        "  for q in range (0,2):\n",
        "    print(\"Para p = \" + str(p) + \" y q = \" + str(q))\n",
        "    print(not((not p) and (not q)))"
      ],
      "execution_count": null,
      "outputs": [
        {
          "output_type": "stream",
          "text": [
            "Para p = 0 y q = 0\n",
            "False\n",
            "Para p = 0 y q = 1\n",
            "True\n",
            "Para p = 1 y q = 0\n",
            "True\n",
            "Para p = 1 y q = 1\n",
            "True\n"
          ],
          "name": "stdout"
        }
      ]
    },
    {
      "cell_type": "markdown",
      "metadata": {
        "id": "RDReKewuZIPt"
      },
      "source": [
        "Successfully completed."
      ]
    },
    {
      "cell_type": "markdown",
      "metadata": {
        "id": "d8ZS8onyZMgd"
      },
      "source": [
        "### Problem 21"
      ]
    },
    {
      "cell_type": "markdown",
      "metadata": {
        "id": "p2GsBH74ZaHN"
      },
      "source": [
        "Construct an equivalent logical expression for AND using only OR and NOT"
      ]
    },
    {
      "cell_type": "markdown",
      "metadata": {
        "id": "GNOyLTHxZ1Jr"
      },
      "source": [
        "Using $P \\ AND \\ Q$"
      ]
    },
    {
      "cell_type": "code",
      "metadata": {
        "colab": {
          "base_uri": "https://localhost:8080/"
        },
        "id": "2LRN_wuoYzH3",
        "outputId": "ed162e47-69dc-4bfb-8964-c4db8a692e46"
      },
      "source": [
        "for p in range(0,2):\n",
        "  for q in range (0,2):\n",
        "    print(\"Para p = \" + str(p) + \" y q = \" + str(q))\n",
        "    print(p and q)"
      ],
      "execution_count": null,
      "outputs": [
        {
          "output_type": "stream",
          "text": [
            "Para p = 0 y q = 0\n",
            "0\n",
            "Para p = 0 y q = 1\n",
            "0\n",
            "Para p = 1 y q = 0\n",
            "0\n",
            "Para p = 1 y q = 1\n",
            "1\n"
          ],
          "name": "stdout"
        }
      ]
    },
    {
      "cell_type": "markdown",
      "metadata": {
        "id": "d6KvvIYWZ7Cx"
      },
      "source": [
        "Using $NOT \\ [(NOT \\ P) \\ OR \\ (NOT \\ Q)] $\n",
        "\n",
        "(Taken from De Morgan's rule)"
      ]
    },
    {
      "cell_type": "code",
      "metadata": {
        "colab": {
          "base_uri": "https://localhost:8080/"
        },
        "id": "HHX6WbuLZq7I",
        "outputId": "1a60b332-ebdc-4381-de46-a8af270181d3"
      },
      "source": [
        "for p in range(0,2):\n",
        "  for q in range (0,2):\n",
        "    print(\"Para p = \" + str(p) + \" y q = \" + str(q))\n",
        "    print(not((not p) or (not q)))"
      ],
      "execution_count": null,
      "outputs": [
        {
          "output_type": "stream",
          "text": [
            "Para p = 0 y q = 0\n",
            "False\n",
            "Para p = 0 y q = 1\n",
            "False\n",
            "Para p = 1 y q = 0\n",
            "False\n",
            "Para p = 1 y q = 1\n",
            "True\n"
          ],
          "name": "stdout"
        }
      ]
    },
    {
      "cell_type": "markdown",
      "metadata": {
        "id": "tEyt8LyeaQOM"
      },
      "source": [
        "### Problem 22"
      ]
    },
    {
      "cell_type": "markdown",
      "metadata": {
        "id": "3HM4evOLaS6O"
      },
      "source": [
        "The logical operator XOR has the following truth table:\n",
        "\n",
        "![image.png](data:image/png;base64,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)\n",
        "\n",
        "Construct an equivalent logical expression for XOR using only AND, OR, and NOT that has the same truth table (see the following figure)\n",
        "\n"
      ]
    },
    {
      "cell_type": "code",
      "metadata": {
        "colab": {
          "base_uri": "https://localhost:8080/"
        },
        "id": "7-QzVvGwZyLT",
        "outputId": "a363222d-7e18-4f62-933e-6e1311eb3310"
      },
      "source": [
        "print(\"Se plantea que el comando equivalente al XOR es P and not Q\")\n",
        "for p in range(0,2):\n",
        "  for q in range (0,2):\n",
        "    print(\"Para P = \" + str(p) + \" y Q = \" + str(q))\n",
        "    print((p and not q) or (not p and q))"
      ],
      "execution_count": null,
      "outputs": [
        {
          "output_type": "stream",
          "text": [
            "Se plantea que el comando equivalente al XOR es P and not Q\n",
            "Para P = 0 y Q = 0\n",
            "0\n",
            "Para P = 0 y Q = 1\n",
            "1\n",
            "Para P = 1 y Q = 0\n",
            "True\n",
            "Para P = 1 y Q = 1\n",
            "False\n"
          ],
          "name": "stdout"
        }
      ]
    },
    {
      "cell_type": "markdown",
      "metadata": {
        "id": "fS-h3FoIbX7m"
      },
      "source": [
        "### Extra exercise 1"
      ]
    },
    {
      "cell_type": "markdown",
      "metadata": {
        "id": "aQsy4ONObatH"
      },
      "source": [
        "Do the following calculation at the Python command prompt.\n",
        "$e^2sin\\frac{π}{6}+log_e(3)cos(\\frac{π}{9})−5^3$"
      ]
    },
    {
      "cell_type": "code",
      "metadata": {
        "colab": {
          "base_uri": "https://localhost:8080/"
        },
        "id": "cr7x3HLBbuCJ",
        "outputId": "c806743d-db08-4c32-db7d-4d696f43e824"
      },
      "source": [
        "math.exp(2) * math.sin(math.pi * 1/6) + math.log(3) * math.cos(math.pi *1/9) - 5**3"
      ],
      "execution_count": null,
      "outputs": [
        {
          "output_type": "execute_result",
          "data": {
            "text/plain": [
              "-120.27311408976854"
            ]
          },
          "metadata": {
            "tags": []
          },
          "execution_count": 81
        }
      ]
    },
    {
      "cell_type": "markdown",
      "metadata": {
        "id": "Rk7eGmBebT5Q"
      },
      "source": [
        "### Extra exercise 2"
      ]
    },
    {
      "cell_type": "markdown",
      "metadata": {
        "id": "j50VW5_Oa1b4"
      },
      "source": [
        "Do the following logical and comparison operations at the Python command prompt. You may assume that P and Q are logical expressions.\n",
        "\n",
        "For P = 1 and Q = 1; Compute NOT(P) AND NOT(Q).\n",
        "\n",
        "For a = 10 and b = 25; Compute (a<b) AND (a=b)."
      ]
    },
    {
      "cell_type": "code",
      "metadata": {
        "colab": {
          "base_uri": "https://localhost:8080/"
        },
        "id": "AlCw89ElbB9I",
        "outputId": "11f77db0-c6bc-404b-d47f-c85c28299478"
      },
      "source": [
        "p = 1\n",
        "q = 1\n",
        "(not p) and (not q)"
      ],
      "execution_count": null,
      "outputs": [
        {
          "output_type": "execute_result",
          "data": {
            "text/plain": [
              "False"
            ]
          },
          "metadata": {
            "tags": []
          },
          "execution_count": 82
        }
      ]
    },
    {
      "cell_type": "code",
      "metadata": {
        "colab": {
          "base_uri": "https://localhost:8080/"
        },
        "id": "8Cikt6VLanTa",
        "outputId": "08a6076e-2428-44f4-ec83-9d92a590b6a5"
      },
      "source": [
        "a=10\n",
        "b=25\n",
        "(a<b) and (a == b)"
      ],
      "execution_count": null,
      "outputs": [
        {
          "output_type": "execute_result",
          "data": {
            "text/plain": [
              "False"
            ]
          },
          "metadata": {
            "tags": []
          },
          "execution_count": 83
        }
      ]
    },
    {
      "cell_type": "markdown",
      "metadata": {
        "id": "8c4WrVzucQzs"
      },
      "source": [
        "# Chapter 2: Variables and Basic Data Structures"
      ]
    },
    {
      "cell_type": "markdown",
      "metadata": {
        "id": "IwKrXBHCcvBI"
      },
      "source": [
        "1. Assign the value 2 to the variable x and the value 3 to the variable y. Clear just the variable x."
      ]
    },
    {
      "cell_type": "code",
      "metadata": {
        "colab": {
          "base_uri": "https://localhost:8080/"
        },
        "id": "vM0JP9IzbBA5",
        "outputId": "7b02a4fc-1249-46f9-b3f5-e0dc3617f4f9"
      },
      "source": [
        "x = 2\n",
        "y = 3\n",
        "print('x =' , str(x) , 'and y = ' , str(y) , )"
      ],
      "execution_count": null,
      "outputs": [
        {
          "output_type": "stream",
          "text": [
            "x = 2 and y =  3\n"
          ],
          "name": "stdout"
        }
      ]
    },
    {
      "cell_type": "code",
      "metadata": {
        "id": "UvsBIKHqdLnB"
      },
      "source": [
        "del x"
      ],
      "execution_count": null,
      "outputs": []
    },
    {
      "cell_type": "markdown",
      "metadata": {
        "id": "b5UPcx4SdXu3"
      },
      "source": [
        "2. Write a line of code that generates the following error:\n",
        "\n",
        "![image.png](data:image/png;base64,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)"
      ]
    },
    {
      "cell_type": "code",
      "metadata": {
        "colab": {
          "base_uri": "https://localhost:8080/",
          "height": 163
        },
        "id": "douo_tBodVD7",
        "outputId": "c9fd8786-8be7-479d-993b-1f95bc7079f3"
      },
      "source": [
        "x"
      ],
      "execution_count": null,
      "outputs": [
        {
          "output_type": "error",
          "ename": "NameError",
          "evalue": "ignored",
          "traceback": [
            "\u001b[0;31m---------------------------------------------------------------------------\u001b[0m",
            "\u001b[0;31mNameError\u001b[0m                                 Traceback (most recent call last)",
            "\u001b[0;32m<ipython-input-157-6fcf9dfbd479>\u001b[0m in \u001b[0;36m<module>\u001b[0;34m()\u001b[0m\n\u001b[0;32m----> 1\u001b[0;31m \u001b[0mx\u001b[0m\u001b[0;34m\u001b[0m\u001b[0;34m\u001b[0m\u001b[0m\n\u001b[0m",
            "\u001b[0;31mNameError\u001b[0m: name 'x' is not defined"
          ]
        }
      ]
    },
    {
      "cell_type": "markdown",
      "metadata": {
        "id": "X_JsUBXldl1a"
      },
      "source": [
        "3. Let x = 10 and y = 3. Write a line of code that will make each of the following assignments.\n",
        "\n",
        "![image.png](data:image/png;base64,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)"
      ]
    },
    {
      "cell_type": "code",
      "metadata": {
        "id": "1bY6AxrBdVqC"
      },
      "source": [
        "x = 10\n",
        "y = 3\n",
        "print('x =' , str(x) , 'and y = ' , str(y) , )\n",
        "u = x + y\n",
        "v = x * y\n",
        "w = x / y\n",
        "z = math.sin(x)\n",
        "r = 8 * math.sin(x)\n",
        "s = 5 * math.sin(x * y)\n",
        "p = x**y \n",
        "print('u =' , str(u) ,', v =' , str(v) ,', z =' , str(z) ,', r =' , str(r) ,', s =' , str(s) ,', p =' , str(p) , )"
      ],
      "execution_count": null,
      "outputs": []
    },
    {
      "cell_type": "markdown",
      "metadata": {
        "id": "iuETkfKce10E"
      },
      "source": [
        "### Problem 1"
      ]
    },
    {
      "cell_type": "markdown",
      "metadata": {
        "id": "0gAxZQrte8hM"
      },
      "source": [
        "Show all the variables in the Jupyter notebook after you finish problem 3."
      ]
    },
    {
      "cell_type": "markdown",
      "metadata": {
        "id": "fVO9MYGEe__S"
      },
      "source": [
        "* Done in the previous problem."
      ]
    },
    {
      "cell_type": "markdown",
      "metadata": {
        "id": "xnfHHEmofEUR"
      },
      "source": [
        "### Problem 2"
      ]
    },
    {
      "cell_type": "markdown",
      "metadata": {
        "id": "7iE2MbFlfO5t"
      },
      "source": [
        "Assign string ‘123’ to the variable S. Convert the string into a float type and assign the output to the variable N. Verify that S is a string and N is a float using the type function."
      ]
    },
    {
      "cell_type": "code",
      "metadata": {
        "id": "TADFoMeTd3Wb"
      },
      "source": [
        "S = '123'"
      ],
      "execution_count": null,
      "outputs": []
    },
    {
      "cell_type": "code",
      "metadata": {
        "id": "LCDdEY3afSuB"
      },
      "source": [
        "N = float(S)"
      ],
      "execution_count": null,
      "outputs": []
    },
    {
      "cell_type": "code",
      "metadata": {
        "id": "hIUMH6GtfsVC"
      },
      "source": [
        "type(S)"
      ],
      "execution_count": null,
      "outputs": []
    },
    {
      "cell_type": "code",
      "metadata": {
        "id": "u6Txx8tNfuee"
      },
      "source": [
        "type(N)"
      ],
      "execution_count": null,
      "outputs": []
    },
    {
      "cell_type": "markdown",
      "metadata": {
        "id": "YpTEVMtLf1a-"
      },
      "source": [
        "### Problem 3"
      ]
    },
    {
      "cell_type": "markdown",
      "metadata": {
        "id": "IyQUVTU1gFNz"
      },
      "source": [
        "Assign the string ‘HELLO’ to the variable s1 and the string ‘hello’ to the variable s2.\n",
        "\n",
        "Use the == operator to show that they are not equal.\n",
        "\n",
        "Use the == operator to show that s1 and s2 are equal if the lower method is used on s1.\n",
        "\n",
        "Use the == operator to show that s1 and s2 are equal if upper method is used on s2."
      ]
    },
    {
      "cell_type": "code",
      "metadata": {
        "id": "nSY2VuVBfz8S"
      },
      "source": [
        "s1 = 'HELLO'\n",
        "s2 = 'hello'"
      ],
      "execution_count": null,
      "outputs": []
    },
    {
      "cell_type": "code",
      "metadata": {
        "id": "m_Fpw9zEgTfN"
      },
      "source": [
        "s1 == s2"
      ],
      "execution_count": null,
      "outputs": []
    },
    {
      "cell_type": "code",
      "metadata": {
        "id": "AVAMTfFChCpK"
      },
      "source": [
        "s1.lower() == s2"
      ],
      "execution_count": null,
      "outputs": []
    },
    {
      "cell_type": "code",
      "metadata": {
        "id": "u81b1STRhNFo"
      },
      "source": [
        "s1 == s2.upper()"
      ],
      "execution_count": null,
      "outputs": []
    },
    {
      "cell_type": "markdown",
      "metadata": {
        "id": "Har4gEjYhV1h"
      },
      "source": [
        "### Problem 4"
      ]
    },
    {
      "cell_type": "markdown",
      "metadata": {
        "id": "oVX_R5kThX6K"
      },
      "source": [
        "Use the print function to generate the following strings.\n",
        "\n",
        "* The word ‘Engineering’ has 11 letters.\n",
        "\n",
        "* The word ‘Book’ has 4 letters."
      ]
    },
    {
      "cell_type": "code",
      "metadata": {
        "id": "z_QlyrZQhPy-"
      },
      "source": [
        "print('The word \\' Engineering \\' has 11 letters')\n",
        "print('The word \\' Book \\' has 4 letters')"
      ],
      "execution_count": null,
      "outputs": []
    },
    {
      "cell_type": "markdown",
      "metadata": {
        "id": "lAukcVglhvrF"
      },
      "source": [
        "### Problem 5"
      ]
    },
    {
      "cell_type": "markdown",
      "metadata": {
        "id": "UabnmQ7rh1zH"
      },
      "source": [
        "Check if ‘Python’ is in ‘Python is great!’"
      ]
    },
    {
      "cell_type": "code",
      "metadata": {
        "id": "-LE1y1tIhoNz"
      },
      "source": [
        "'Python' in 'Python is great!'"
      ],
      "execution_count": null,
      "outputs": []
    },
    {
      "cell_type": "markdown",
      "metadata": {
        "id": "R0S7ROmoiZ91"
      },
      "source": [
        "### Problem 6"
      ]
    },
    {
      "cell_type": "markdown",
      "metadata": {
        "id": "-ghLhJsJihBJ"
      },
      "source": [
        "Get the last word ‘great’ from ‘Python is great!’"
      ]
    },
    {
      "cell_type": "code",
      "metadata": {
        "id": "Yzt63XfCiYex"
      },
      "source": [
        "w = 'Python is great!'\n",
        "w[10:-1]"
      ],
      "execution_count": null,
      "outputs": []
    },
    {
      "cell_type": "markdown",
      "metadata": {
        "id": "xcH1xfZ3jRw-"
      },
      "source": [
        "### Problem 7 "
      ]
    },
    {
      "cell_type": "markdown",
      "metadata": {
        "id": "N2SeF3TNjZYH"
      },
      "source": [
        "Assign list [1, 8, 9, 15] to a variable *list_a* and insert 2 at index 1 using the insert method. Append 4 to the *list_a* using the append method.\n",
        "\n"
      ]
    },
    {
      "cell_type": "code",
      "metadata": {
        "id": "NJcN4laYjFDz"
      },
      "source": [
        "list_a = [1,8,9,15]"
      ],
      "execution_count": null,
      "outputs": []
    },
    {
      "cell_type": "code",
      "metadata": {
        "id": "46NLmczXLyjJ"
      },
      "source": [
        "list_a.insert(0,2)"
      ],
      "execution_count": null,
      "outputs": []
    },
    {
      "cell_type": "code",
      "metadata": {
        "id": "5Lnryvs5MUPC"
      },
      "source": [
        "list_a"
      ],
      "execution_count": null,
      "outputs": []
    },
    {
      "cell_type": "code",
      "metadata": {
        "id": "UE96zf93MZ1g"
      },
      "source": [
        "list_a.append(4)"
      ],
      "execution_count": null,
      "outputs": []
    },
    {
      "cell_type": "code",
      "metadata": {
        "id": "Wz7_krfGMo0I"
      },
      "source": [
        "list_a"
      ],
      "execution_count": null,
      "outputs": []
    },
    {
      "cell_type": "markdown",
      "metadata": {
        "id": "YbWoRNnAMs_O"
      },
      "source": [
        "### Problem 8"
      ]
    },
    {
      "cell_type": "markdown",
      "metadata": {
        "id": "yFHwXlJAMwJT"
      },
      "source": [
        "Sort the list_a in problem 7 in ascending order."
      ]
    },
    {
      "cell_type": "code",
      "metadata": {
        "id": "SCOp4Y-3Mp2g"
      },
      "source": [
        "list_a = [1,2,4,8,9,15]\n",
        "list_a"
      ],
      "execution_count": null,
      "outputs": []
    },
    {
      "cell_type": "markdown",
      "metadata": {
        "id": "B1B0vm59N5wT"
      },
      "source": [
        "### Problem 9"
      ]
    },
    {
      "cell_type": "markdown",
      "metadata": {
        "id": "Z3rKCExKN74w"
      },
      "source": [
        "Turn ‘Python is great!’ to a list."
      ]
    },
    {
      "cell_type": "code",
      "metadata": {
        "id": "HajbUzFFNvIA"
      },
      "source": [
        "list_z = ['Python','is','great','!']"
      ],
      "execution_count": null,
      "outputs": []
    },
    {
      "cell_type": "code",
      "metadata": {
        "id": "iouBmTaYOGiD"
      },
      "source": [
        "list_z"
      ],
      "execution_count": null,
      "outputs": []
    },
    {
      "cell_type": "markdown",
      "metadata": {
        "id": "_kfN54rbPlCm"
      },
      "source": [
        "### Problem 10"
      ]
    },
    {
      "cell_type": "markdown",
      "metadata": {
        "id": "75pSctBRPoUV"
      },
      "source": [
        "Create one tuple with element ‘One’, 1 and assign it to tuple_a"
      ]
    },
    {
      "cell_type": "code",
      "metadata": {
        "id": "X8djyamRPkAo"
      },
      "source": [
        "tuple_x = ('One', 1)"
      ],
      "execution_count": null,
      "outputs": []
    },
    {
      "cell_type": "code",
      "metadata": {
        "id": "Vl9kuFUKP817"
      },
      "source": [
        "tuple_a = tuple_x"
      ],
      "execution_count": null,
      "outputs": []
    },
    {
      "cell_type": "code",
      "metadata": {
        "id": "ebbro3pcP_NR"
      },
      "source": [
        "tuple_a"
      ],
      "execution_count": null,
      "outputs": []
    },
    {
      "cell_type": "markdown",
      "metadata": {
        "id": "UC6b0AWsTfr-"
      },
      "source": [
        "### Problem 11"
      ]
    },
    {
      "cell_type": "markdown",
      "metadata": {
        "id": "0mIgLhOhTiDa"
      },
      "source": [
        "Get the 2nd element in the tuple_a in problem 10."
      ]
    },
    {
      "cell_type": "code",
      "metadata": {
        "id": "LM9eUKcUTkj2"
      },
      "source": [
        "tuple_a[1]"
      ],
      "execution_count": null,
      "outputs": []
    },
    {
      "cell_type": "markdown",
      "metadata": {
        "id": "wkeWzAMqQCVK"
      },
      "source": [
        "### Problem 12"
      ]
    },
    {
      "cell_type": "markdown",
      "metadata": {
        "id": "9GSrQWSTQJLL"
      },
      "source": [
        "Get the unique element from (2, 3, 2, 3, 1, 2, 5)."
      ]
    },
    {
      "cell_type": "code",
      "metadata": {
        "id": "D0l2LGwORAuG"
      },
      "source": [
        "uio = (2,3,2,3,1,2,5)"
      ],
      "execution_count": null,
      "outputs": []
    },
    {
      "cell_type": "code",
      "metadata": {
        "id": "0L3jj7E-QAbC"
      },
      "source": [
        "set(uio)"
      ],
      "execution_count": null,
      "outputs": []
    },
    {
      "cell_type": "markdown",
      "metadata": {
        "id": "nh6A_yh3RIXH"
      },
      "source": [
        "### Problem 13"
      ]
    },
    {
      "cell_type": "markdown",
      "metadata": {
        "id": "j00dYQcYRR7n"
      },
      "source": [
        "Assign (2, 3, 2) to set_a, and (1, 2, 3) to set_b. Get the following:\n",
        "\n",
        "* union of set_a and set_b\n",
        "\n",
        "* intersection of set_a and set_b\n",
        "\n",
        "* difference of set_a to set_b using difference method"
      ]
    },
    {
      "cell_type": "code",
      "metadata": {
        "id": "-diV_rvzQUmD"
      },
      "source": [
        "set_a = set((2,3,2))\n",
        "set_b = set((1,2,3))"
      ],
      "execution_count": null,
      "outputs": []
    },
    {
      "cell_type": "code",
      "metadata": {
        "id": "jPCDcwidRbbW"
      },
      "source": [
        "set_a.union(set_b)"
      ],
      "execution_count": null,
      "outputs": []
    },
    {
      "cell_type": "code",
      "metadata": {
        "id": "dR2FyLpVRiMj"
      },
      "source": [
        "set_a.intersection(set_b)"
      ],
      "execution_count": null,
      "outputs": []
    },
    {
      "cell_type": "code",
      "metadata": {
        "id": "VgE1fhoTR7aq"
      },
      "source": [
        "set_b - set_a"
      ],
      "execution_count": null,
      "outputs": []
    },
    {
      "cell_type": "markdown",
      "metadata": {
        "id": "yp_MZHidSMiX"
      },
      "source": [
        "### Problem 14"
      ]
    },
    {
      "cell_type": "markdown",
      "metadata": {
        "id": "apJ42gTcSTEy"
      },
      "source": [
        "Create a dictionary that has the keys ‘A’, ‘B’, ‘C’ with values ‘a’, ‘b’, ‘c’ individually. Print all the keys in the dictionary."
      ]
    },
    {
      "cell_type": "code",
      "metadata": {
        "id": "fHHmfGgRSED2"
      },
      "source": [
        "dict_1 = {'A':'a', 'B':'b', 'C':'c'}"
      ],
      "execution_count": null,
      "outputs": []
    },
    {
      "cell_type": "code",
      "metadata": {
        "id": "Knbe53gHSpgQ"
      },
      "source": [
        "dict_1['A']"
      ],
      "execution_count": null,
      "outputs": []
    },
    {
      "cell_type": "code",
      "metadata": {
        "id": "TAeOkmmZSrcg"
      },
      "source": [
        "dict_1['B']"
      ],
      "execution_count": null,
      "outputs": []
    },
    {
      "cell_type": "code",
      "metadata": {
        "id": "sG2spwliSwRy"
      },
      "source": [
        "dict_1['C']"
      ],
      "execution_count": null,
      "outputs": []
    },
    {
      "cell_type": "code",
      "metadata": {
        "id": "eGVlyNp7Sxrv"
      },
      "source": [
        "dict_1.keys()"
      ],
      "execution_count": null,
      "outputs": []
    },
    {
      "cell_type": "markdown",
      "metadata": {
        "id": "i2QMqyFkS9Bp"
      },
      "source": [
        "### Problem 15"
      ]
    },
    {
      "cell_type": "markdown",
      "metadata": {
        "id": "3-JHbaiiTBhS"
      },
      "source": [
        "Check if key ‘B’ is in the dictionary defined in problem 13."
      ]
    },
    {
      "cell_type": "markdown",
      "metadata": {
        "id": "ruePxulsTGEX"
      },
      "source": [
        "* Done in the previous problem."
      ]
    },
    {
      "cell_type": "markdown",
      "metadata": {
        "id": "mh-LrhZQTJYk"
      },
      "source": [
        "### Problem 16"
      ]
    },
    {
      "cell_type": "markdown",
      "metadata": {
        "id": "1tPAFxl6TPJ9"
      },
      "source": [
        "Create array x and y, where x = [1, 4, 3, 2, 9, 4] and y=[2, 3, 4, 1, 2, 3]. Compute the assignments from Problem 3."
      ]
    },
    {
      "cell_type": "code",
      "metadata": {
        "id": "yW1C1uo8S5DQ"
      },
      "source": [
        "import numpy as np"
      ],
      "execution_count": null,
      "outputs": []
    },
    {
      "cell_type": "code",
      "metadata": {
        "id": "JYJDng_vT0Wi"
      },
      "source": [
        "x = np.array([1,4,3,2,9,4])\n",
        "y = np.array([2,3,4,1,2,3])"
      ],
      "execution_count": null,
      "outputs": []
    },
    {
      "cell_type": "markdown",
      "metadata": {
        "id": "qwyeWbs7UYCz"
      },
      "source": [
        "Taken from third exercise, using numpy libraries:"
      ]
    },
    {
      "cell_type": "code",
      "metadata": {
        "id": "yxV8qG-fUINC"
      },
      "source": [
        "u = x + y\n",
        "v = x * y\n",
        "w = x / y\n",
        "p = x**y \n",
        "z = np.sin(x)\n",
        "r = 8 * np.sin(x)\n",
        "s = 5 * np.sin(x * y)\n",
        "print('u =' , str(u) ,', v =' , str(v) ,', z =' , str(z) ,', r =' , str(r) ,', s =' , str(s) ,', p =' , str(p) , )"
      ],
      "execution_count": null,
      "outputs": []
    },
    {
      "cell_type": "markdown",
      "metadata": {
        "id": "dEajZeujWGEj"
      },
      "source": [
        "### Problem 17"
      ]
    },
    {
      "cell_type": "markdown",
      "metadata": {
        "id": "f3NSVUSCWJdz"
      },
      "source": [
        "Generate an array with size 100 evenly spaced between -10 to 10 using linspace function in Numpy."
      ]
    },
    {
      "cell_type": "code",
      "metadata": {
        "id": "MEz_1MiNURVv"
      },
      "source": [
        "np.linspace(-10,10,100)"
      ],
      "execution_count": null,
      "outputs": []
    },
    {
      "cell_type": "markdown",
      "metadata": {
        "id": "W5ecn2fHWazp"
      },
      "source": [
        "### Problem 18"
      ]
    },
    {
      "cell_type": "markdown",
      "metadata": {
        "id": "gjI8LCZvWd34"
      },
      "source": [
        "Let array_a be an array [-1, 0, 1, 2, 0, 3]. Write a command that will return an array consisting of all the elements of array_a that are larger than zero. Hint: Use logical expression as the index of the array."
      ]
    },
    {
      "cell_type": "code",
      "metadata": {
        "id": "CNY6cTvMWX64"
      },
      "source": [
        "array_a = np.array([-1,0,1,2,0,3])"
      ],
      "execution_count": null,
      "outputs": []
    },
    {
      "cell_type": "code",
      "metadata": {
        "id": "nfiLgsmWY6A5"
      },
      "source": [
        "del array_c\n",
        "array_c = []"
      ],
      "execution_count": null,
      "outputs": []
    },
    {
      "cell_type": "code",
      "metadata": {
        "id": "uLtZeyoQXL2V"
      },
      "source": [
        "for i in range(0,len(array_a)):\n",
        "  if array_a[i]>0:\n",
        "    array_c.append(array_a[i])"
      ],
      "execution_count": null,
      "outputs": []
    },
    {
      "cell_type": "code",
      "metadata": {
        "colab": {
          "base_uri": "https://localhost:8080/"
        },
        "id": "m1aPSQ_hXWap",
        "outputId": "1f865788-d7b3-4fdb-93f0-051063f782a7"
      },
      "source": [
        "array_c"
      ],
      "execution_count": null,
      "outputs": [
        {
          "output_type": "execute_result",
          "data": {
            "text/plain": [
              "[1, 2, 3]"
            ]
          },
          "metadata": {
            "tags": []
          },
          "execution_count": 167
        }
      ]
    },
    {
      "cell_type": "markdown",
      "metadata": {
        "id": "_U4G0iLkaJWq"
      },
      "source": [
        "### Problem 19"
      ]
    },
    {
      "cell_type": "markdown",
      "metadata": {
        "id": "m1e_95_paMAK"
      },
      "source": [
        "Create an array $y= \\begin{bmatrix} 3 & 5 & 3 \\\\ 2 & 2 & 5 \\\\ 3 & 8 & 9 \\end{bmatrix}$ and calculate the transpose of the array."
      ]
    },
    {
      "cell_type": "code",
      "metadata": {
        "colab": {
          "base_uri": "https://localhost:8080/"
        },
        "id": "DaYIiVWRaLeZ",
        "outputId": "a6762665-40bd-4695-d6bb-58ea572bc0d3"
      },
      "source": [
        "y = np.array([[3,5,3],[2,2,5],[3,8,9]])\n",
        "y"
      ],
      "execution_count": null,
      "outputs": [
        {
          "output_type": "execute_result",
          "data": {
            "text/plain": [
              "array([[3, 5, 3],\n",
              "       [2, 2, 5],\n",
              "       [3, 8, 9]])"
            ]
          },
          "metadata": {
            "tags": []
          },
          "execution_count": 170
        }
      ]
    },
    {
      "cell_type": "markdown",
      "metadata": {
        "id": "U3HG2l5hbGJu"
      },
      "source": [
        "$y^T$"
      ]
    },
    {
      "cell_type": "code",
      "metadata": {
        "colab": {
          "base_uri": "https://localhost:8080/"
        },
        "id": "A6UQwJ4CawSw",
        "outputId": "042faa75-f1ce-432a-cf10-387f0e9d1e60"
      },
      "source": [
        "y.T"
      ],
      "execution_count": null,
      "outputs": [
        {
          "output_type": "execute_result",
          "data": {
            "text/plain": [
              "array([[3, 2, 3],\n",
              "       [5, 2, 8],\n",
              "       [3, 5, 9]])"
            ]
          },
          "metadata": {
            "tags": []
          },
          "execution_count": 171
        }
      ]
    },
    {
      "cell_type": "markdown",
      "metadata": {
        "id": "Uu4JFujkbJSG"
      },
      "source": [
        "### Problem 20"
      ]
    },
    {
      "cell_type": "markdown",
      "metadata": {
        "id": "LMa1Mdy_bScO"
      },
      "source": [
        "Create a zero array with size (2, 4)."
      ]
    },
    {
      "cell_type": "code",
      "metadata": {
        "colab": {
          "base_uri": "https://localhost:8080/"
        },
        "id": "uOfh5nzibEgc",
        "outputId": "50ebd628-012d-424a-9e0a-bb9e498d5c57"
      },
      "source": [
        "a = np.zeros((2,4))\n",
        "a"
      ],
      "execution_count": null,
      "outputs": [
        {
          "output_type": "execute_result",
          "data": {
            "text/plain": [
              "array([[0., 0., 0., 0.],\n",
              "       [0., 0., 0., 0.]])"
            ]
          },
          "metadata": {
            "tags": []
          },
          "execution_count": 175
        }
      ]
    },
    {
      "cell_type": "markdown",
      "metadata": {
        "id": "tuJOGl2pfOia"
      },
      "source": [
        "### Problem 21"
      ]
    },
    {
      "cell_type": "markdown",
      "metadata": {
        "id": "ntDwEQByfWUt"
      },
      "source": [
        "Change the 2nd column in the above array to 1."
      ]
    },
    {
      "cell_type": "code",
      "metadata": {
        "colab": {
          "base_uri": "https://localhost:8080/"
        },
        "id": "XciF1Ex_banL",
        "outputId": "29eb725b-7093-4adf-de49-779f4a8c1576"
      },
      "source": [
        "a[0,1] = 1\n",
        "a[1,1] = 1\n",
        "a"
      ],
      "execution_count": null,
      "outputs": [
        {
          "output_type": "execute_result",
          "data": {
            "text/plain": [
              "array([[0., 1., 0., 0.],\n",
              "       [0., 1., 0., 0.]])"
            ]
          },
          "metadata": {
            "tags": []
          },
          "execution_count": 176
        }
      ]
    },
    {
      "cell_type": "markdown",
      "metadata": {
        "id": "ECsHuIJDf-QH"
      },
      "source": [
        "### Problem 22"
      ]
    },
    {
      "cell_type": "markdown",
      "metadata": {
        "id": "Ypkr3IsFgGT_"
      },
      "source": [
        "Write a cell magic to clear all the variables in the Jupyter notebook"
      ]
    },
    {
      "cell_type": "code",
      "metadata": {
        "colab": {
          "base_uri": "https://localhost:8080/"
        },
        "id": "rEw5CyqSgHO4",
        "outputId": "63ca2893-2e94-40b1-e1ca-9784ea476841"
      },
      "source": [
        "%reset"
      ],
      "execution_count": null,
      "outputs": [
        {
          "output_type": "stream",
          "text": [
            "Once deleted, variables cannot be recovered. Proceed (y/[n])? y\n"
          ],
          "name": "stdout"
        }
      ]
    },
    {
      "cell_type": "markdown",
      "metadata": {
        "id": "jMnsz6omgSf6"
      },
      "source": [
        "# Chapter 3: Functions"
      ]
    },
    {
      "cell_type": "code",
      "metadata": {
        "id": "iZ2icCwpgWBi"
      },
      "source": [
        ""
      ],
      "execution_count": null,
      "outputs": []
    }
  ]
}